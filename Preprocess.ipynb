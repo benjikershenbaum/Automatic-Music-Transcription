{
 "cells": [
  {
   "cell_type": "markdown",
   "metadata": {},
   "source": [
    "## Imports"
   ]
  },
  {
   "cell_type": "code",
   "execution_count": 97,
   "metadata": {},
   "outputs": [],
   "source": [
    "import os\n",
    "import sys\n",
    "import scipy\n",
    "import numpy as np\n",
    "import matplotlib.pyplot as plt\n",
    "from scipy.io import wavfile\n",
    "from scipy.signal import spectrogram, get_window"
   ]
  },
  {
   "cell_type": "markdown",
   "metadata": {},
   "source": [
    "## Process"
   ]
  },
  {
   "cell_type": "code",
   "execution_count": 4,
   "metadata": {},
   "outputs": [],
   "source": [
    "def stft (d,fs,winlen,nfft):\n",
    "    noverlap=fs/100\n",
    "    nperseg=winlen\n",
    "    win = get_window('hamming',winlen)\n",
    "    freqbin,tbin,spec=spectrogram(x=d,fs=fs,noverlap=noverlap,nperseg=nperseg,nfft=nfft,window=win)\n",
    "    spec=(spec*1000)+1\n",
    "    spec=np.real(np.log(spec))\n",
    "    spec[spec<0]=0\n",
    "    return spec, freqbin, tbin"
   ]
  },
  {
   "cell_type": "code",
   "execution_count": 5,
   "metadata": {},
   "outputs": [],
   "source": [
    "wav_path = os.path.join(os.getcwd(), 'Data//Recordings//test//Sound', 'MAPS_ISOL_CH0.1_F_AkPnBcht.wav')\n",
    "fs, data = wavfile.read(wav_path)"
   ]
  },
  {
   "cell_type": "code",
   "execution_count": 6,
   "metadata": {},
   "outputs": [],
   "source": [
    "data = data[:,1]"
   ]
  },
  {
   "cell_type": "code",
   "execution_count": 7,
   "metadata": {},
   "outputs": [],
   "source": [
    "# Define frequencies for notes up to 100 (first harmonic of 88th note)\n",
    "Notes = np.zeros(100)\n",
    "Notes[0] = 27.5\n",
    "for i in range(99):\n",
    "    Notes[i+1] = Notes[i]*(np.power(2,1/12))"
   ]
  },
  {
   "cell_type": "code",
   "execution_count": 8,
   "metadata": {
    "scrolled": true
   },
   "outputs": [],
   "source": [
    "winlen1=2048\n",
    "nfft1=2048\n",
    "\n",
    "winlen2=8192\n",
    "nfft2=8192"
   ]
  },
  {
   "cell_type": "code",
   "execution_count": 9,
   "metadata": {},
   "outputs": [],
   "source": [
    "spec1,freqbin1,tbin1 = stft(d=data,fs=fs,winlen=winlen1,nfft=nfft1)\n",
    "spec2,freqbin2,tbin2 = stft(d=data,fs=fs,winlen=winlen2,nfft=nfft2)"
   ]
  },
  {
   "cell_type": "code",
   "execution_count": 10,
   "metadata": {},
   "outputs": [
    {
     "data": {
      "text/plain": [
       "(599,)"
      ]
     },
     "execution_count": 10,
     "metadata": {},
     "output_type": "execute_result"
    }
   ],
   "source": [
    "tbin1.shape"
   ]
  },
  {
   "cell_type": "code",
   "execution_count": 13,
   "metadata": {},
   "outputs": [
    {
     "data": {
      "text/plain": [
       "(599, 100)"
      ]
     },
     "execution_count": 13,
     "metadata": {},
     "output_type": "execute_result"
    }
   ],
   "source": [
    "Q.shape"
   ]
  },
  {
   "cell_type": "code",
   "execution_count": 91,
   "metadata": {},
   "outputs": [],
   "source": [
    "Q=np.zeros([tbin1.shape[0],Notes.shape[0]])\n",
    "for i in range(spec1.shape[1]):\n",
    "    Z=spec1[:,i]\n",
    "    for j in range(Notes.shape[0]-1):\n",
    "        if j==0:\n",
    "            j=1\n",
    "        \n",
    "        f1=Notes[j-1]\n",
    "        f2=Notes[j+1]\n",
    "        wb1 = np.where(f1>=freqbin1)[0]\n",
    "        wb2 = np.where(f2<=freqbin1)[0]\n",
    "        wb=np.intersect1d(wb1,wb2)\n",
    "        bn=np.argmin(np.abs(freqbin1-Notes[j]))\n",
    "        \n",
    "        if ((wb.shape[0]==0) or wb.shape[0]==1):\n",
    "            Q[i,j]=Z[j]\n",
    "            \n",
    "        else:\n",
    "            x1 = wb[0:np.where(wb==bn)[0][0]+1]\n",
    "            x2 = wb[np.where(wb==bn)[0][0]:]\n",
    "            y1 = (x1-wb[0])/(x1.shape[0]-1)\n",
    "            y2 = 1-(x2-bn)/(x2.shape[0]-1)\n",
    "            y1[np.isnan(y1)]=1\n",
    "            y2[np.isnan(y2)]=1\n",
    "            Q[i,j]= (np.matmul(Z[x1],y1)+np.matmul(Z[x2],y2)-Z[bn])/(np.sum(y1)+np.sum(y2))"
   ]
  }
 ],
 "metadata": {
  "kernelspec": {
   "display_name": "Python 3",
   "language": "python",
   "name": "python3"
  },
  "language_info": {
   "codemirror_mode": {
    "name": "ipython",
    "version": 3
   },
   "file_extension": ".py",
   "mimetype": "text/x-python",
   "name": "python",
   "nbconvert_exporter": "python",
   "pygments_lexer": "ipython3",
   "version": "3.6.6"
  }
 },
 "nbformat": 4,
 "nbformat_minor": 2
}
