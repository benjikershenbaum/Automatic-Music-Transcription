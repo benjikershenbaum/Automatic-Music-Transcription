{
 "cells": [
  {
   "cell_type": "markdown",
   "metadata": {},
   "source": [
    "# Process Inputs:"
   ]
  },
  {
   "cell_type": "markdown",
   "metadata": {},
   "source": [
    "## Imports"
   ]
  },
  {
   "cell_type": "code",
   "execution_count": 1,
   "metadata": {},
   "outputs": [],
   "source": [
    "import os\n",
    "import scipy\n",
    "import numpy as np\n",
    "from scipy.io import wavfile\n",
    "import pandas as pd\n",
    "from scipy.signal import spectrogram, get_window\n",
    "from os import listdir"
   ]
  },
  {
   "cell_type": "markdown",
   "metadata": {},
   "source": [
    "## stft"
   ]
  },
  {
   "cell_type": "markdown",
   "metadata": {},
   "source": [
    "In the stft function we find the normalized frequency values for each frequency bin and time bin for a given data d.\n",
    "\n",
    "We also define the window sizes for the stft."
   ]
  },
  {
   "cell_type": "code",
   "execution_count": 2,
   "metadata": {},
   "outputs": [],
   "source": [
    "def stft (d,fs,winlen,nfft):\n",
    "    noverlap=fs/100\n",
    "    nperseg=winlen\n",
    "    win = get_window('hamming',winlen)\n",
    "    freqbin,tbin,spec=spectrogram(x=d,fs=fs,noverlap=noverlap,nperseg=nperseg,nfft=nfft,window=win)\n",
    "    spec=(spec*1000)+1\n",
    "    spec=np.real(np.log(spec))\n",
    "    spec[spec<0]=0\n",
    "    return spec, freqbin, tbin"
   ]
  },
  {
   "cell_type": "code",
   "execution_count": 3,
   "metadata": {},
   "outputs": [],
   "source": [
    "winlen1=2048\n",
    "nfft1=2048\n",
    "\n",
    "winlen2=8192\n",
    "nfft2=8192"
   ]
  },
  {
   "cell_type": "markdown",
   "metadata": {},
   "source": [
    "## genData"
   ]
  },
  {
   "cell_type": "markdown",
   "metadata": {},
   "source": [
    "In the genData function we find the frequency values of each note frequency bin and time bin for a given spectrogram spec.\n",
    "\n",
    "To do this we find all those frequency bins that lie in the range between two note frequencies. If there are multiple bins in this range, we find a weighted average by finding the bin closest to the actual note frequency and assigning weights based on 2 stright lines, acending from the first frequency bin in the range, reaching 1 at the closest bin to the actual note, and decending until the last frequency bin.\n",
    "\n",
    "We also compute the differences between each time bin and it's previous frequecny, assigning 0s to the initial time bin."
   ]
  },
  {
   "cell_type": "code",
   "execution_count": 4,
   "metadata": {},
   "outputs": [],
   "source": [
    "def genData (spec,freqbin,tbin):\n",
    "    Q=np.zeros([tbin.shape[0],Notes.shape[0]])\n",
    "    for i in range(spec.shape[1]):\n",
    "        Z=spec[:,i]\n",
    "        for j in range(Notes.shape[0]-1):\n",
    "            if j==0:\n",
    "                j=1\n",
    "            f1=Notes[j-1]\n",
    "            f2=Notes[j+1]\n",
    "            wb1 = np.where(f1>=freqbin)[0]\n",
    "            wb2 = np.where(f2<=freqbin)[0]\n",
    "            wb=np.intersect1d(wb1,wb2)\n",
    "            bn=np.argmin(np.abs(freqbin-Notes[j]))\n",
    "        \n",
    "            if ((wb.shape[0]==0) or wb.shape[0]==1):\n",
    "                Q[i,j]=Z[j]\n",
    "            \n",
    "            else:\n",
    "                x1 = wb[0:np.where(wb==bn)[0][0]+1]\n",
    "                x2 = wb[np.where(wb==bn)[0][0]:]\n",
    "                y1 = (x1-wb[0])/(x1.shape[0]-1)\n",
    "                y2 = 1-(x2-bn)/(x2.shape[0]-1)\n",
    "                y1[np.isnan(y1)]=1\n",
    "                y2[np.isnan(y2)]=1\n",
    "                Q[i,j]= ((np.matmul(Z[x1],y1)+np.matmul(Z[x2],y2)-Z[bn])/(np.sum(y1)+np.sum(y2)))\n",
    "    Q=Q[:,1:101]\n",
    "    b=np.zeros((1,Q.shape[1]))\n",
    "    a=np.diff(Q,axis=0)\n",
    "    a=np.concatenate((b,a),axis=0)\n",
    "    Q=np.concatenate((Q,a),axis=1)\n",
    "    return Q"
   ]
  },
  {
   "cell_type": "markdown",
   "metadata": {},
   "source": [
    "## Notes"
   ]
  },
  {
   "cell_type": "markdown",
   "metadata": {},
   "source": [
    "Here we define the frequencies of notes starting at note 0 - frequency 0 and ending at note 101 -  frequecny 8870"
   ]
  },
  {
   "cell_type": "code",
   "execution_count": 5,
   "metadata": {},
   "outputs": [],
   "source": [
    "# Define frequencies for notes up to 100 (first harmonic of 88th note)\n",
    "Notes = np.zeros(102)\n",
    "Notes[0] = 0\n",
    "Notes[1] = 27.5\n",
    "for i in range(100):\n",
    "    Notes[i+2] = Notes[i+1]*(np.power(2,1/12))"
   ]
  },
  {
   "cell_type": "markdown",
   "metadata": {},
   "source": [
    "## Process"
   ]
  },
  {
   "cell_type": "markdown",
   "metadata": {},
   "source": [
    "Process data and write to file"
   ]
  },
  {
   "cell_type": "code",
   "execution_count": 87,
   "metadata": {},
   "outputs": [
    {
     "name": "stdout",
     "output_type": "stream",
     "text": [
      "Done processing Viper's Drag.wav\n",
      "Done processing After You've Gone.wav\n",
      "Done processing African Ripples.wav\n",
      "Done processing Ain't Misbehavin'.wav\n",
      "Done processing Begin the Beguine.wav\n",
      "Done processing Blue And Sentimental.wav\n",
      "Done processing Easy Living.wav\n",
      "Done processing Fur Elise.wav\n",
      "Done processing It's Always You.wav\n",
      "Done processing MozartK265.wav\n",
      "Done processing Scale.wav\n",
      "Done processing Stardust.wav\n"
     ]
    }
   ],
   "source": [
    "dir_path_in = os.path.join(os.getcwd(),'Data/Recordings/Testing')\n",
    "out_path = os.path.join(os.getcwd(),'Data/Processed/Testing/input.txt')\n",
    "out_path1 = os.path.join(os.getcwd(),'Data/Processed/Testing/tbin.txt')\n",
    "\n",
    "files = listdir(dir_path_in)\n",
    "inp_final = np.zeros((1,400))\n",
    "out_final = np.zeros((1,88))\n",
    "for i in range(len(files)):\n",
    "    out_path = os.path.join(os.getcwd(),'Data/Processed/Testing/input/'+files[i][:-4]+'.txt')\n",
    "    out_path1 = os.path.join(os.getcwd(),'Data/Processed/Testing/tbin/'+files[i][:-4]+'.txt')\n",
    "    wav_path = os.path.join(os.getcwd(), 'Data/Recordings/Testing', files[i])\n",
    "    fs, data = wavfile.read(wav_path)\n",
    "    data = data[:,0]\n",
    "    spec1,freqbin1,tbin1 = stft(d=data,fs=fs,winlen=winlen1,nfft=nfft1)\n",
    "    spec2,freqbin2,tbin2 = stft(d=data,fs=fs,winlen=winlen2,nfft=nfft2)\n",
    "    \n",
    "    \n",
    "    Q1_temp = genData(spec=spec1,freqbin=freqbin1,tbin=tbin1)\n",
    "    Q2 = genData(spec=spec2,freqbin=freqbin2,tbin=tbin2)\n",
    "\n",
    "    Q1 = Q2.copy()\n",
    "    \n",
    "    \n",
    "    for j in range(tbin2.shape[0]):\n",
    "        near_t = np.argmin(np.abs(tbin2[j]-tbin1))\n",
    "        Q1[j,:]=Q1_temp[near_t,:]\n",
    "    \n",
    "    inp_final = np.append(inp_final,np.concatenate((Q1,Q2),axis=1),axis=0)\n",
    "    \n",
    "    np.savetxt(out_path1,tbin2,delimiter=',')\n",
    "    np.savetxt(out_path,inp_final,delimiter=',')\n",
    "    \n",
    "    print('Done processing',files[i])"
   ]
  },
  {
   "cell_type": "code",
   "execution_count": 77,
   "metadata": {},
   "outputs": [
    {
     "data": {
      "text/plain": [
       "'Stardust'"
      ]
     },
     "execution_count": 77,
     "metadata": {},
     "output_type": "execute_result"
    }
   ],
   "source": []
  },
  {
   "cell_type": "code",
   "execution_count": null,
   "metadata": {},
   "outputs": [],
   "source": []
  }
 ],
 "metadata": {
  "kernelspec": {
   "display_name": "Python 3",
   "language": "python",
   "name": "python3"
  },
  "language_info": {
   "codemirror_mode": {
    "name": "ipython",
    "version": 3
   },
   "file_extension": ".py",
   "mimetype": "text/x-python",
   "name": "python",
   "nbconvert_exporter": "python",
   "pygments_lexer": "ipython3",
   "version": "3.6.6"
  }
 },
 "nbformat": 4,
 "nbformat_minor": 2
}
