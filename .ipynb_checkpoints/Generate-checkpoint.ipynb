{
 "cells": [
  {
   "cell_type": "markdown",
   "metadata": {},
   "source": [
    "# Generate:"
   ]
  },
  {
   "cell_type": "markdown",
   "metadata": {},
   "source": [
    "## Imports"
   ]
  },
  {
   "cell_type": "code",
   "execution_count": 1,
   "metadata": {},
   "outputs": [],
   "source": [
    "import tensorflow as tf\n",
    "import os\n",
    "import numpy as np\n",
    "import midiutil\n",
    "import pandas as pd\n",
    "import sklearn\n",
    "import matplotlib.pyplot as plt\n",
    "from sklearn.cluster import KMeans\n",
    "from tensorflow import keras\n",
    "from midiutil import MIDIFile\n",
    "from os import listdir"
   ]
  },
  {
   "cell_type": "markdown",
   "metadata": {},
   "source": [
    "## Load Models"
   ]
  },
  {
   "cell_type": "code",
   "execution_count": 2,
   "metadata": {},
   "outputs": [],
   "source": [
    "m_n_path = os.path.join(os.getcwd(),'Models/1 Layer/m_n.h5')\n",
    "m_e_path = os.path.join(os.getcwd(),'Models/1 Layer/m_e.h5')\n",
    "m_h_path = os.path.join(os.getcwd(),'Models/1 Layer/m_h.h5')\n",
    "\n",
    "m_n=keras.models.load_model(m_n_path)\n",
    "m_e=keras.models.load_model(m_e_path)\n",
    "m_h=keras.models.load_model(m_h_path)"
   ]
  },
  {
   "cell_type": "markdown",
   "metadata": {},
   "source": [
    "## Load Input/Output"
   ]
  },
  {
   "cell_type": "code",
   "execution_count": null,
   "metadata": {},
   "outputs": [],
   "source": [
    "in_file_path= os.path.join(os.getcwd(), 'Data//Processed', 'input.txt')\n",
    "out_file_path= os.path.join(os.getcwd(), 'Data//Processed', 'output.txt')\n",
    "\n",
    "inp = pd.read_csv(in_file_path,sep=\",\",header=None)\n",
    "out = pd.read_csv(out_file_path,sep=\",\",header=None)\n",
    "\n",
    "out_save = out.copy()"
   ]
  },
  {
   "cell_type": "code",
   "execution_count": null,
   "metadata": {},
   "outputs": [],
   "source": [
    "out_fixed=out.copy()\n",
    "out_fixed=out_fixed.astype(np.int)\n",
    "out =pd.DataFrame(out_fixed)"
   ]
  },
  {
   "cell_type": "code",
   "execution_count": null,
   "metadata": {},
   "outputs": [],
   "source": [
    "count_notes = np.sum(out,axis=1)\n",
    "count_notes_hot = pd.get_dummies(count_notes)"
   ]
  },
  {
   "cell_type": "markdown",
   "metadata": {},
   "source": [
    "## Predict"
   ]
  },
  {
   "cell_type": "code",
   "execution_count": 3,
   "metadata": {},
   "outputs": [],
   "source": [
    "def postprocess(y_pred,tbin,):\n",
    "    b=np.zeros((1,3))\n",
    "    y_copy = y_pred.copy()\n",
    "    time=0\n",
    "    time_len = np.diff(tbin)[1]\n",
    "    for i in range(tbin.shape[0]):\n",
    "        if (i==0):\n",
    "            time=0\n",
    "        elif (i==1):\n",
    "            time = time+np.diff(tbin)[0]\n",
    "        else:\n",
    "            time=time+time_len\n",
    "        \n",
    "        a=np.where(y_copy[i,:]==1)[0]\n",
    "        for j in range(a.shape[0]):\n",
    "            b_temp=np.zeros((1,3))\n",
    "            b_temp[0,0]=a[j]\n",
    "            b_temp[0,1]=time\n",
    "            k=0\n",
    "            c=np.where(y_copy[i+k,:]==1)[0]\n",
    "            if (i==tbin.shape[0]-1):\n",
    "                break\n",
    "            while (y_copy[i+k,a[j]]==1):\n",
    "                if (i+k==tbin.shape[0]-1):\n",
    "                    break\n",
    "                k=k+1\n",
    "                b_temp[0,2]=b_temp[0,2]+1\n",
    "            for l in range(k+1):\n",
    "                y_copy[i+l,a[j]]=0\n",
    "            b=np.append(b,b_temp,axis=0)\n",
    "    return b"
   ]
  },
  {
   "cell_type": "code",
   "execution_count": null,
   "metadata": {},
   "outputs": [],
   "source": [
    "dir_path = 'Data/Recordings/Testing'"
   ]
  },
  {
   "cell_type": "code",
   "execution_count": 8,
   "metadata": {},
   "outputs": [
    {
     "name": "stdout",
     "output_type": "stream",
     "text": [
      "Done with African Ripples\n",
      "Done with Ain't Misbehavin'\n",
      "Done with Viper's Drag\n",
      "Done with After You've Gone\n",
      "Done with Begin the Beguine\n",
      "Done with Blue And Sentimental\n",
      "Done with Easy Living\n",
      "Done with Fur Elise\n",
      "Done with It's Always You\n",
      "Done with MozartK265\n",
      "Done with Scale\n",
      "Done with Stardust\n",
      "DONE\n"
     ]
    }
   ],
   "source": [
    "input_dir_path_in=os.path.join(os.getcwd(),dir_path,'input')\n",
    "tbin_dir_path_in=os.path.join(os.getcwd(),dir_path,'tbin')\n",
    "\n",
    "input_file = listdir(input_dir_path_in)\n",
    "tbin_files = listdir(tbin_dir_path_in)\n",
    "for i in range(len(input_file)):\n",
    "    inp_test_path = os.path.join(os.getcwd(),dir_path,'input',input_file[i])\n",
    "    inp_test=pd.read_csv(inp_test_path,sep=',',header=None)\n",
    "\n",
    "    y_pred_n = m_n.predict(inp_test,batch_size=8)\n",
    "    y_pred_e = m_e.predict(inp_test,batch_size=8)\n",
    "    y_pred_h = m_h.predict(inp_test,batch_size=8)\n",
    "    \n",
    "    tbin_path = os.path.join(os.getcwd(),dir_path,'tbin',tbin_files[i])\n",
    "    a=pd.read_csv(tbin_path,sep=',',header=None)\n",
    "    b=np.zeros(1)\n",
    "    tbin=np.append(b,a)\n",
    "    \n",
    "    time_len = np.diff(tbin)[1]\n",
    "    \n",
    "    y_note_pred_n = np.zeros((y_pred_n.shape[0],y_pred_n.shape[1]))\n",
    "    for j in range(y_pred_n.shape[0]):\n",
    "        a=np.zeros((88,1))\n",
    "        a[:,0]=y_pred_n[j,:].copy()\n",
    "        a[a<0.03]=0\n",
    "        kmeans=KMeans(n_clusters=2).fit(a)\n",
    "        threshold = np.maximum(kmeans.cluster_centers_[0],kmeans.cluster_centers_[1])\n",
    "        if threshold==0:\n",
    "            threshold = 1\n",
    "        a=y_pred_n[j,0:88].copy()\n",
    "        a[a>=threshold]=1\n",
    "        a[a<threshold]=0\n",
    "        y_note_pred_n[j,:]=a\n",
    "    \n",
    "    track    = 0\n",
    "    channel  = 0\n",
    "    time     = 0   \n",
    "    duration = 1   \n",
    "    tempo    = 60 \n",
    "    volume   = 100 \n",
    "    MyMIDI_n = MIDIFile(1)\n",
    "    MyMIDI_n.addTempo(track, time, tempo)\n",
    "    \n",
    "    b=postprocess(y_note_pred_n,tbin)\n",
    "            \n",
    "    b[:,0]=b[:,0]+21\n",
    "    b=b[1:b.shape[0],:]\n",
    "    for j in range(b.shape[0]):\n",
    "        MyMIDI_n.addNote(track,channel,b[j,0].astype(np.int),b[j,1],b[j,2]*time_len,volume)\n",
    "    \n",
    "    with open(\"out_\"+input_file[i][:-4]+\"_n.mid\", \"wb\") as output_file:\n",
    "        MyMIDI_n.writeFile(output_file)\n",
    "        \n",
    "    y_note_pred_e=np.zeros((y_pred_e.shape[0],88))\n",
    "    \n",
    "    for j in range(y_pred_e.shape[0]):\n",
    "        a = y_pred_e[j,:].copy()\n",
    "        if (np.argmax(a)==88):\n",
    "            y_note_pred_e[j,:]=np.zeros(88)\n",
    "        else:\n",
    "            a=np.zeros((88,1))\n",
    "            a[:,0]=y_pred_e[j,0:88].copy()\n",
    "            a[a<0.03]=0\n",
    "            kmeans1=KMeans(n_clusters=2).fit(a)\n",
    "            threshold = np.maximum(kmeans1.cluster_centers_[0],kmeans1.cluster_centers_[1])\n",
    "            if threshold==0:\n",
    "                threshold = 1\n",
    "            a=y_pred_e[j,0:88].copy()\n",
    "            a[a>=threshold]=1\n",
    "            a[a<threshold]=0\n",
    "            y_note_pred_e[j,:]=a\n",
    "            \n",
    "    \n",
    "    track    = 0\n",
    "    channel  = 0\n",
    "    time     = 0 \n",
    "    duration = 1   \n",
    "    tempo    = 60  \n",
    "    volume   = 100 \n",
    "    MyMIDI_e = MIDIFile(1)\n",
    "    MyMIDI_e.addTempo(track, time, tempo)\n",
    "    \n",
    "    b=postprocess(y_note_pred_e,tbin)\n",
    "    b[:,0]=b[:,0]+21\n",
    "    b=b[1:b.shape[0],:]\n",
    "    for j in range(b.shape[0]):\n",
    "        MyMIDI_e.addNote(track,channel,b[j,0].astype(np.int),b[j,1],b[j,2]*time_len,volume)\n",
    "        \n",
    "    with open(\"out_\"+input_file[i][:-4]+\"_e.mid\", \"wb\") as output_file:\n",
    "        MyMIDI_e.writeFile(output_file)\n",
    "        \n",
    "        \n",
    "    threshold_pred_h = y_pred_h.copy()[:,0:88]\n",
    "    num_pred_prob = y_pred_h.copy()\n",
    "    \n",
    "    for j in range(y_pred_h.shape[0]):\n",
    "        a = num_pred_prob[:,88:num_pred_prob.shape[1]]\n",
    "        num_pred=count_notes_hot.columns[np.argmax(a[j,:])]\n",
    "        pred_idx = np.flip(np.argsort(threshold_pred_h[j,:]))[0:num_pred]\n",
    "        b=np.zeros(88)\n",
    "        if (num_pred==0):\n",
    "            threshold_pred_h[j,:]=b\n",
    "        else:\n",
    "            b[pred_idx]=1\n",
    "            threshold_pred_h[j,:]=b\n",
    "        \n",
    "    y_note_pred_h = threshold_pred_h[:,0:88]\n",
    "    \n",
    "    track    = 0\n",
    "    channel  = 0\n",
    "    time     = 0\n",
    "    duration = 1  \n",
    "    tempo    = 60 \n",
    "    volume   = 100 \n",
    "    MyMIDI_h = MIDIFile(1)\n",
    "    MyMIDI_h.addTempo(track, time, tempo)\n",
    "    \n",
    "    b=postprocess(y_note_pred_h,tbin)\n",
    "    \n",
    "    b[:,0]=b[:,0]+21\n",
    "    b=b[1:b.shape[0],:]\n",
    "    for j in range(b.shape[0]):\n",
    "        MyMIDI_h.addNote(track,channel,b[j,0].astype(np.int),b[j,1],b[j,2]*time_len,volume)\n",
    "        \n",
    "    with open(\"out_\"+input_file[i][:-4]+\"_h.mid\", \"wb\") as output_file:\n",
    "        MyMIDI_h.writeFile(output_file)\n",
    "    print('Done with', input_file[i][:-4])\n",
    "    \n",
    "print('DONE')"
   ]
  },
  {
   "cell_type": "code",
   "execution_count": null,
   "metadata": {},
   "outputs": [],
   "source": []
  }
 ],
 "metadata": {
  "kernelspec": {
   "display_name": "Python 3",
   "language": "python",
   "name": "python3"
  },
  "language_info": {
   "codemirror_mode": {
    "name": "ipython",
    "version": 3
   },
   "file_extension": ".py",
   "mimetype": "text/x-python",
   "name": "python",
   "nbconvert_exporter": "python",
   "pygments_lexer": "ipython3",
   "version": "3.6.6"
  }
 },
 "nbformat": 4,
 "nbformat_minor": 2
}
