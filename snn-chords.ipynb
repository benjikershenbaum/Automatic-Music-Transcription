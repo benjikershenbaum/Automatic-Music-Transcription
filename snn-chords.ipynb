{
 "cells": [
  {
   "cell_type": "markdown",
   "metadata": {},
   "source": [
    "## Imports"
   ]
  },
  {
   "cell_type": "code",
   "execution_count": 1,
   "metadata": {},
   "outputs": [],
   "source": [
    "import os\n",
    "import sys\n",
    "import sklearn\n",
    "import random\n",
    "import matplotlib.pyplot as plt\n",
    "import tensorflow as tf\n",
    "import numpy as np\n",
    "import pandas as pd\n",
    "import midiutil\n",
    "from sklearn.model_selection import train_test_split\n",
    "from tensorflow import keras\n",
    "from sklearn.metrics import accuracy_score\n",
    "from midiutil import MIDIFile"
   ]
  },
  {
   "cell_type": "markdown",
   "metadata": {},
   "source": [
    "## Data"
   ]
  },
  {
   "cell_type": "code",
   "execution_count": 2,
   "metadata": {},
   "outputs": [],
   "source": [
    "# Load in data\n",
    "\n",
    "in_file_path= os.path.join(os.getcwd(), 'Data//Processed', 'input.txt')\n",
    "out_file_path= os.path.join(os.getcwd(), 'Data//Processed', 'output.txt')\n",
    "\n",
    "inp = pd.read_csv(in_file_path,sep=\",\",header=None)\n",
    "out = pd.read_csv(out_file_path,sep=\",\",header=None)\n",
    "\n",
    "out_save = out.copy()"
   ]
  },
  {
   "cell_type": "code",
   "execution_count": 3,
   "metadata": {
    "scrolled": true
   },
   "outputs": [
    {
     "data": {
      "text/plain": [
       "(41046, 88)"
      ]
     },
     "execution_count": 3,
     "metadata": {},
     "output_type": "execute_result"
    }
   ],
   "source": [
    "out.shape"
   ]
  },
  {
   "cell_type": "code",
   "execution_count": 4,
   "metadata": {},
   "outputs": [],
   "source": [
    "out_fixed=out.copy()\n",
    "out_fixed=out_fixed.astype(np.int)\n",
    "out =pd.DataFrame(out_fixed)"
   ]
  },
  {
   "cell_type": "code",
   "execution_count": 5,
   "metadata": {},
   "outputs": [
    {
     "data": {
      "text/plain": [
       "(array([15281, 15282, 15283, ..., 23416, 23417, 23418]),)"
      ]
     },
     "execution_count": 5,
     "metadata": {},
     "output_type": "execute_result"
    }
   ],
   "source": [
    "np.where(np.sum(out,axis=1)==2)"
   ]
  },
  {
   "cell_type": "code",
   "execution_count": 6,
   "metadata": {},
   "outputs": [
    {
     "data": {
      "text/html": [
       "<div>\n",
       "<style scoped>\n",
       "    .dataframe tbody tr th:only-of-type {\n",
       "        vertical-align: middle;\n",
       "    }\n",
       "\n",
       "    .dataframe tbody tr th {\n",
       "        vertical-align: top;\n",
       "    }\n",
       "\n",
       "    .dataframe thead th {\n",
       "        text-align: right;\n",
       "    }\n",
       "</style>\n",
       "<table border=\"1\" class=\"dataframe\">\n",
       "  <thead>\n",
       "    <tr style=\"text-align: right;\">\n",
       "      <th></th>\n",
       "      <th>0</th>\n",
       "      <th>1</th>\n",
       "      <th>2</th>\n",
       "      <th>3</th>\n",
       "      <th>4</th>\n",
       "      <th>5</th>\n",
       "      <th>6</th>\n",
       "      <th>7</th>\n",
       "      <th>8</th>\n",
       "      <th>9</th>\n",
       "      <th>...</th>\n",
       "      <th>384</th>\n",
       "      <th>385</th>\n",
       "      <th>386</th>\n",
       "      <th>387</th>\n",
       "      <th>388</th>\n",
       "      <th>389</th>\n",
       "      <th>390</th>\n",
       "      <th>391</th>\n",
       "      <th>392</th>\n",
       "      <th>393</th>\n",
       "    </tr>\n",
       "  </thead>\n",
       "  <tbody>\n",
       "    <tr>\n",
       "      <th>0</th>\n",
       "      <td>0.000000</td>\n",
       "      <td>0.000000</td>\n",
       "      <td>0.000000</td>\n",
       "      <td>0.000000</td>\n",
       "      <td>0.000000</td>\n",
       "      <td>0.000000</td>\n",
       "      <td>0.000000</td>\n",
       "      <td>0.000000</td>\n",
       "      <td>0.000000</td>\n",
       "      <td>0.000000</td>\n",
       "      <td>...</td>\n",
       "      <td>0.000000</td>\n",
       "      <td>0.000000</td>\n",
       "      <td>0.000000</td>\n",
       "      <td>0.000000</td>\n",
       "      <td>0.000000</td>\n",
       "      <td>0.000000</td>\n",
       "      <td>0.000000</td>\n",
       "      <td>0.000000</td>\n",
       "      <td>0.000000</td>\n",
       "      <td>0.000000</td>\n",
       "    </tr>\n",
       "    <tr>\n",
       "      <th>1</th>\n",
       "      <td>0.000000</td>\n",
       "      <td>0.000000</td>\n",
       "      <td>0.000000</td>\n",
       "      <td>0.000000</td>\n",
       "      <td>0.000000</td>\n",
       "      <td>0.000000</td>\n",
       "      <td>0.000000</td>\n",
       "      <td>0.000000</td>\n",
       "      <td>0.000000</td>\n",
       "      <td>0.000000</td>\n",
       "      <td>...</td>\n",
       "      <td>0.000000</td>\n",
       "      <td>0.000000</td>\n",
       "      <td>0.000000</td>\n",
       "      <td>0.000000</td>\n",
       "      <td>0.000000</td>\n",
       "      <td>0.000000</td>\n",
       "      <td>0.000000</td>\n",
       "      <td>0.000000</td>\n",
       "      <td>0.000000</td>\n",
       "      <td>0.000000</td>\n",
       "    </tr>\n",
       "    <tr>\n",
       "      <th>2</th>\n",
       "      <td>0.000000</td>\n",
       "      <td>0.000000</td>\n",
       "      <td>0.000000</td>\n",
       "      <td>0.000000</td>\n",
       "      <td>0.000000</td>\n",
       "      <td>0.000000</td>\n",
       "      <td>0.000000</td>\n",
       "      <td>0.000000</td>\n",
       "      <td>0.000000</td>\n",
       "      <td>0.000000</td>\n",
       "      <td>...</td>\n",
       "      <td>0.000000</td>\n",
       "      <td>0.000000</td>\n",
       "      <td>0.000000</td>\n",
       "      <td>0.000000</td>\n",
       "      <td>0.000000</td>\n",
       "      <td>0.000000</td>\n",
       "      <td>0.000000</td>\n",
       "      <td>0.000000</td>\n",
       "      <td>0.000000</td>\n",
       "      <td>0.000000</td>\n",
       "    </tr>\n",
       "    <tr>\n",
       "      <th>3</th>\n",
       "      <td>0.000000</td>\n",
       "      <td>0.000000</td>\n",
       "      <td>0.000000</td>\n",
       "      <td>0.000000</td>\n",
       "      <td>0.000000</td>\n",
       "      <td>0.000000</td>\n",
       "      <td>0.000000</td>\n",
       "      <td>0.000000</td>\n",
       "      <td>0.000000</td>\n",
       "      <td>0.000000</td>\n",
       "      <td>...</td>\n",
       "      <td>0.374088</td>\n",
       "      <td>0.180725</td>\n",
       "      <td>0.028983</td>\n",
       "      <td>-0.099311</td>\n",
       "      <td>-0.206496</td>\n",
       "      <td>-0.281052</td>\n",
       "      <td>-0.299558</td>\n",
       "      <td>-0.246199</td>\n",
       "      <td>-0.143624</td>\n",
       "      <td>-0.029787</td>\n",
       "    </tr>\n",
       "    <tr>\n",
       "      <th>4</th>\n",
       "      <td>8.341131</td>\n",
       "      <td>8.660773</td>\n",
       "      <td>12.070010</td>\n",
       "      <td>13.950991</td>\n",
       "      <td>14.588702</td>\n",
       "      <td>14.335634</td>\n",
       "      <td>13.344617</td>\n",
       "      <td>11.937556</td>\n",
       "      <td>11.273704</td>\n",
       "      <td>10.447790</td>\n",
       "      <td>...</td>\n",
       "      <td>-2.942874</td>\n",
       "      <td>0.844022</td>\n",
       "      <td>3.603425</td>\n",
       "      <td>1.087358</td>\n",
       "      <td>-2.086987</td>\n",
       "      <td>-1.463531</td>\n",
       "      <td>-0.830736</td>\n",
       "      <td>1.595371</td>\n",
       "      <td>1.194545</td>\n",
       "      <td>0.519278</td>\n",
       "    </tr>\n",
       "    <tr>\n",
       "      <th>5</th>\n",
       "      <td>10.333080</td>\n",
       "      <td>4.772930</td>\n",
       "      <td>11.918969</td>\n",
       "      <td>14.253366</td>\n",
       "      <td>14.754454</td>\n",
       "      <td>12.806597</td>\n",
       "      <td>12.672321</td>\n",
       "      <td>12.319128</td>\n",
       "      <td>12.258269</td>\n",
       "      <td>12.953641</td>\n",
       "      <td>...</td>\n",
       "      <td>1.227427</td>\n",
       "      <td>-0.481731</td>\n",
       "      <td>-3.807462</td>\n",
       "      <td>1.298765</td>\n",
       "      <td>0.591249</td>\n",
       "      <td>-0.318566</td>\n",
       "      <td>1.887330</td>\n",
       "      <td>-0.019180</td>\n",
       "      <td>-0.126595</td>\n",
       "      <td>-1.815860</td>\n",
       "    </tr>\n",
       "    <tr>\n",
       "      <th>6</th>\n",
       "      <td>6.893919</td>\n",
       "      <td>9.079939</td>\n",
       "      <td>13.855565</td>\n",
       "      <td>13.843465</td>\n",
       "      <td>13.290117</td>\n",
       "      <td>14.032422</td>\n",
       "      <td>13.523619</td>\n",
       "      <td>13.151092</td>\n",
       "      <td>13.600449</td>\n",
       "      <td>12.714973</td>\n",
       "      <td>...</td>\n",
       "      <td>0.522077</td>\n",
       "      <td>1.044776</td>\n",
       "      <td>0.167370</td>\n",
       "      <td>-1.572321</td>\n",
       "      <td>0.351705</td>\n",
       "      <td>0.343155</td>\n",
       "      <td>0.182750</td>\n",
       "      <td>-0.591479</td>\n",
       "      <td>0.840371</td>\n",
       "      <td>1.699092</td>\n",
       "    </tr>\n",
       "    <tr>\n",
       "      <th>7</th>\n",
       "      <td>4.162915</td>\n",
       "      <td>9.316605</td>\n",
       "      <td>11.448648</td>\n",
       "      <td>9.823874</td>\n",
       "      <td>12.470953</td>\n",
       "      <td>12.289130</td>\n",
       "      <td>13.033843</td>\n",
       "      <td>11.195500</td>\n",
       "      <td>12.148137</td>\n",
       "      <td>11.576314</td>\n",
       "      <td>...</td>\n",
       "      <td>0.977995</td>\n",
       "      <td>1.358075</td>\n",
       "      <td>-0.028283</td>\n",
       "      <td>-0.154130</td>\n",
       "      <td>-0.329405</td>\n",
       "      <td>-0.696072</td>\n",
       "      <td>-1.303249</td>\n",
       "      <td>0.581279</td>\n",
       "      <td>0.416355</td>\n",
       "      <td>1.015662</td>\n",
       "    </tr>\n",
       "    <tr>\n",
       "      <th>8</th>\n",
       "      <td>7.225209</td>\n",
       "      <td>8.923570</td>\n",
       "      <td>8.264386</td>\n",
       "      <td>8.841744</td>\n",
       "      <td>11.855740</td>\n",
       "      <td>11.407793</td>\n",
       "      <td>10.645953</td>\n",
       "      <td>12.020951</td>\n",
       "      <td>10.191635</td>\n",
       "      <td>10.246011</td>\n",
       "      <td>...</td>\n",
       "      <td>1.735500</td>\n",
       "      <td>2.132174</td>\n",
       "      <td>-0.006459</td>\n",
       "      <td>-2.845334</td>\n",
       "      <td>0.093793</td>\n",
       "      <td>1.040261</td>\n",
       "      <td>1.294222</td>\n",
       "      <td>1.180615</td>\n",
       "      <td>0.169893</td>\n",
       "      <td>-0.730532</td>\n",
       "    </tr>\n",
       "    <tr>\n",
       "      <th>9</th>\n",
       "      <td>10.982247</td>\n",
       "      <td>8.115265</td>\n",
       "      <td>9.180094</td>\n",
       "      <td>10.174972</td>\n",
       "      <td>12.835152</td>\n",
       "      <td>13.823807</td>\n",
       "      <td>14.926485</td>\n",
       "      <td>11.802881</td>\n",
       "      <td>10.752745</td>\n",
       "      <td>11.982655</td>\n",
       "      <td>...</td>\n",
       "      <td>-0.486771</td>\n",
       "      <td>-1.405318</td>\n",
       "      <td>0.670281</td>\n",
       "      <td>0.427305</td>\n",
       "      <td>0.294566</td>\n",
       "      <td>0.106973</td>\n",
       "      <td>-0.630326</td>\n",
       "      <td>-0.725471</td>\n",
       "      <td>-0.871405</td>\n",
       "      <td>-1.525883</td>\n",
       "    </tr>\n",
       "  </tbody>\n",
       "</table>\n",
       "<p>10 rows × 394 columns</p>\n",
       "</div>"
      ],
      "text/plain": [
       "         0         1          2          3          4          5          6    \\\n",
       "0   0.000000  0.000000   0.000000   0.000000   0.000000   0.000000   0.000000   \n",
       "1   0.000000  0.000000   0.000000   0.000000   0.000000   0.000000   0.000000   \n",
       "2   0.000000  0.000000   0.000000   0.000000   0.000000   0.000000   0.000000   \n",
       "3   0.000000  0.000000   0.000000   0.000000   0.000000   0.000000   0.000000   \n",
       "4   8.341131  8.660773  12.070010  13.950991  14.588702  14.335634  13.344617   \n",
       "5  10.333080  4.772930  11.918969  14.253366  14.754454  12.806597  12.672321   \n",
       "6   6.893919  9.079939  13.855565  13.843465  13.290117  14.032422  13.523619   \n",
       "7   4.162915  9.316605  11.448648   9.823874  12.470953  12.289130  13.033843   \n",
       "8   7.225209  8.923570   8.264386   8.841744  11.855740  11.407793  10.645953   \n",
       "9  10.982247  8.115265   9.180094  10.174972  12.835152  13.823807  14.926485   \n",
       "\n",
       "         7          8          9      ...          384       385       386  \\\n",
       "0   0.000000   0.000000   0.000000    ...     0.000000  0.000000  0.000000   \n",
       "1   0.000000   0.000000   0.000000    ...     0.000000  0.000000  0.000000   \n",
       "2   0.000000   0.000000   0.000000    ...     0.000000  0.000000  0.000000   \n",
       "3   0.000000   0.000000   0.000000    ...     0.374088  0.180725  0.028983   \n",
       "4  11.937556  11.273704  10.447790    ...    -2.942874  0.844022  3.603425   \n",
       "5  12.319128  12.258269  12.953641    ...     1.227427 -0.481731 -3.807462   \n",
       "6  13.151092  13.600449  12.714973    ...     0.522077  1.044776  0.167370   \n",
       "7  11.195500  12.148137  11.576314    ...     0.977995  1.358075 -0.028283   \n",
       "8  12.020951  10.191635  10.246011    ...     1.735500  2.132174 -0.006459   \n",
       "9  11.802881  10.752745  11.982655    ...    -0.486771 -1.405318  0.670281   \n",
       "\n",
       "        387       388       389       390       391       392       393  \n",
       "0  0.000000  0.000000  0.000000  0.000000  0.000000  0.000000  0.000000  \n",
       "1  0.000000  0.000000  0.000000  0.000000  0.000000  0.000000  0.000000  \n",
       "2  0.000000  0.000000  0.000000  0.000000  0.000000  0.000000  0.000000  \n",
       "3 -0.099311 -0.206496 -0.281052 -0.299558 -0.246199 -0.143624 -0.029787  \n",
       "4  1.087358 -2.086987 -1.463531 -0.830736  1.595371  1.194545  0.519278  \n",
       "5  1.298765  0.591249 -0.318566  1.887330 -0.019180 -0.126595 -1.815860  \n",
       "6 -1.572321  0.351705  0.343155  0.182750 -0.591479  0.840371  1.699092  \n",
       "7 -0.154130 -0.329405 -0.696072 -1.303249  0.581279  0.416355  1.015662  \n",
       "8 -2.845334  0.093793  1.040261  1.294222  1.180615  0.169893 -0.730532  \n",
       "9  0.427305  0.294566  0.106973 -0.630326 -0.725471 -0.871405 -1.525883  \n",
       "\n",
       "[10 rows x 394 columns]"
      ]
     },
     "metadata": {},
     "output_type": "display_data"
    }
   ],
   "source": [
    "display(inp.iloc[0:10,:])"
   ]
  },
  {
   "cell_type": "code",
   "execution_count": 7,
   "metadata": {},
   "outputs": [
    {
     "data": {
      "text/html": [
       "<div>\n",
       "<style scoped>\n",
       "    .dataframe tbody tr th:only-of-type {\n",
       "        vertical-align: middle;\n",
       "    }\n",
       "\n",
       "    .dataframe tbody tr th {\n",
       "        vertical-align: top;\n",
       "    }\n",
       "\n",
       "    .dataframe thead th {\n",
       "        text-align: right;\n",
       "    }\n",
       "</style>\n",
       "<table border=\"1\" class=\"dataframe\">\n",
       "  <thead>\n",
       "    <tr style=\"text-align: right;\">\n",
       "      <th></th>\n",
       "      <th>0</th>\n",
       "      <th>1</th>\n",
       "      <th>2</th>\n",
       "      <th>3</th>\n",
       "      <th>4</th>\n",
       "      <th>5</th>\n",
       "      <th>6</th>\n",
       "      <th>7</th>\n",
       "      <th>8</th>\n",
       "      <th>9</th>\n",
       "      <th>...</th>\n",
       "      <th>78</th>\n",
       "      <th>79</th>\n",
       "      <th>80</th>\n",
       "      <th>81</th>\n",
       "      <th>82</th>\n",
       "      <th>83</th>\n",
       "      <th>84</th>\n",
       "      <th>85</th>\n",
       "      <th>86</th>\n",
       "      <th>87</th>\n",
       "    </tr>\n",
       "  </thead>\n",
       "  <tbody>\n",
       "    <tr>\n",
       "      <th>0</th>\n",
       "      <td>0</td>\n",
       "      <td>0</td>\n",
       "      <td>0</td>\n",
       "      <td>0</td>\n",
       "      <td>0</td>\n",
       "      <td>0</td>\n",
       "      <td>0</td>\n",
       "      <td>0</td>\n",
       "      <td>0</td>\n",
       "      <td>0</td>\n",
       "      <td>...</td>\n",
       "      <td>0</td>\n",
       "      <td>0</td>\n",
       "      <td>0</td>\n",
       "      <td>0</td>\n",
       "      <td>0</td>\n",
       "      <td>0</td>\n",
       "      <td>0</td>\n",
       "      <td>0</td>\n",
       "      <td>0</td>\n",
       "      <td>0</td>\n",
       "    </tr>\n",
       "    <tr>\n",
       "      <th>1</th>\n",
       "      <td>0</td>\n",
       "      <td>0</td>\n",
       "      <td>0</td>\n",
       "      <td>0</td>\n",
       "      <td>0</td>\n",
       "      <td>0</td>\n",
       "      <td>0</td>\n",
       "      <td>0</td>\n",
       "      <td>0</td>\n",
       "      <td>0</td>\n",
       "      <td>...</td>\n",
       "      <td>0</td>\n",
       "      <td>0</td>\n",
       "      <td>0</td>\n",
       "      <td>0</td>\n",
       "      <td>0</td>\n",
       "      <td>0</td>\n",
       "      <td>0</td>\n",
       "      <td>0</td>\n",
       "      <td>0</td>\n",
       "      <td>0</td>\n",
       "    </tr>\n",
       "    <tr>\n",
       "      <th>2</th>\n",
       "      <td>0</td>\n",
       "      <td>0</td>\n",
       "      <td>0</td>\n",
       "      <td>0</td>\n",
       "      <td>0</td>\n",
       "      <td>0</td>\n",
       "      <td>0</td>\n",
       "      <td>0</td>\n",
       "      <td>0</td>\n",
       "      <td>0</td>\n",
       "      <td>...</td>\n",
       "      <td>0</td>\n",
       "      <td>0</td>\n",
       "      <td>0</td>\n",
       "      <td>0</td>\n",
       "      <td>0</td>\n",
       "      <td>0</td>\n",
       "      <td>0</td>\n",
       "      <td>0</td>\n",
       "      <td>0</td>\n",
       "      <td>0</td>\n",
       "    </tr>\n",
       "    <tr>\n",
       "      <th>3</th>\n",
       "      <td>0</td>\n",
       "      <td>0</td>\n",
       "      <td>0</td>\n",
       "      <td>0</td>\n",
       "      <td>0</td>\n",
       "      <td>0</td>\n",
       "      <td>0</td>\n",
       "      <td>0</td>\n",
       "      <td>0</td>\n",
       "      <td>0</td>\n",
       "      <td>...</td>\n",
       "      <td>0</td>\n",
       "      <td>0</td>\n",
       "      <td>0</td>\n",
       "      <td>0</td>\n",
       "      <td>0</td>\n",
       "      <td>0</td>\n",
       "      <td>0</td>\n",
       "      <td>0</td>\n",
       "      <td>0</td>\n",
       "      <td>0</td>\n",
       "    </tr>\n",
       "    <tr>\n",
       "      <th>4</th>\n",
       "      <td>0</td>\n",
       "      <td>0</td>\n",
       "      <td>1</td>\n",
       "      <td>0</td>\n",
       "      <td>0</td>\n",
       "      <td>0</td>\n",
       "      <td>0</td>\n",
       "      <td>0</td>\n",
       "      <td>0</td>\n",
       "      <td>0</td>\n",
       "      <td>...</td>\n",
       "      <td>0</td>\n",
       "      <td>0</td>\n",
       "      <td>0</td>\n",
       "      <td>0</td>\n",
       "      <td>0</td>\n",
       "      <td>0</td>\n",
       "      <td>0</td>\n",
       "      <td>0</td>\n",
       "      <td>0</td>\n",
       "      <td>0</td>\n",
       "    </tr>\n",
       "    <tr>\n",
       "      <th>5</th>\n",
       "      <td>0</td>\n",
       "      <td>0</td>\n",
       "      <td>0</td>\n",
       "      <td>0</td>\n",
       "      <td>0</td>\n",
       "      <td>0</td>\n",
       "      <td>0</td>\n",
       "      <td>0</td>\n",
       "      <td>0</td>\n",
       "      <td>0</td>\n",
       "      <td>...</td>\n",
       "      <td>0</td>\n",
       "      <td>0</td>\n",
       "      <td>0</td>\n",
       "      <td>0</td>\n",
       "      <td>0</td>\n",
       "      <td>0</td>\n",
       "      <td>0</td>\n",
       "      <td>0</td>\n",
       "      <td>0</td>\n",
       "      <td>0</td>\n",
       "    </tr>\n",
       "    <tr>\n",
       "      <th>6</th>\n",
       "      <td>0</td>\n",
       "      <td>0</td>\n",
       "      <td>0</td>\n",
       "      <td>0</td>\n",
       "      <td>0</td>\n",
       "      <td>0</td>\n",
       "      <td>0</td>\n",
       "      <td>0</td>\n",
       "      <td>0</td>\n",
       "      <td>0</td>\n",
       "      <td>...</td>\n",
       "      <td>0</td>\n",
       "      <td>0</td>\n",
       "      <td>0</td>\n",
       "      <td>0</td>\n",
       "      <td>0</td>\n",
       "      <td>0</td>\n",
       "      <td>0</td>\n",
       "      <td>0</td>\n",
       "      <td>0</td>\n",
       "      <td>0</td>\n",
       "    </tr>\n",
       "    <tr>\n",
       "      <th>7</th>\n",
       "      <td>0</td>\n",
       "      <td>0</td>\n",
       "      <td>0</td>\n",
       "      <td>0</td>\n",
       "      <td>0</td>\n",
       "      <td>0</td>\n",
       "      <td>0</td>\n",
       "      <td>0</td>\n",
       "      <td>0</td>\n",
       "      <td>0</td>\n",
       "      <td>...</td>\n",
       "      <td>0</td>\n",
       "      <td>0</td>\n",
       "      <td>0</td>\n",
       "      <td>0</td>\n",
       "      <td>0</td>\n",
       "      <td>0</td>\n",
       "      <td>0</td>\n",
       "      <td>0</td>\n",
       "      <td>0</td>\n",
       "      <td>0</td>\n",
       "    </tr>\n",
       "    <tr>\n",
       "      <th>8</th>\n",
       "      <td>0</td>\n",
       "      <td>0</td>\n",
       "      <td>0</td>\n",
       "      <td>0</td>\n",
       "      <td>0</td>\n",
       "      <td>0</td>\n",
       "      <td>0</td>\n",
       "      <td>0</td>\n",
       "      <td>0</td>\n",
       "      <td>0</td>\n",
       "      <td>...</td>\n",
       "      <td>0</td>\n",
       "      <td>0</td>\n",
       "      <td>0</td>\n",
       "      <td>0</td>\n",
       "      <td>0</td>\n",
       "      <td>0</td>\n",
       "      <td>0</td>\n",
       "      <td>0</td>\n",
       "      <td>0</td>\n",
       "      <td>0</td>\n",
       "    </tr>\n",
       "    <tr>\n",
       "      <th>9</th>\n",
       "      <td>0</td>\n",
       "      <td>0</td>\n",
       "      <td>0</td>\n",
       "      <td>0</td>\n",
       "      <td>0</td>\n",
       "      <td>0</td>\n",
       "      <td>0</td>\n",
       "      <td>0</td>\n",
       "      <td>0</td>\n",
       "      <td>0</td>\n",
       "      <td>...</td>\n",
       "      <td>0</td>\n",
       "      <td>0</td>\n",
       "      <td>0</td>\n",
       "      <td>0</td>\n",
       "      <td>0</td>\n",
       "      <td>0</td>\n",
       "      <td>0</td>\n",
       "      <td>0</td>\n",
       "      <td>0</td>\n",
       "      <td>0</td>\n",
       "    </tr>\n",
       "  </tbody>\n",
       "</table>\n",
       "<p>10 rows × 88 columns</p>\n",
       "</div>"
      ],
      "text/plain": [
       "   0   1   2   3   4   5   6   7   8   9  ...  78  79  80  81  82  83  84  85  \\\n",
       "0   0   0   0   0   0   0   0   0   0   0 ...   0   0   0   0   0   0   0   0   \n",
       "1   0   0   0   0   0   0   0   0   0   0 ...   0   0   0   0   0   0   0   0   \n",
       "2   0   0   0   0   0   0   0   0   0   0 ...   0   0   0   0   0   0   0   0   \n",
       "3   0   0   0   0   0   0   0   0   0   0 ...   0   0   0   0   0   0   0   0   \n",
       "4   0   0   1   0   0   0   0   0   0   0 ...   0   0   0   0   0   0   0   0   \n",
       "5   0   0   0   0   0   0   0   0   0   0 ...   0   0   0   0   0   0   0   0   \n",
       "6   0   0   0   0   0   0   0   0   0   0 ...   0   0   0   0   0   0   0   0   \n",
       "7   0   0   0   0   0   0   0   0   0   0 ...   0   0   0   0   0   0   0   0   \n",
       "8   0   0   0   0   0   0   0   0   0   0 ...   0   0   0   0   0   0   0   0   \n",
       "9   0   0   0   0   0   0   0   0   0   0 ...   0   0   0   0   0   0   0   0   \n",
       "\n",
       "   86  87  \n",
       "0   0   0  \n",
       "1   0   0  \n",
       "2   0   0  \n",
       "3   0   0  \n",
       "4   0   0  \n",
       "5   0   0  \n",
       "6   0   0  \n",
       "7   0   0  \n",
       "8   0   0  \n",
       "9   0   0  \n",
       "\n",
       "[10 rows x 88 columns]"
      ]
     },
     "metadata": {},
     "output_type": "display_data"
    }
   ],
   "source": [
    "display(out.iloc[0:10,:])"
   ]
  },
  {
   "cell_type": "markdown",
   "metadata": {},
   "source": [
    "## Get some info"
   ]
  },
  {
   "cell_type": "code",
   "execution_count": 8,
   "metadata": {
    "scrolled": true
   },
   "outputs": [
    {
     "name": "stdout",
     "output_type": "stream",
     "text": [
      "Empty instances: 28306\n",
      "Not empty instances: 12740\n"
     ]
    }
   ],
   "source": [
    "count_empty = np.where(np.sum(out,axis=1)==0)[0].shape[0]\n",
    "count_not_empty = out.shape[0] - count_empty\n",
    "print('Empty instances:',count_empty)\n",
    "print('Not empty instances:',count_not_empty)\n"
   ]
  },
  {
   "cell_type": "code",
   "execution_count": 9,
   "metadata": {},
   "outputs": [
    {
     "data": {
      "text/plain": [
       "(array([15281, 15282, 15283, ..., 23416, 23417, 23418]),)"
      ]
     },
     "execution_count": 9,
     "metadata": {},
     "output_type": "execute_result"
    }
   ],
   "source": [
    "np.where(np.sum(out,axis=1)==2)"
   ]
  },
  {
   "cell_type": "code",
   "execution_count": 10,
   "metadata": {},
   "outputs": [
    {
     "data": {
      "text/html": [
       "<div>\n",
       "<style scoped>\n",
       "    .dataframe tbody tr th:only-of-type {\n",
       "        vertical-align: middle;\n",
       "    }\n",
       "\n",
       "    .dataframe tbody tr th {\n",
       "        vertical-align: top;\n",
       "    }\n",
       "\n",
       "    .dataframe thead th {\n",
       "        text-align: right;\n",
       "    }\n",
       "</style>\n",
       "<table border=\"1\" class=\"dataframe\">\n",
       "  <thead>\n",
       "    <tr style=\"text-align: right;\">\n",
       "      <th></th>\n",
       "      <th>0</th>\n",
       "      <th>1</th>\n",
       "      <th>2</th>\n",
       "      <th>3</th>\n",
       "      <th>4</th>\n",
       "      <th>5</th>\n",
       "      <th>6</th>\n",
       "      <th>7</th>\n",
       "      <th>8</th>\n",
       "      <th>9</th>\n",
       "      <th>...</th>\n",
       "      <th>86</th>\n",
       "      <th>87</th>\n",
       "      <th>88</th>\n",
       "      <th>89</th>\n",
       "      <th>90</th>\n",
       "      <th>91</th>\n",
       "      <th>92</th>\n",
       "      <th>93</th>\n",
       "      <th>94</th>\n",
       "      <th>95</th>\n",
       "    </tr>\n",
       "  </thead>\n",
       "  <tbody>\n",
       "    <tr>\n",
       "      <th>0</th>\n",
       "      <td>0</td>\n",
       "      <td>0</td>\n",
       "      <td>0</td>\n",
       "      <td>0</td>\n",
       "      <td>0</td>\n",
       "      <td>0</td>\n",
       "      <td>0</td>\n",
       "      <td>0</td>\n",
       "      <td>0</td>\n",
       "      <td>0</td>\n",
       "      <td>...</td>\n",
       "      <td>0</td>\n",
       "      <td>0</td>\n",
       "      <td>1</td>\n",
       "      <td>0</td>\n",
       "      <td>0</td>\n",
       "      <td>0</td>\n",
       "      <td>0</td>\n",
       "      <td>0</td>\n",
       "      <td>0</td>\n",
       "      <td>0</td>\n",
       "    </tr>\n",
       "    <tr>\n",
       "      <th>1</th>\n",
       "      <td>0</td>\n",
       "      <td>0</td>\n",
       "      <td>0</td>\n",
       "      <td>0</td>\n",
       "      <td>0</td>\n",
       "      <td>0</td>\n",
       "      <td>0</td>\n",
       "      <td>0</td>\n",
       "      <td>0</td>\n",
       "      <td>0</td>\n",
       "      <td>...</td>\n",
       "      <td>0</td>\n",
       "      <td>0</td>\n",
       "      <td>1</td>\n",
       "      <td>0</td>\n",
       "      <td>0</td>\n",
       "      <td>0</td>\n",
       "      <td>0</td>\n",
       "      <td>0</td>\n",
       "      <td>0</td>\n",
       "      <td>0</td>\n",
       "    </tr>\n",
       "    <tr>\n",
       "      <th>2</th>\n",
       "      <td>0</td>\n",
       "      <td>0</td>\n",
       "      <td>0</td>\n",
       "      <td>0</td>\n",
       "      <td>0</td>\n",
       "      <td>0</td>\n",
       "      <td>0</td>\n",
       "      <td>0</td>\n",
       "      <td>0</td>\n",
       "      <td>0</td>\n",
       "      <td>...</td>\n",
       "      <td>0</td>\n",
       "      <td>0</td>\n",
       "      <td>1</td>\n",
       "      <td>0</td>\n",
       "      <td>0</td>\n",
       "      <td>0</td>\n",
       "      <td>0</td>\n",
       "      <td>0</td>\n",
       "      <td>0</td>\n",
       "      <td>0</td>\n",
       "    </tr>\n",
       "    <tr>\n",
       "      <th>3</th>\n",
       "      <td>0</td>\n",
       "      <td>0</td>\n",
       "      <td>0</td>\n",
       "      <td>0</td>\n",
       "      <td>0</td>\n",
       "      <td>0</td>\n",
       "      <td>0</td>\n",
       "      <td>0</td>\n",
       "      <td>0</td>\n",
       "      <td>0</td>\n",
       "      <td>...</td>\n",
       "      <td>0</td>\n",
       "      <td>0</td>\n",
       "      <td>1</td>\n",
       "      <td>0</td>\n",
       "      <td>0</td>\n",
       "      <td>0</td>\n",
       "      <td>0</td>\n",
       "      <td>0</td>\n",
       "      <td>0</td>\n",
       "      <td>0</td>\n",
       "    </tr>\n",
       "    <tr>\n",
       "      <th>4</th>\n",
       "      <td>0</td>\n",
       "      <td>0</td>\n",
       "      <td>1</td>\n",
       "      <td>0</td>\n",
       "      <td>0</td>\n",
       "      <td>0</td>\n",
       "      <td>0</td>\n",
       "      <td>0</td>\n",
       "      <td>0</td>\n",
       "      <td>0</td>\n",
       "      <td>...</td>\n",
       "      <td>0</td>\n",
       "      <td>0</td>\n",
       "      <td>0</td>\n",
       "      <td>1</td>\n",
       "      <td>0</td>\n",
       "      <td>0</td>\n",
       "      <td>0</td>\n",
       "      <td>0</td>\n",
       "      <td>0</td>\n",
       "      <td>0</td>\n",
       "    </tr>\n",
       "    <tr>\n",
       "      <th>5</th>\n",
       "      <td>0</td>\n",
       "      <td>0</td>\n",
       "      <td>0</td>\n",
       "      <td>0</td>\n",
       "      <td>0</td>\n",
       "      <td>0</td>\n",
       "      <td>0</td>\n",
       "      <td>0</td>\n",
       "      <td>0</td>\n",
       "      <td>0</td>\n",
       "      <td>...</td>\n",
       "      <td>0</td>\n",
       "      <td>0</td>\n",
       "      <td>1</td>\n",
       "      <td>0</td>\n",
       "      <td>0</td>\n",
       "      <td>0</td>\n",
       "      <td>0</td>\n",
       "      <td>0</td>\n",
       "      <td>0</td>\n",
       "      <td>0</td>\n",
       "    </tr>\n",
       "    <tr>\n",
       "      <th>6</th>\n",
       "      <td>0</td>\n",
       "      <td>0</td>\n",
       "      <td>0</td>\n",
       "      <td>0</td>\n",
       "      <td>0</td>\n",
       "      <td>0</td>\n",
       "      <td>0</td>\n",
       "      <td>0</td>\n",
       "      <td>0</td>\n",
       "      <td>0</td>\n",
       "      <td>...</td>\n",
       "      <td>0</td>\n",
       "      <td>0</td>\n",
       "      <td>1</td>\n",
       "      <td>0</td>\n",
       "      <td>0</td>\n",
       "      <td>0</td>\n",
       "      <td>0</td>\n",
       "      <td>0</td>\n",
       "      <td>0</td>\n",
       "      <td>0</td>\n",
       "    </tr>\n",
       "    <tr>\n",
       "      <th>7</th>\n",
       "      <td>0</td>\n",
       "      <td>0</td>\n",
       "      <td>0</td>\n",
       "      <td>0</td>\n",
       "      <td>0</td>\n",
       "      <td>0</td>\n",
       "      <td>0</td>\n",
       "      <td>0</td>\n",
       "      <td>0</td>\n",
       "      <td>0</td>\n",
       "      <td>...</td>\n",
       "      <td>0</td>\n",
       "      <td>0</td>\n",
       "      <td>0</td>\n",
       "      <td>1</td>\n",
       "      <td>0</td>\n",
       "      <td>0</td>\n",
       "      <td>0</td>\n",
       "      <td>0</td>\n",
       "      <td>0</td>\n",
       "      <td>0</td>\n",
       "    </tr>\n",
       "    <tr>\n",
       "      <th>8</th>\n",
       "      <td>0</td>\n",
       "      <td>0</td>\n",
       "      <td>0</td>\n",
       "      <td>0</td>\n",
       "      <td>0</td>\n",
       "      <td>0</td>\n",
       "      <td>0</td>\n",
       "      <td>0</td>\n",
       "      <td>0</td>\n",
       "      <td>0</td>\n",
       "      <td>...</td>\n",
       "      <td>0</td>\n",
       "      <td>0</td>\n",
       "      <td>0</td>\n",
       "      <td>1</td>\n",
       "      <td>0</td>\n",
       "      <td>0</td>\n",
       "      <td>0</td>\n",
       "      <td>0</td>\n",
       "      <td>0</td>\n",
       "      <td>0</td>\n",
       "    </tr>\n",
       "    <tr>\n",
       "      <th>9</th>\n",
       "      <td>0</td>\n",
       "      <td>0</td>\n",
       "      <td>0</td>\n",
       "      <td>0</td>\n",
       "      <td>0</td>\n",
       "      <td>0</td>\n",
       "      <td>0</td>\n",
       "      <td>0</td>\n",
       "      <td>0</td>\n",
       "      <td>0</td>\n",
       "      <td>...</td>\n",
       "      <td>0</td>\n",
       "      <td>0</td>\n",
       "      <td>0</td>\n",
       "      <td>1</td>\n",
       "      <td>0</td>\n",
       "      <td>0</td>\n",
       "      <td>0</td>\n",
       "      <td>0</td>\n",
       "      <td>0</td>\n",
       "      <td>0</td>\n",
       "    </tr>\n",
       "  </tbody>\n",
       "</table>\n",
       "<p>10 rows × 96 columns</p>\n",
       "</div>"
      ],
      "text/plain": [
       "   0   1   2   3   4   5   6   7   8   9  ...  86  87  88  89  90  91  92  93  \\\n",
       "0   0   0   0   0   0   0   0   0   0   0 ...   0   0   1   0   0   0   0   0   \n",
       "1   0   0   0   0   0   0   0   0   0   0 ...   0   0   1   0   0   0   0   0   \n",
       "2   0   0   0   0   0   0   0   0   0   0 ...   0   0   1   0   0   0   0   0   \n",
       "3   0   0   0   0   0   0   0   0   0   0 ...   0   0   1   0   0   0   0   0   \n",
       "4   0   0   1   0   0   0   0   0   0   0 ...   0   0   0   1   0   0   0   0   \n",
       "5   0   0   0   0   0   0   0   0   0   0 ...   0   0   1   0   0   0   0   0   \n",
       "6   0   0   0   0   0   0   0   0   0   0 ...   0   0   1   0   0   0   0   0   \n",
       "7   0   0   0   0   0   0   0   0   0   0 ...   0   0   0   1   0   0   0   0   \n",
       "8   0   0   0   0   0   0   0   0   0   0 ...   0   0   0   1   0   0   0   0   \n",
       "9   0   0   0   0   0   0   0   0   0   0 ...   0   0   0   1   0   0   0   0   \n",
       "\n",
       "   94  95  \n",
       "0   0   0  \n",
       "1   0   0  \n",
       "2   0   0  \n",
       "3   0   0  \n",
       "4   0   0  \n",
       "5   0   0  \n",
       "6   0   0  \n",
       "7   0   0  \n",
       "8   0   0  \n",
       "9   0   0  \n",
       "\n",
       "[10 rows x 96 columns]"
      ]
     },
     "metadata": {},
     "output_type": "display_data"
    }
   ],
   "source": [
    "count_notes = np.sum(out,axis=1)\n",
    "count_notes_hot = pd.get_dummies(count_notes)\n",
    "out_hot=pd.concat([out,count_notes_hot],axis=1,ignore_index=True)\n",
    "display(out_hot.iloc[0:10,:])"
   ]
  },
  {
   "cell_type": "code",
   "execution_count": 11,
   "metadata": {},
   "outputs": [],
   "source": [
    "empty = out_hot.iloc[:,88].get_values()\n",
    "empty_idx = np.where(empty==1)[0]\n",
    "not_empty_idx = np.where(empty==0)[0]\n",
    "\n",
    "# How many empty?\n",
    "num_empty = 10000\n",
    "\n",
    "# Get random empty index\n",
    "ii = random.sample(range(0,empty_idx.shape[0]),num_empty)\n",
    "rand_empty_idx = empty_idx[ii]\n"
   ]
  },
  {
   "cell_type": "code",
   "execution_count": 12,
   "metadata": {},
   "outputs": [
    {
     "data": {
      "text/plain": [
       "[<matplotlib.lines.Line2D at 0x7f018a4b3978>]"
      ]
     },
     "execution_count": 12,
     "metadata": {},
     "output_type": "execute_result"
    },
    {
     "data": {
      "image/png": "[encoded data removed]",
      "text/plain": [
       "<Figure size 432x288 with 1 Axes>"
      ]
     },
     "metadata": {
      "needs_background": "light"
     },
     "output_type": "display_data"
    }
   ],
   "source": [
    "plt.plot(np.sum(out.iloc[:,0:out.shape[1]],axis=0))"
   ]
  },
  {
   "cell_type": "code",
   "execution_count": 13,
   "metadata": {},
   "outputs": [
    {
     "data": {
      "text/plain": [
       "(41046,)"
      ]
     },
     "execution_count": 13,
     "metadata": {},
     "output_type": "execute_result"
    }
   ],
   "source": [
    "empty.shape"
   ]
  },
  {
   "cell_type": "code",
   "execution_count": 14,
   "metadata": {},
   "outputs": [
    {
     "name": "stdout",
     "output_type": "stream",
     "text": [
      "X_train_n shape: (16853, 394)\n",
      "y_train_n shape: (16853, 88)\n",
      "X_test_n shape: (887, 394)\n",
      "y_test_n shape: (887, 88)\n"
     ]
    }
   ],
   "source": [
    "# Split no note info\n",
    "X_n = pd.concat([inp.iloc[not_empty_idx,:],inp.iloc[rand_empty_idx,:]],axis=0,ignore_index=True)\n",
    "y_n = pd.concat([out.iloc[not_empty_idx,:],out.iloc[rand_empty_idx,:]],axis=0,ignore_index=True)\n",
    "X_train_n,X_test_n,y_train_n,y_test_n = train_test_split(X_n,y_n,train_size=0.95,test_size=0.05)\n",
    "print('X_train_n shape:',X_train_n.shape)\n",
    "print('y_train_n shape:',y_train_n.shape)\n",
    "print('X_test_n shape:',X_test_n.shape)\n",
    "print('y_test_n shape:',y_test_n.shape)"
   ]
  },
  {
   "cell_type": "code",
   "execution_count": 15,
   "metadata": {},
   "outputs": [
    {
     "name": "stdout",
     "output_type": "stream",
     "text": [
      "X_train_e shape: (16853, 394)\n",
      "y_train_e shape: (16853, 89)\n",
      "X_test_e shape: (887, 394)\n",
      "y_test_e shape: (887, 89)\n"
     ]
    }
   ],
   "source": [
    "# Split with empty\n",
    "X_e = pd.concat([inp.iloc[not_empty_idx,:],inp.iloc[rand_empty_idx,:]],axis=0,ignore_index=True)\n",
    "y_e = pd.concat([out_hot.iloc[not_empty_idx,0:89],out_hot.iloc[rand_empty_idx,0:89]],axis=0,ignore_index=True)\n",
    "X_train_e,X_test_e,y_train_e,y_test_e = train_test_split(X_e,y_e,train_size=0.95,test_size=0.05)\n",
    "print('X_train_e shape:',X_train_e.shape)\n",
    "print('y_train_e shape:',y_train_e.shape)\n",
    "print('X_test_e shape:',X_test_e.shape)\n",
    "print('y_test_e shape:',y_test_e.shape)"
   ]
  },
  {
   "cell_type": "code",
   "execution_count": 16,
   "metadata": {},
   "outputs": [
    {
     "name": "stdout",
     "output_type": "stream",
     "text": [
      "X_train_h shape: (16853, 394)\n",
      "y_train_h shape: (16853, 96)\n",
      "X_test_h shape: (887, 394)\n",
      "y_test_h shape: (887, 96)\n"
     ]
    }
   ],
   "source": [
    "# Split note one_hot\n",
    "X_h = pd.concat([inp.iloc[not_empty_idx,:],inp.iloc[rand_empty_idx,:]],axis=0,ignore_index=True)\n",
    "y_h = pd.concat([out_hot.iloc[not_empty_idx,:],out_hot.iloc[rand_empty_idx,:]],axis=0,ignore_index=True)\n",
    "X_train_h,X_test_h,y_train_h,y_test_h = train_test_split(X_h,y_h,train_size=0.95,test_size=0.05)\n",
    "print('X_train_h shape:',X_train_h.shape)\n",
    "print('y_train_h shape:',y_train_h.shape)\n",
    "print('X_test_h shape:',X_test_h.shape)\n",
    "print('y_test_h shape:',y_test_h.shape)"
   ]
  },
  {
   "cell_type": "markdown",
   "metadata": {},
   "source": [
    "## Training"
   ]
  },
  {
   "cell_type": "code",
   "execution_count": 17,
   "metadata": {},
   "outputs": [
    {
     "name": "stdout",
     "output_type": "stream",
     "text": [
      "Epoch 1/50\n",
      "16853/16853 [==============================] - 2s 92us/step - loss: 6.5173 - acc: 0.1440\n",
      "Epoch 2/50\n",
      "16853/16853 [==============================] - 1s 74us/step - loss: 4.9971 - acc: 0.3929\n",
      "Epoch 3/50\n",
      "16853/16853 [==============================] - 1s 75us/step - loss: 4.3132 - acc: 0.4489\n",
      "Epoch 4/50\n",
      "16853/16853 [==============================] - 1s 75us/step - loss: 3.9912 - acc: 0.4679\n",
      "Epoch 5/50\n",
      "16853/16853 [==============================] - 1s 75us/step - loss: 3.7860 - acc: 0.4747\n",
      "Epoch 6/50\n",
      "16853/16853 [==============================] - 1s 76us/step - loss: 3.6406 - acc: 0.4780\n",
      "Epoch 7/50\n",
      "16853/16853 [==============================] - 1s 76us/step - loss: 3.5273 - acc: 0.4839\n",
      "Epoch 8/50\n",
      "16853/16853 [==============================] - 1s 75us/step - loss: 3.4515 - acc: 0.4819\n",
      "Epoch 9/50\n",
      "16853/16853 [==============================] - 1s 83us/step - loss: 3.3790 - acc: 0.4849\n",
      "Epoch 10/50\n",
      "16853/16853 [==============================] - 1s 78us/step - loss: 3.3214 - acc: 0.4841\n",
      "Epoch 11/50\n",
      "16853/16853 [==============================] - 1s 75us/step - loss: 3.2608 - acc: 0.4868\n",
      "Epoch 12/50\n",
      "16853/16853 [==============================] - 1s 76us/step - loss: 3.2281 - acc: 0.4835\n",
      "Epoch 13/50\n",
      "16853/16853 [==============================] - 1s 86us/step - loss: 3.1734 - acc: 0.4904\n",
      "Epoch 14/50\n",
      "16853/16853 [==============================] - 1s 76us/step - loss: 3.1382 - acc: 0.4886\n",
      "Epoch 15/50\n",
      "16853/16853 [==============================] - 1s 76us/step - loss: 3.1096 - acc: 0.4942\n",
      "Epoch 16/50\n",
      "16853/16853 [==============================] - 1s 77us/step - loss: 3.0819 - acc: 0.4877\n",
      "Epoch 17/50\n",
      "16853/16853 [==============================] - 1s 75us/step - loss: 3.0465 - acc: 0.4908\n",
      "Epoch 18/50\n",
      "16853/16853 [==============================] - 1s 77us/step - loss: 3.0189 - acc: 0.4920\n",
      "Epoch 19/50\n",
      "16853/16853 [==============================] - 1s 77us/step - loss: 2.9907 - acc: 0.4907\n",
      "Epoch 20/50\n",
      "16853/16853 [==============================] - 2s 95us/step - loss: 2.9888 - acc: 0.4922\n",
      "Epoch 21/50\n",
      "16853/16853 [==============================] - 1s 75us/step - loss: 2.9467 - acc: 0.4940\n",
      "Epoch 22/50\n",
      "16853/16853 [==============================] - 1s 76us/step - loss: 2.9275 - acc: 0.4934\n",
      "Epoch 23/50\n",
      "16853/16853 [==============================] - 1s 76us/step - loss: 2.9175 - acc: 0.4942\n",
      "Epoch 24/50\n",
      "16853/16853 [==============================] - 1s 77us/step - loss: 2.8963 - acc: 0.4952\n",
      "Epoch 25/50\n",
      "16853/16853 [==============================] - 1s 76us/step - loss: 2.8764 - acc: 0.4962\n",
      "Epoch 26/50\n",
      "16853/16853 [==============================] - 1s 76us/step - loss: 2.8592 - acc: 0.4942\n",
      "Epoch 27/50\n",
      "16853/16853 [==============================] - 1s 77us/step - loss: 2.8426 - acc: 0.4928\n",
      "Epoch 28/50\n",
      "16853/16853 [==============================] - 1s 77us/step - loss: 2.8373 - acc: 0.4981\n",
      "Epoch 29/50\n",
      "16853/16853 [==============================] - 1s 78us/step - loss: 2.8228 - acc: 0.4958\n",
      "Epoch 30/50\n",
      "16853/16853 [==============================] - 1s 76us/step - loss: 2.7955 - acc: 0.4970\n",
      "Epoch 31/50\n",
      "16853/16853 [==============================] - 1s 84us/step - loss: 2.7955 - acc: 0.4969\n",
      "Epoch 32/50\n",
      "16853/16853 [==============================] - 2s 91us/step - loss: 2.7868 - acc: 0.4974\n",
      "Epoch 33/50\n",
      "16853/16853 [==============================] - 2s 115us/step - loss: 2.7563 - acc: 0.4961\n",
      "Epoch 34/50\n",
      "16853/16853 [==============================] - 1s 85us/step - loss: 2.7538 - acc: 0.4982\n",
      "Epoch 35/50\n",
      "16853/16853 [==============================] - 1s 81us/step - loss: 2.7461 - acc: 0.4963\n",
      "Epoch 36/50\n",
      "16853/16853 [==============================] - 1s 77us/step - loss: 2.7346 - acc: 0.4980\n",
      "Epoch 37/50\n",
      "16853/16853 [==============================] - 1s 79us/step - loss: 2.7211 - acc: 0.4977\n",
      "Epoch 38/50\n",
      "16853/16853 [==============================] - 1s 81us/step - loss: 2.7176 - acc: 0.4996\n",
      "Epoch 39/50\n",
      "16853/16853 [==============================] - 1s 77us/step - loss: 2.7051 - acc: 0.4964\n",
      "Epoch 40/50\n",
      "16853/16853 [==============================] - 1s 78us/step - loss: 2.6930 - acc: 0.4979\n",
      "Epoch 41/50\n",
      "16853/16853 [==============================] - 1s 80us/step - loss: 2.6845 - acc: 0.4993\n",
      "Epoch 42/50\n",
      "16853/16853 [==============================] - 1s 78us/step - loss: 2.6635 - acc: 0.5011\n",
      "Epoch 43/50\n",
      "16853/16853 [==============================] - 1s 80us/step - loss: 2.6698 - acc: 0.4973\n",
      "Epoch 44/50\n",
      "16853/16853 [==============================] - 2s 94us/step - loss: 2.6594 - acc: 0.4970\n",
      "Epoch 45/50\n",
      "16853/16853 [==============================] - 1s 79us/step - loss: 2.6451 - acc: 0.4964\n",
      "Epoch 46/50\n",
      "16853/16853 [==============================] - 1s 79us/step - loss: 2.6332 - acc: 0.4993\n",
      "Epoch 47/50\n",
      "16853/16853 [==============================] - 1s 78us/step - loss: 2.6327 - acc: 0.4974\n",
      "Epoch 48/50\n",
      "16853/16853 [==============================] - 1s 77us/step - loss: 2.6232 - acc: 0.4994\n",
      "Epoch 49/50\n",
      "16853/16853 [==============================] - 1s 84us/step - loss: 2.6197 - acc: 0.4963\n",
      "Epoch 50/50\n",
      "16853/16853 [==============================] - 1s 79us/step - loss: 2.6118 - acc: 0.4990\n",
      "Done\n"
     ]
    }
   ],
   "source": [
    "# Single layer, no note info\n",
    "model_s_n = keras.Sequential()\n",
    "model_s_n.add(keras.layers.Dense(units=out.shape[1], activation='relu',input_dim=X_n.shape[1]))\n",
    "model_s_n.add(keras.layers.Dense(units=out.shape[1], activation='softmax'))\n",
    "model_s_n.compile(loss='categorical_crossentropy', optimizer='sgd',metrics=['accuracy'])\n",
    "model_s_n.fit(X_train_n,y_train_n,epochs=50, batch_size=32)\n",
    "print('Done')"
   ]
  },
  {
   "cell_type": "code",
   "execution_count": 18,
   "metadata": {},
   "outputs": [
    {
     "name": "stdout",
     "output_type": "stream",
     "text": [
      "Epoch 1/50\n",
      "16853/16853 [==============================] - 1s 88us/step - loss: 7.3055 - acc: 0.3753\n",
      "Epoch 2/50\n",
      "16853/16853 [==============================] - 1s 74us/step - loss: 5.3126 - acc: 0.6198\n",
      "Epoch 3/50\n",
      "16853/16853 [==============================] - 1s 72us/step - loss: 4.5056 - acc: 0.6780\n",
      "Epoch 4/50\n",
      "16853/16853 [==============================] - 1s 73us/step - loss: 4.1645 - acc: 0.6980\n",
      "Epoch 5/50\n",
      "16853/16853 [==============================] - 1s 74us/step - loss: 3.9309 - acc: 0.7103\n",
      "Epoch 6/50\n",
      "16853/16853 [==============================] - 1s 74us/step - loss: 3.7844 - acc: 0.7195\n",
      "Epoch 7/50\n",
      "16853/16853 [==============================] - 1s 73us/step - loss: 3.6644 - acc: 0.7218\n",
      "Epoch 8/50\n",
      "16853/16853 [==============================] - 1s 80us/step - loss: 3.5793 - acc: 0.7243\n",
      "Epoch 9/50\n",
      "16853/16853 [==============================] - 1s 72us/step - loss: 3.5059 - acc: 0.7275\n",
      "Epoch 10/50\n",
      "16853/16853 [==============================] - 1s 73us/step - loss: 3.4488 - acc: 0.7309\n",
      "Epoch 11/50\n",
      "16853/16853 [==============================] - 1s 79us/step - loss: 3.3761 - acc: 0.7362\n",
      "Epoch 12/50\n",
      "16853/16853 [==============================] - 1s 73us/step - loss: 3.3391 - acc: 0.7374\n",
      "Epoch 13/50\n",
      "16853/16853 [==============================] - 1s 74us/step - loss: 3.2958 - acc: 0.7393\n",
      "Epoch 14/50\n",
      "16853/16853 [==============================] - 1s 72us/step - loss: 3.2607 - acc: 0.7389\n",
      "Epoch 15/50\n",
      "16853/16853 [==============================] - 1s 72us/step - loss: 3.2176 - acc: 0.7411\n",
      "Epoch 16/50\n",
      "16853/16853 [==============================] - 1s 73us/step - loss: 3.1837 - acc: 0.7427\n",
      "Epoch 17/50\n",
      "16853/16853 [==============================] - 1s 74us/step - loss: 3.1678 - acc: 0.7395\n",
      "Epoch 18/50\n",
      "16853/16853 [==============================] - 1s 73us/step - loss: 3.1358 - acc: 0.7465\n",
      "Epoch 19/50\n",
      "16853/16853 [==============================] - 1s 73us/step - loss: 3.1120 - acc: 0.7471\n",
      "Epoch 20/50\n",
      "16853/16853 [==============================] - 1s 73us/step - loss: 3.0894 - acc: 0.7435\n",
      "Epoch 21/50\n",
      "16853/16853 [==============================] - 1s 74us/step - loss: 3.0623 - acc: 0.7463\n",
      "Epoch 22/50\n",
      "16853/16853 [==============================] - 1s 73us/step - loss: 3.0375 - acc: 0.7500\n",
      "Epoch 23/50\n",
      "16853/16853 [==============================] - 1s 77us/step - loss: 3.0350 - acc: 0.7463\n",
      "Epoch 24/50\n",
      "16853/16853 [==============================] - 1s 75us/step - loss: 3.0031 - acc: 0.7491\n",
      "Epoch 25/50\n",
      "16853/16853 [==============================] - 1s 76us/step - loss: 2.9880 - acc: 0.7519\n",
      "Epoch 26/50\n",
      "16853/16853 [==============================] - 1s 73us/step - loss: 2.9686 - acc: 0.7489\n",
      "Epoch 27/50\n",
      "16853/16853 [==============================] - 1s 73us/step - loss: 2.9531 - acc: 0.7538\n",
      "Epoch 28/50\n",
      "16853/16853 [==============================] - 1s 76us/step - loss: 2.9439 - acc: 0.7508\n",
      "Epoch 29/50\n",
      "16853/16853 [==============================] - 1s 75us/step - loss: 2.9299 - acc: 0.7529\n",
      "Epoch 30/50\n",
      "16853/16853 [==============================] - 1s 72us/step - loss: 2.9129 - acc: 0.7508\n",
      "Epoch 31/50\n",
      "16853/16853 [==============================] - 1s 74us/step - loss: 2.8990 - acc: 0.7525\n",
      "Epoch 32/50\n",
      "16853/16853 [==============================] - 1s 73us/step - loss: 2.8779 - acc: 0.7544\n",
      "Epoch 33/50\n",
      "16853/16853 [==============================] - 1s 76us/step - loss: 2.8731 - acc: 0.7520\n",
      "Epoch 34/50\n",
      "16853/16853 [==============================] - 1s 74us/step - loss: 2.8578 - acc: 0.7550\n",
      "Epoch 35/50\n",
      "16853/16853 [==============================] - 1s 75us/step - loss: 2.8343 - acc: 0.7567\n",
      "Epoch 36/50\n",
      "16853/16853 [==============================] - 1s 75us/step - loss: 2.8257 - acc: 0.7587\n",
      "Epoch 37/50\n",
      "16853/16853 [==============================] - 1s 73us/step - loss: 2.8227 - acc: 0.7549\n",
      "Epoch 38/50\n",
      "16853/16853 [==============================] - 1s 73us/step - loss: 2.8015 - acc: 0.7539\n",
      "Epoch 39/50\n",
      "16853/16853 [==============================] - 1s 74us/step - loss: 2.8024 - acc: 0.7510\n",
      "Epoch 40/50\n",
      "16853/16853 [==============================] - 1s 76us/step - loss: 2.7843 - acc: 0.7545\n",
      "Epoch 41/50\n",
      "16853/16853 [==============================] - 1s 75us/step - loss: 2.7820 - acc: 0.7620\n",
      "Epoch 42/50\n",
      "16853/16853 [==============================] - 1s 72us/step - loss: 2.7846 - acc: 0.7554\n",
      "Epoch 43/50\n",
      "16853/16853 [==============================] - 1s 74us/step - loss: 2.7668 - acc: 0.7565\n",
      "Epoch 44/50\n",
      "16853/16853 [==============================] - 1s 74us/step - loss: 2.7538 - acc: 0.7577\n",
      "Epoch 45/50\n",
      "16853/16853 [==============================] - 1s 75us/step - loss: 2.7415 - acc: 0.7571\n",
      "Epoch 46/50\n",
      "16853/16853 [==============================] - 1s 74us/step - loss: 2.7268 - acc: 0.7564\n",
      "Epoch 47/50\n",
      "16853/16853 [==============================] - 1s 74us/step - loss: 2.7325 - acc: 0.7548\n",
      "Epoch 48/50\n",
      "16853/16853 [==============================] - 1s 74us/step - loss: 2.7176 - acc: 0.7594\n",
      "Epoch 49/50\n",
      "16853/16853 [==============================] - 1s 75us/step - loss: 2.7089 - acc: 0.7594\n",
      "Epoch 50/50\n",
      "16853/16853 [==============================] - 1s 74us/step - loss: 2.7009 - acc: 0.7592\n",
      "Done\n"
     ]
    }
   ],
   "source": [
    "# Single layer, with empty\n",
    "model_s_e = keras.Sequential()\n",
    "model_s_e.add(keras.layers.Dense(units=out.shape[1]+1, activation='relu',input_dim=X_e.shape[1]))\n",
    "model_s_e.add(keras.layers.Dense(units=out.shape[1]+1, activation='softmax'))\n",
    "model_s_e.compile(loss='categorical_crossentropy', optimizer='sgd',metrics=['accuracy'])\n",
    "model_s_e.fit(X_train_e,y_train_e,epochs=50, batch_size=32)\n",
    "print('Done')"
   ]
  },
  {
   "cell_type": "code",
   "execution_count": 19,
   "metadata": {},
   "outputs": [
    {
     "name": "stdout",
     "output_type": "stream",
     "text": [
      "Epoch 1/50\n",
      "16853/16853 [==============================] - 2s 91us/step - loss: 10.1546 - acc: 0.1908\n",
      "Epoch 2/50\n",
      "16853/16853 [==============================] - 1s 72us/step - loss: 7.8885 - acc: 0.4495\n",
      "Epoch 3/50\n",
      "16853/16853 [==============================] - 1s 75us/step - loss: 6.9651 - acc: 0.5223\n",
      "Epoch 4/50\n",
      "16853/16853 [==============================] - 1s 75us/step - loss: 6.5232 - acc: 0.5293\n",
      "Epoch 5/50\n",
      "16853/16853 [==============================] - 1s 73us/step - loss: 6.2700 - acc: 0.5404\n",
      "Epoch 6/50\n",
      "16853/16853 [==============================] - 1s 71us/step - loss: 6.0991 - acc: 0.5441\n",
      "Epoch 7/50\n",
      "16853/16853 [==============================] - 1s 76us/step - loss: 5.9349 - acc: 0.5510\n",
      "Epoch 8/50\n",
      "16853/16853 [==============================] - 1s 76us/step - loss: 5.8233 - acc: 0.5533\n",
      "Epoch 9/50\n",
      "16853/16853 [==============================] - 1s 84us/step - loss: 5.7247 - acc: 0.5533\n",
      "Epoch 10/50\n",
      "16853/16853 [==============================] - 1s 76us/step - loss: 5.6505 - acc: 0.5547\n",
      "Epoch 11/50\n",
      "16853/16853 [==============================] - 1s 73us/step - loss: 5.5873 - acc: 0.5583\n",
      "Epoch 12/50\n",
      "16853/16853 [==============================] - 1s 76us/step - loss: 5.5211 - acc: 0.5529\n",
      "Epoch 13/50\n",
      "16853/16853 [==============================] - 1s 83us/step - loss: 5.4721 - acc: 0.5546\n",
      "Epoch 14/50\n",
      "16853/16853 [==============================] - 1s 74us/step - loss: 5.4299 - acc: 0.5574\n",
      "Epoch 15/50\n",
      "16853/16853 [==============================] - 1s 76us/step - loss: 5.3792 - acc: 0.5568\n",
      "Epoch 16/50\n",
      "16853/16853 [==============================] - 1s 77us/step - loss: 5.3325 - acc: 0.5570\n",
      "Epoch 17/50\n",
      "16853/16853 [==============================] - 1s 73us/step - loss: 5.3037 - acc: 0.5580\n",
      "Epoch 18/50\n",
      "16853/16853 [==============================] - 1s 73us/step - loss: 5.2781 - acc: 0.5577\n",
      "Epoch 19/50\n",
      "16853/16853 [==============================] - 1s 75us/step - loss: 5.2310 - acc: 0.5565\n",
      "Epoch 20/50\n",
      "16853/16853 [==============================] - 1s 72us/step - loss: 5.1938 - acc: 0.5588\n",
      "Epoch 21/50\n",
      "16853/16853 [==============================] - 1s 76us/step - loss: 5.1738 - acc: 0.5629\n",
      "Epoch 22/50\n",
      "16853/16853 [==============================] - 1s 75us/step - loss: 5.1539 - acc: 0.5553\n",
      "Epoch 23/50\n",
      "16853/16853 [==============================] - 1s 77us/step - loss: 5.1210 - acc: 0.5572\n",
      "Epoch 24/50\n",
      "16853/16853 [==============================] - 1s 76us/step - loss: 5.0940 - acc: 0.5555\n",
      "Epoch 25/50\n",
      "16853/16853 [==============================] - 1s 74us/step - loss: 5.0712 - acc: 0.5563\n",
      "Epoch 26/50\n",
      "16853/16853 [==============================] - 1s 77us/step - loss: 5.0567 - acc: 0.5601\n",
      "Epoch 27/50\n",
      "16853/16853 [==============================] - 1s 76us/step - loss: 5.0308 - acc: 0.5598\n",
      "Epoch 28/50\n",
      "16853/16853 [==============================] - 1s 75us/step - loss: 5.0107 - acc: 0.5597\n",
      "Epoch 29/50\n",
      "16853/16853 [==============================] - 1s 77us/step - loss: 5.0047 - acc: 0.5551\n",
      "Epoch 30/50\n",
      "16853/16853 [==============================] - 1s 76us/step - loss: 4.9675 - acc: 0.5590\n",
      "Epoch 31/50\n",
      "16853/16853 [==============================] - 1s 76us/step - loss: 4.9609 - acc: 0.5599\n",
      "Epoch 32/50\n",
      "16853/16853 [==============================] - 1s 75us/step - loss: 4.9426 - acc: 0.5605\n",
      "Epoch 33/50\n",
      "16853/16853 [==============================] - 1s 75us/step - loss: 4.9228 - acc: 0.5575\n",
      "Epoch 34/50\n",
      "16853/16853 [==============================] - 1s 75us/step - loss: 4.9099 - acc: 0.5601\n",
      "Epoch 35/50\n",
      "16853/16853 [==============================] - 1s 75us/step - loss: 4.8798 - acc: 0.5600\n",
      "Epoch 36/50\n",
      "16853/16853 [==============================] - 1s 74us/step - loss: 4.8731 - acc: 0.5592\n",
      "Epoch 37/50\n",
      "16853/16853 [==============================] - 1s 78us/step - loss: 4.8606 - acc: 0.5586\n",
      "Epoch 38/50\n",
      "16853/16853 [==============================] - 1s 73us/step - loss: 4.8466 - acc: 0.5638\n",
      "Epoch 39/50\n",
      "16853/16853 [==============================] - 1s 75us/step - loss: 4.8261 - acc: 0.5625\n",
      "Epoch 40/50\n",
      "16853/16853 [==============================] - 1s 73us/step - loss: 4.8160 - acc: 0.5616\n",
      "Epoch 41/50\n",
      "16853/16853 [==============================] - 2s 99us/step - loss: 4.8043 - acc: 0.5620\n",
      "Epoch 42/50\n",
      "16853/16853 [==============================] - 2s 130us/step - loss: 4.7960 - acc: 0.5610\n",
      "Epoch 43/50\n",
      "16853/16853 [==============================] - 2s 103us/step - loss: 4.7803 - acc: 0.5602\n",
      "Epoch 44/50\n",
      "16853/16853 [==============================] - 2s 94us/step - loss: 4.7627 - acc: 0.5593\n",
      "Epoch 45/50\n",
      "16853/16853 [==============================] - 1s 89us/step - loss: 4.7556 - acc: 0.5593\n",
      "Epoch 46/50\n",
      "16853/16853 [==============================] - 2s 90us/step - loss: 4.7505 - acc: 0.5600\n",
      "Epoch 47/50\n",
      "16853/16853 [==============================] - 2s 92us/step - loss: 4.7582 - acc: 0.5624\n",
      "Epoch 48/50\n",
      "16853/16853 [==============================] - 2s 102us/step - loss: 4.7223 - acc: 0.5633\n",
      "Epoch 49/50\n",
      "16853/16853 [==============================] - 2s 103us/step - loss: 4.7153 - acc: 0.5589\n",
      "Epoch 50/50\n",
      "16853/16853 [==============================] - 2s 94us/step - loss: 4.7137 - acc: 0.5636\n"
     ]
    },
    {
     "data": {
      "text/plain": [
       "<tensorflow.python.keras.callbacks.History at 0x7f017c5816d8>"
      ]
     },
     "execution_count": 19,
     "metadata": {},
     "output_type": "execute_result"
    }
   ],
   "source": [
    "# Single layer, one hot encoding for notes\n",
    "model_s_h = keras.Sequential()\n",
    "model_s_h.add(keras.layers.Dense(units=y_h.shape[1], activation='relu',input_dim=X_h.shape[1]))\n",
    "model_s_h.add(keras.layers.Dense(units=y_h.shape[1], activation='softmax'))\n",
    "model_s_h.compile(loss='categorical_crossentropy', optimizer='sgd',metrics=['accuracy'])\n",
    "model_s_h.fit(X_train_h,y_train_h,epochs=50, batch_size=32)"
   ]
  },
  {
   "cell_type": "code",
   "execution_count": 59,
   "metadata": {},
   "outputs": [],
   "source": [
    "y_pred_n = model_s_n.predict(X_test_n,batch_size=32)\n",
    "y_pred_e = model_s_e.predict(X_test_e,batch_size=32)\n",
    "y_pred_h = model_s_h.predict(X_test_h,batch_size=32)\n",
    "threshold = 0.2"
   ]
  },
  {
   "cell_type": "code",
   "execution_count": 29,
   "metadata": {},
   "outputs": [],
   "source": [
    "inp_test_path = os.path.join(os.getcwd(),'Data/Processed/Testing/input.txt')\n",
    "inp_test=pd.read_csv(inp_test_path,sep=',',header=None)\n",
    "\n",
    "y_pred_n = model_s_n.predict(inp_test,batch_size=8)\n",
    "y_pred_e = model_s_e.predict(inp_test,batch_size=8)\n",
    "y_pred_h = model_s_h.predict(inp_test,batch_size=8)\n",
    "threshold = 0.2"
   ]
  },
  {
   "cell_type": "code",
   "execution_count": 21,
   "metadata": {},
   "outputs": [
    {
     "name": "stdout",
     "output_type": "stream",
     "text": [
      "(51, 88)\n",
      "(51, 89)\n",
      "(51, 96)\n"
     ]
    }
   ],
   "source": [
    "print(y_pred_n.shape)\n",
    "print(y_pred_e.shape)\n",
    "print(y_pred_h.shape)\n"
   ]
  },
  {
   "cell_type": "markdown",
   "metadata": {},
   "source": [
    "## Testing"
   ]
  },
  {
   "cell_type": "code",
   "execution_count": 37,
   "metadata": {},
   "outputs": [],
   "source": [
    "# General Accuracy\n",
    "def general_acc(y_pred,y_true):\n",
    "    j=0\n",
    "    for i in range(y_true.shape[0]):\n",
    "        if (np.array_equal(y_pred[i,:],y_true[i,:])):\n",
    "            j=j+1\n",
    "    return (j/y_true.shape[0])"
   ]
  },
  {
   "cell_type": "code",
   "execution_count": 38,
   "metadata": {},
   "outputs": [],
   "source": [
    "# Empty Accuracy\n",
    "def empty_acc(y_pred,y_true):\n",
    "    j=0\n",
    "    k=0\n",
    "    z=np.zeros(88)\n",
    "    for i in range(y_true.shape[0]):\n",
    "        if (np.array_equal(y_pred[i,:],z)):\n",
    "            k=k+1\n",
    "            if (np.array_equal(y_true[i],z)):\n",
    "                j=j+1\n",
    "    return (j/k)"
   ]
  },
  {
   "cell_type": "code",
   "execution_count": 39,
   "metadata": {},
   "outputs": [],
   "source": [
    "# Non Empty Accuracy\n",
    "def non_empty_acc(y_pred,y_true):\n",
    "    j=0\n",
    "    k=0\n",
    "    z=np.zeros(88)\n",
    "    for i in range(y_true.shape[0]):\n",
    "        if (not np.array_equal(y_pred[i,:],z)):\n",
    "            k=k+1\n",
    "            if (np.array_equal(y_true[i,:],y_pred[i,:])):\n",
    "                j=j+1\n",
    "    return (j/k)"
   ]
  },
  {
   "cell_type": "code",
   "execution_count": 40,
   "metadata": {},
   "outputs": [],
   "source": [
    "# Number of Notes Accuracy\n",
    "def note_num_acc(y_pred,y_true):\n",
    "    j=0\n",
    "    a=np.sum(y_pred,axis=1)\n",
    "    b=np.sum(y_true,axis=1)\n",
    "    for i in range(y_true.shape[0]):\n",
    "        if (a[i]==b[i]):\n",
    "            j=j+1\n",
    "    return (j/y_true.shape[0])"
   ]
  },
  {
   "cell_type": "code",
   "execution_count": 41,
   "metadata": {},
   "outputs": [],
   "source": [
    "# Number of Notes Accuracy by number\n",
    "def note_num_acc_specific(y_pred,y_true):\n",
    "    j=0\n",
    "    a=np.sum(y_pred,axis=1)\n",
    "    b=np.sum(y_true,axis=1)\n",
    "    c=np.unique(np.sum(y_pred,axis=1))\n",
    "    d=np.unique(np.sum(y_true,axis=1))\n",
    "    e=np.zeros(d.shape[0])\n",
    "    f=np.zeros(d.shape[0])\n",
    "    for i in range(d.shape[0]):\n",
    "        f[i]=np.where(a==i)[0].shape[0]\n",
    "        if (f[i]==0):\n",
    "            f[i]=1\n",
    "    for i in range(y_true.shape[0]):\n",
    "        num_pred_notes = int(a[i])\n",
    "        if (num_pred_notes==b[i]):\n",
    "            e[num_pred_notes]=e[num_pred_notes]+1\n",
    "    for i in range(d.shape[0]):\n",
    "        e[i]=e[i]/f[i]\n",
    "    return e"
   ]
  },
  {
   "cell_type": "code",
   "execution_count": 42,
   "metadata": {},
   "outputs": [],
   "source": [
    "# Number of right notes when right\n",
    "def same_num_note_acc(y_pred,y_true):\n",
    "    j=0\n",
    "    k=0\n",
    "    a=np.sum(y_pred,axis=1)\n",
    "    b=np.sum(y_true,axis=1)\n",
    "    for i in range(y_true.shape[0]):\n",
    "        if (a[i]==b[i]):\n",
    "            k=k+1\n",
    "            if (np.array_equal(y_pred[i,:],y_true[i,:])):\n",
    "                j=j+1\n",
    "    return (j/k)"
   ]
  },
  {
   "cell_type": "code",
   "execution_count": 43,
   "metadata": {},
   "outputs": [],
   "source": [
    "# Number of correct notes in prediction\n",
    "def num_notes_correct_acc1(y_pred,y_true):\n",
    "    j=0\n",
    "    for i in range(y_true.shape[0]):\n",
    "        a=np.where(y_pred[i,:]==1)[0]\n",
    "        b=np.where(y_true[i,:]==1)[0]\n",
    "        if (a.shape[0]!=0):\n",
    "            c = np.intersect1d(a,b).shape[0]\n",
    "            j=j+c/(a.shape[0])\n",
    "    return (j/y_true.shape[0])"
   ]
  },
  {
   "cell_type": "code",
   "execution_count": 44,
   "metadata": {},
   "outputs": [],
   "source": [
    "# Number of correct notes in prediction\n",
    "def num_notes_correct_acc2(y_pred,y_true):\n",
    "    j=0\n",
    "    for i in range(y_true.shape[0]):\n",
    "        a=np.where(y_pred[i,:]==1)[0]\n",
    "        b=np.where(y_true[i,:]==1)[0]\n",
    "        if (b.shape[0]!=0):\n",
    "            c = np.intersect1d(a,b).shape[0]\n",
    "            j=j+c/(b.shape[0])\n",
    "    return (j/y_true.shape[0])"
   ]
  },
  {
   "cell_type": "markdown",
   "metadata": {},
   "source": [
    "## Method 1"
   ]
  },
  {
   "cell_type": "code",
   "execution_count": 45,
   "metadata": {},
   "outputs": [],
   "source": [
    "y_note_pred_n = y_pred_n.copy()\n",
    "y_note_pred_n[y_note_pred_n<threshold]=0\n",
    "y_note_pred_n[y_note_pred_n>=threshold]=1\n",
    "y_note_test_n=y_test_n.get_values()"
   ]
  },
  {
   "cell_type": "code",
   "execution_count": 46,
   "metadata": {},
   "outputs": [
    {
     "ename": "IndexError",
     "evalue": "index 51 is out of bounds for axis 0 with size 51",
     "output_type": "error",
     "traceback": [
      "\u001b[0;31m---------------------------------------------------------------------------\u001b[0m",
      "\u001b[0;31mIndexError\u001b[0m                                Traceback (most recent call last)",
      "\u001b[0;32m<ipython-input-46-31d00eac22ef>\u001b[0m in \u001b[0;36m<module>\u001b[0;34m\u001b[0m\n\u001b[0;32m----> 1\u001b[0;31m \u001b[0mgeneral_acc_n\u001b[0m \u001b[0;34m=\u001b[0m \u001b[0mgeneral_acc\u001b[0m\u001b[0;34m(\u001b[0m\u001b[0my_pred\u001b[0m\u001b[0;34m=\u001b[0m\u001b[0my_note_pred_n\u001b[0m\u001b[0;34m,\u001b[0m\u001b[0my_true\u001b[0m\u001b[0;34m=\u001b[0m\u001b[0my_note_test_n\u001b[0m\u001b[0;34m)\u001b[0m\u001b[0;34m\u001b[0m\u001b[0m\n\u001b[0m\u001b[1;32m      2\u001b[0m \u001b[0mprint\u001b[0m\u001b[0;34m(\u001b[0m\u001b[0;34m'General Accuracy:'\u001b[0m\u001b[0;34m,\u001b[0m\u001b[0mgeneral_acc_n\u001b[0m\u001b[0;34m)\u001b[0m\u001b[0;34m\u001b[0m\u001b[0m\n",
      "\u001b[0;32m<ipython-input-37-e69fcdd1886c>\u001b[0m in \u001b[0;36mgeneral_acc\u001b[0;34m(y_pred, y_true)\u001b[0m\n\u001b[1;32m      3\u001b[0m     \u001b[0mj\u001b[0m\u001b[0;34m=\u001b[0m\u001b[0;36m0\u001b[0m\u001b[0;34m\u001b[0m\u001b[0m\n\u001b[1;32m      4\u001b[0m     \u001b[0;32mfor\u001b[0m \u001b[0mi\u001b[0m \u001b[0;32min\u001b[0m \u001b[0mrange\u001b[0m\u001b[0;34m(\u001b[0m\u001b[0my_true\u001b[0m\u001b[0;34m.\u001b[0m\u001b[0mshape\u001b[0m\u001b[0;34m[\u001b[0m\u001b[0;36m0\u001b[0m\u001b[0;34m]\u001b[0m\u001b[0;34m)\u001b[0m\u001b[0;34m:\u001b[0m\u001b[0;34m\u001b[0m\u001b[0m\n\u001b[0;32m----> 5\u001b[0;31m         \u001b[0;32mif\u001b[0m \u001b[0;34m(\u001b[0m\u001b[0mnp\u001b[0m\u001b[0;34m.\u001b[0m\u001b[0marray_equal\u001b[0m\u001b[0;34m(\u001b[0m\u001b[0my_pred\u001b[0m\u001b[0;34m[\u001b[0m\u001b[0mi\u001b[0m\u001b[0;34m,\u001b[0m\u001b[0;34m:\u001b[0m\u001b[0;34m]\u001b[0m\u001b[0;34m,\u001b[0m\u001b[0my_true\u001b[0m\u001b[0;34m[\u001b[0m\u001b[0mi\u001b[0m\u001b[0;34m,\u001b[0m\u001b[0;34m:\u001b[0m\u001b[0;34m]\u001b[0m\u001b[0;34m)\u001b[0m\u001b[0;34m)\u001b[0m\u001b[0;34m:\u001b[0m\u001b[0;34m\u001b[0m\u001b[0m\n\u001b[0m\u001b[1;32m      6\u001b[0m             \u001b[0mj\u001b[0m\u001b[0;34m=\u001b[0m\u001b[0mj\u001b[0m\u001b[0;34m+\u001b[0m\u001b[0;36m1\u001b[0m\u001b[0;34m\u001b[0m\u001b[0m\n\u001b[1;32m      7\u001b[0m     \u001b[0;32mreturn\u001b[0m \u001b[0;34m(\u001b[0m\u001b[0mj\u001b[0m\u001b[0;34m/\u001b[0m\u001b[0my_true\u001b[0m\u001b[0;34m.\u001b[0m\u001b[0mshape\u001b[0m\u001b[0;34m[\u001b[0m\u001b[0;36m0\u001b[0m\u001b[0;34m]\u001b[0m\u001b[0;34m)\u001b[0m\u001b[0;34m\u001b[0m\u001b[0m\n",
      "\u001b[0;31mIndexError\u001b[0m: index 51 is out of bounds for axis 0 with size 51"
     ]
    }
   ],
   "source": [
    "general_acc_n = general_acc(y_pred=y_note_pred_n,y_true=y_note_test_n)\n",
    "print('General Accuracy:',general_acc_n)"
   ]
  },
  {
   "cell_type": "code",
   "execution_count": 88,
   "metadata": {},
   "outputs": [
    {
     "name": "stdout",
     "output_type": "stream",
     "text": [
      "Empty Accuracy: 0.5097087378640777\n"
     ]
    }
   ],
   "source": [
    "empty_acc_n=empty_acc(y_pred=y_note_pred_n,y_true=y_note_test_n)\n",
    "print('Empty Accuracy:',empty_acc_n)"
   ]
  },
  {
   "cell_type": "code",
   "execution_count": 89,
   "metadata": {},
   "outputs": [
    {
     "name": "stdout",
     "output_type": "stream",
     "text": [
      "Non Empty Accuracy: 0.5259638080251771\n"
     ]
    }
   ],
   "source": [
    "non_empty_acc_n=non_empty_acc(y_pred=y_note_pred_n,y_true=y_note_test_n)\n",
    "print('Non Empty Accuracy:', non_empty_acc_n)"
   ]
  },
  {
   "cell_type": "code",
   "execution_count": 90,
   "metadata": {},
   "outputs": [
    {
     "name": "stdout",
     "output_type": "stream",
     "text": [
      "Note Number Accuracy: 0.5556768558951966\n"
     ]
    }
   ],
   "source": [
    "note_num_acc_n=note_num_acc(y_pred=y_note_pred_n,y_true=y_note_test_n)\n",
    "print('Note Number Accuracy:',note_num_acc_n)"
   ]
  },
  {
   "cell_type": "code",
   "execution_count": 91,
   "metadata": {},
   "outputs": [
    {
     "name": "stdout",
     "output_type": "stream",
     "text": [
      "Note Number Accuracy of 0 : 0.5097087378640777\n",
      "Note Number Accuracy of 1 : 0.6268580215274219\n",
      "Note Number Accuracy of 2 : 0.34929078014184395\n",
      "Note Number Accuracy of 3 : 0.07407407407407407\n",
      "Note Number Accuracy of 4 : 0.0\n",
      "Note Number Accuracy of 5 : 0.0\n",
      "Note Number Accuracy of 6 : 0.0\n",
      "Note Number Accuracy of 7 : 0.0\n"
     ]
    }
   ],
   "source": [
    "note_num_acc_specific_n = note_num_acc_specific(y_pred=y_note_pred_n,y_true=y_note_test_n)\n",
    "for i in range(note_num_acc_specific_n.shape[0]):\n",
    "    print('Note Number Accuracy of',i,':',note_num_acc_specific_n[i])"
   ]
  },
  {
   "cell_type": "code",
   "execution_count": 92,
   "metadata": {},
   "outputs": [
    {
     "name": "stdout",
     "output_type": "stream",
     "text": [
      "Same Number of Notes, Accuracy: 0.9443352979698756\n"
     ]
    }
   ],
   "source": [
    "same_num_note_acc_n=same_num_note_acc(y_pred=y_note_pred_n,y_true=y_note_test_n)\n",
    "print('Same Number of Notes, Accuracy:',same_num_note_acc_n)"
   ]
  },
  {
   "cell_type": "code",
   "execution_count": 93,
   "metadata": {},
   "outputs": [
    {
     "name": "stdout",
     "output_type": "stream",
     "text": [
      "Number of Notes correct in Prediction out of Prediction: 0.8190805434255216\n"
     ]
    }
   ],
   "source": [
    "num_notes_correct_acc_n1=num_notes_correct_acc1(y_pred=y_note_pred_n,y_true=y_note_test_n)\n",
    "print('Number of Notes correct in Prediction out of Prediction:',num_notes_correct_acc_n1)"
   ]
  },
  {
   "cell_type": "code",
   "execution_count": 94,
   "metadata": {},
   "outputs": [
    {
     "name": "stdout",
     "output_type": "stream",
     "text": [
      "Number of Notes correct in Prediction out of True: 0.647364316905802\n"
     ]
    }
   ],
   "source": [
    "num_notes_correct_acc_n2=num_notes_correct_acc2(y_pred=y_note_pred_n,y_true=y_note_test_n)\n",
    "print('Number of Notes correct in Prediction out of True:',num_notes_correct_acc_n2)"
   ]
  },
  {
   "cell_type": "markdown",
   "metadata": {},
   "source": [
    "## Method 2"
   ]
  },
  {
   "cell_type": "code",
   "execution_count": 51,
   "metadata": {},
   "outputs": [],
   "source": [
    "a = y_pred_e.copy()\n",
    "threshold_pred_e = np.zeros_like(a)\n",
    "threshold_pred_e[np.arange(len(a)),a.argmax(1)]=1\n",
    "y_note_pred_e = threshold_pred_e[:,0:88]\n",
    "y_note_test_e = y_test_e.iloc[:,0:88].get_values()"
   ]
  },
  {
   "cell_type": "code",
   "execution_count": 96,
   "metadata": {},
   "outputs": [
    {
     "name": "stdout",
     "output_type": "stream",
     "text": [
      "General Accuracy: 0.5334788937409025\n"
     ]
    }
   ],
   "source": [
    "general_acc_e = general_acc(y_pred=y_note_pred_e,y_true=y_note_test_e)\n",
    "print('General Accuracy:',general_acc_e)"
   ]
  },
  {
   "cell_type": "code",
   "execution_count": 97,
   "metadata": {},
   "outputs": [
    {
     "name": "stdout",
     "output_type": "stream",
     "text": [
      "Empty Accuracy: 0.7364016736401674\n"
     ]
    }
   ],
   "source": [
    "empty_acc_e=empty_acc(y_pred=y_note_pred_e,y_true=y_note_test_e)\n",
    "print('Empty Accuracy:',empty_acc_e)"
   ]
  },
  {
   "cell_type": "code",
   "execution_count": 98,
   "metadata": {},
   "outputs": [
    {
     "name": "stdout",
     "output_type": "stream",
     "text": [
      "Non Empty Accuracy: 0.5141490633718613\n"
     ]
    }
   ],
   "source": [
    "non_empty_acc_e=non_empty_acc(y_pred=y_note_pred_e,y_true=y_note_test_e)\n",
    "print('Non Empty Accuracy:', non_empty_acc_e)"
   ]
  },
  {
   "cell_type": "code",
   "execution_count": 99,
   "metadata": {},
   "outputs": [
    {
     "name": "stdout",
     "output_type": "stream",
     "text": [
      "Note Number Accuracy: 0.5858806404657934\n"
     ]
    }
   ],
   "source": [
    "note_num_acc_e=note_num_acc(y_pred=y_note_pred_e,y_true=y_note_test_e)\n",
    "print('Note Number Accuracy:',note_num_acc_e)"
   ]
  },
  {
   "cell_type": "code",
   "execution_count": 100,
   "metadata": {},
   "outputs": [
    {
     "name": "stdout",
     "output_type": "stream",
     "text": [
      "Note Number Accuracy of 0 : 0.7364016736401674\n",
      "Note Number Accuracy of 1 : 0.5715424471901156\n",
      "Note Number Accuracy of 2 : 0.0\n",
      "Note Number Accuracy of 3 : 0.0\n",
      "Note Number Accuracy of 4 : 0.0\n",
      "Note Number Accuracy of 5 : 0.0\n",
      "Note Number Accuracy of 6 : 0.0\n",
      "Note Number Accuracy of 7 : 0.0\n"
     ]
    }
   ],
   "source": [
    "note_num_acc_specific_e = note_num_acc_specific(y_pred=y_note_pred_e,y_true=y_note_test_e)\n",
    "for i in range(note_num_acc_specific_e.shape[0]):\n",
    "    print('Note Number Accuracy of',i,':',note_num_acc_specific_e[i])"
   ]
  },
  {
   "cell_type": "code",
   "execution_count": 101,
   "metadata": {},
   "outputs": [
    {
     "name": "stdout",
     "output_type": "stream",
     "text": [
      "Same Number of Notes, Accuracy: 0.9105590062111801\n"
     ]
    }
   ],
   "source": [
    "same_num_note_acc_e=same_num_note_acc(y_pred=y_note_pred_e,y_true=y_note_test_e)\n",
    "print('Same Number of Notes, Accuracy:',same_num_note_acc_e)"
   ]
  },
  {
   "cell_type": "code",
   "execution_count": 102,
   "metadata": {},
   "outputs": [
    {
     "name": "stdout",
     "output_type": "stream",
     "text": [
      "Number of Notes correct in Prediction out of Prediction: 0.8336972343522562\n"
     ]
    }
   ],
   "source": [
    "num_notes_correct_acc_e1=num_notes_correct_acc1(y_pred=y_note_pred_e,y_true=y_note_test_e)\n",
    "print('Number of Notes correct in Prediction out of Prediction:',num_notes_correct_acc_e1)"
   ]
  },
  {
   "cell_type": "code",
   "execution_count": 103,
   "metadata": {},
   "outputs": [
    {
     "name": "stdout",
     "output_type": "stream",
     "text": [
      "Number of Notes correct in Prediction out of Prediction: 0.5898818188119501\n"
     ]
    }
   ],
   "source": [
    "num_notes_correct_acc_e2=num_notes_correct_acc2(y_pred=y_note_pred_e,y_true=y_note_test_e)\n",
    "print('Number of Notes correct in Prediction out of Prediction:',num_notes_correct_acc_e2)"
   ]
  },
  {
   "cell_type": "markdown",
   "metadata": {},
   "source": [
    "## Method 3"
   ]
  },
  {
   "cell_type": "code",
   "execution_count": 30,
   "metadata": {},
   "outputs": [],
   "source": [
    "threshold_pred_h = y_pred_h.copy()[:,0:88]\n",
    "num_pred_prob = y_pred_h.copy()\n",
    "for i in range(y_pred_h.shape[0]):\n",
    "    a = num_pred_prob[:,88:num_pred_prob.shape[1]]\n",
    "    num_pred=count_notes_hot.columns[np.argmax(a[i,:])]\n",
    "    pred_idx = np.flip(np.argsort(threshold_pred_h[i,:]))[0:num_pred]\n",
    "    b=np.zeros(88)\n",
    "    if (num_pred==0):\n",
    "        threshold_pred_h[i,:]=b\n",
    "    else:\n",
    "        b[pred_idx]=1\n",
    "        threshold_pred_h[i,:]=b\n",
    "        \n",
    "y_note_pred_h = threshold_pred_h[:,0:88]\n",
    "y_note_test_h = y_test_h.iloc[:,0:88].get_values()"
   ]
  },
  {
   "cell_type": "code",
   "execution_count": 105,
   "metadata": {},
   "outputs": [
    {
     "name": "stdout",
     "output_type": "stream",
     "text": [
      "General Accuracy: 0.549490538573508\n"
     ]
    }
   ],
   "source": [
    "general_acc_h = general_acc(y_pred=threshold_pred_h[:,0:88],y_true=y_test_h.iloc[:,0:88].get_values())\n",
    "print('General Accuracy:',general_acc_h)"
   ]
  },
  {
   "cell_type": "code",
   "execution_count": 106,
   "metadata": {},
   "outputs": [
    {
     "name": "stdout",
     "output_type": "stream",
     "text": [
      "Empty Accuracy: 0.7727272727272727\n"
     ]
    }
   ],
   "source": [
    "empty_acc_h=empty_acc(y_pred=y_note_pred_h,y_true=y_note_test_h)\n",
    "print('Empty Accuracy:',empty_acc_h)"
   ]
  },
  {
   "cell_type": "code",
   "execution_count": 107,
   "metadata": {},
   "outputs": [
    {
     "name": "stdout",
     "output_type": "stream",
     "text": [
      "Non Empty Accuracy: 0.5300632911392406\n"
     ]
    }
   ],
   "source": [
    "non_empty_acc_h=non_empty_acc(y_pred=y_note_pred_h,y_true=y_note_test_h)\n",
    "print('Non Empty Accuracy:', non_empty_acc_h)"
   ]
  },
  {
   "cell_type": "code",
   "execution_count": 108,
   "metadata": {},
   "outputs": [
    {
     "name": "stdout",
     "output_type": "stream",
     "text": [
      "Note Number Accuracy: 0.6885007278020379\n"
     ]
    }
   ],
   "source": [
    "note_num_acc_h=note_num_acc(y_pred=y_note_pred_h,y_true=y_note_test_h)\n",
    "print('Note Number Accuracy:',note_num_acc_h)"
   ]
  },
  {
   "cell_type": "code",
   "execution_count": 109,
   "metadata": {},
   "outputs": [
    {
     "name": "stdout",
     "output_type": "stream",
     "text": [
      "Note Number Accuracy of 0 : 0.7727272727272727\n",
      "Note Number Accuracy of 1 : 0.8733624454148472\n",
      "Note Number Accuracy of 2 : 0.503030303030303\n",
      "Note Number Accuracy of 3 : 0.3770491803278688\n",
      "Note Number Accuracy of 4 : 0.3467741935483871\n",
      "Note Number Accuracy of 5 : 0.29914529914529914\n",
      "Note Number Accuracy of 6 : 0.3974358974358974\n",
      "Note Number Accuracy of 7 : 0.5087719298245614\n"
     ]
    }
   ],
   "source": [
    "note_num_acc_specific_h = note_num_acc_specific(y_pred=y_note_pred_h,y_true=y_note_test_h)\n",
    "for i in range(note_num_acc_specific_h.shape[0]):\n",
    "    print('Note Number Accuracy of',i,':',note_num_acc_specific_h[i])"
   ]
  },
  {
   "cell_type": "code",
   "execution_count": 110,
   "metadata": {},
   "outputs": [
    {
     "name": "stdout",
     "output_type": "stream",
     "text": [
      "Same Number of Notes, Accuracy: 0.7980972515856237\n"
     ]
    }
   ],
   "source": [
    "same_num_note_acc_h=same_num_note_acc(y_pred=y_note_pred_h,y_true=y_note_test_h)\n",
    "print('Same Number of Notes, Accuracy:',same_num_note_acc_h)"
   ]
  },
  {
   "cell_type": "code",
   "execution_count": 111,
   "metadata": {},
   "outputs": [
    {
     "name": "stdout",
     "output_type": "stream",
     "text": [
      "Number of Notes correct in Prediction out of Prediction: 0.718221910307063\n"
     ]
    }
   ],
   "source": [
    "num_notes_correct_acc_h1=num_notes_correct_acc1(y_pred=y_note_pred_h,y_true=y_note_test_h)\n",
    "print('Number of Notes correct in Prediction out of Prediction:',num_notes_correct_acc_h1)"
   ]
  },
  {
   "cell_type": "code",
   "execution_count": 112,
   "metadata": {},
   "outputs": [
    {
     "name": "stdout",
     "output_type": "stream",
     "text": [
      "Number of Notes correct in Prediction out of Prediction: 0.7176102100228743\n"
     ]
    }
   ],
   "source": [
    "num_notes_correct_acc_h2=num_notes_correct_acc2(y_pred=y_note_pred_h,y_true=y_note_test_h)\n",
    "print('Number of Notes correct in Prediction out of Prediction:',num_notes_correct_acc_h2)"
   ]
  },
  {
   "cell_type": "markdown",
   "metadata": {},
   "source": [
    "## Postprocessing"
   ]
  },
  {
   "cell_type": "code",
   "execution_count": 31,
   "metadata": {},
   "outputs": [],
   "source": [
    "tbin_path = os.path.join(os.getcwd(),'Data/Processed/Testing/tbin.txt')\n",
    "a=pd.read_csv(tbin_path,sep=',',header=None)\n",
    "b=np.zeros(1)\n",
    "tbin=np.append(b,a)"
   ]
  },
  {
   "cell_type": "code",
   "execution_count": 32,
   "metadata": {},
   "outputs": [],
   "source": [
    "track    = 0\n",
    "channel  = 0\n",
    "time     = 0    # In beats\n",
    "duration = 1    # In beats\n",
    "tempo    = 60   # In BPM\n",
    "volume   = 100  # 0-127, as per the MIDI standard\n",
    "MyMIDI = MIDIFile(1)\n",
    "MyMIDI.addTempo(track, time, tempo)"
   ]
  },
  {
   "cell_type": "code",
   "execution_count": 37,
   "metadata": {
    "scrolled": false
   },
   "outputs": [],
   "source": [
    "time_len = np.diff(tbin)[1]\n",
    "time=0\n",
    "for i in range(tbin.shape[0]):\n",
    "    if (i==0):\n",
    "        time=0\n",
    "    elif (i==1):\n",
    "        time = time+np.diff(tbin)[0]\n",
    "    else:\n",
    "        time=time+time_len\n",
    "    midi_notes= np.where(y_note_pred_h[i,:]==1)[0]\n",
    "    for j in range(midi_notes.shape[0]):\n",
    "        if (i!=tbin.shape[0]-1):\n",
    "            next_midi_notes=np.where(y_note_pred_h[i+1,:]==1)[0]\n",
    "            if (np.isin(next_midi_notes, midi_notes[j]).any()):\n",
    "                MyMIDI.addNote(track,channel,midi_notes[j],time,time_len*2,volume)\n",
    "                del\n",
    "            else:\n",
    "                MyMIDI.addNote(track,channel,midi_notes[j],time,time_len,volume)\n",
    "    "
   ]
  },
  {
   "cell_type": "code",
   "execution_count": 38,
   "metadata": {},
   "outputs": [],
   "source": [
    "with open(\"test.mid\", \"wb\") as output_file:\n",
    "    MyMIDI.writeFile(output_file)"
   ]
  },
  {
   "cell_type": "code",
   "execution_count": 72,
   "metadata": {},
   "outputs": [
    {
     "data": {
      "text/plain": [
       "0.17575963718820858"
      ]
     },
     "execution_count": 72,
     "metadata": {},
     "output_type": "execute_result"
    }
   ],
   "source": [
    "np.diff(tbin)[1]"
   ]
  },
  {
   "cell_type": "code",
   "execution_count": 35,
   "metadata": {},
   "outputs": [
    {
     "name": "stdout",
     "output_type": "stream",
     "text": [
      "[]\n",
      "[15]\n",
      "[27]\n",
      "[43]\n",
      "[43]\n",
      "[57]\n",
      "[56]\n",
      "[56]\n",
      "[]\n",
      "[60]\n",
      "[60]\n",
      "[46]\n",
      "[]\n",
      "[56]\n",
      "[56]\n",
      "[55]\n",
      "[16]\n",
      "[15 27 32 66]\n",
      "[36]\n",
      "[15 27 32 44 62 63 66]\n",
      "[32 62 64 66]\n",
      "[27]\n",
      "[27 39 40 63]\n",
      "[39]\n",
      "[27 32 40 62 63 64 65]\n",
      "[32]\n",
      "[53]\n",
      "[53]\n",
      "[55]\n",
      "[55]\n",
      "[39]\n",
      "[31]\n",
      "[43]\n",
      "[43]\n",
      "[27]\n",
      "[43]\n",
      "[46]\n",
      "[27]\n",
      "[38]\n",
      "[60]\n",
      "[46]\n",
      "[56]\n",
      "[55]\n",
      "[15 32 36 40 62 63 64]\n",
      "[15 32 36 63]\n",
      "[15 32 36 60]\n",
      "[62]\n",
      "[32]\n",
      "[55]\n",
      "[79]\n",
      "[62]\n",
      "[27 32 62 65]\n",
      "[]\n",
      "[]\n",
      "[]\n",
      "[]\n",
      "[]\n",
      "[]\n"
     ]
    }
   ],
   "source": [
    "time_len = np.diff(tbin)[1]\n",
    "time=0\n",
    "for i in range(tbin.shape[0]):\n",
    "    print(np.where(y_note_pred_h[i,:]==1)[0])\n",
    "    "
   ]
  },
  {
   "cell_type": "code",
   "execution_count": null,
   "metadata": {},
   "outputs": [],
   "source": []
  }
 ],
 "metadata": {
  "kernelspec": {
   "display_name": "Python 3",
   "language": "python",
   "name": "python3"
  },
  "language_info": {
   "codemirror_mode": {
    "name": "ipython",
    "version": 3
   },
   "file_extension": ".py",
   "mimetype": "text/x-python",
   "name": "python",
   "nbconvert_exporter": "python",
   "pygments_lexer": "ipython3",
   "version": "3.6.6"
  }
 },
 "nbformat": 4,
 "nbformat_minor": 2
}
