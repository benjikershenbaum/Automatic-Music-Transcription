{
 "cells": [
  {
   "cell_type": "markdown",
   "metadata": {},
   "source": [
    "# Generate:"
   ]
  },
  {
   "cell_type": "markdown",
   "metadata": {},
   "source": [
    "## Imports"
   ]
  },
  {
   "cell_type": "code",
   "execution_count": 1,
   "metadata": {},
   "outputs": [],
   "source": [
    "import tensorflow as tf\n",
    "import os\n",
    "import numpy as np\n",
    "import midiutil\n",
    "import pandas as pd\n",
    "import sklearn\n",
    "import matplotlib.pyplot as plt\n",
    "from sklearn.cluster import KMeans\n",
    "from tensorflow import keras\n",
    "from midiutil import MIDIFile\n",
    "from os import listdir"
   ]
  },
  {
   "cell_type": "markdown",
   "metadata": {},
   "source": [
    "## Load Models"
   ]
  },
  {
   "cell_type": "code",
   "execution_count": 2,
   "metadata": {},
   "outputs": [],
   "source": [
    "m_n_path = os.path.join(os.getcwd(),'Models/4 Layers/m_n.h5')\n",
    "m_e_path = os.path.join(os.getcwd(),'Models/4 Layers/m_e.h5')\n",
    "m_h_path = os.path.join(os.getcwd(),'Models/4 Layers/m_h.h5')\n",
    "\n",
    "m_n=keras.models.load_model(m_n_path)\n",
    "m_e=keras.models.load_model(m_e_path)\n",
    "m_h=keras.models.load_model(m_h_path)"
   ]
  },
  {
   "cell_type": "markdown",
   "metadata": {},
   "source": [
    "## Load Input/Output"
   ]
  },
  {
   "cell_type": "code",
   "execution_count": 5,
   "metadata": {},
   "outputs": [],
   "source": [
    "in_file_path= os.path.join(os.getcwd(), 'Data//Processed', 'input.txt')\n",
    "out_file_path= os.path.join(os.getcwd(), 'Data//Processed', 'output.txt')\n",
    "\n",
    "inp = pd.read_csv(in_file_path,sep=\",\",header=None)\n",
    "out = pd.read_csv(out_file_path,sep=\",\",header=None)\n",
    "\n",
    "out_save = out.copy()"
   ]
  },
  {
   "cell_type": "code",
   "execution_count": 6,
   "metadata": {},
   "outputs": [],
   "source": [
    "out_fixed=out.copy()\n",
    "out_fixed=out_fixed.astype(np.int)\n",
    "out =pd.DataFrame(out_fixed)"
   ]
  },
  {
   "cell_type": "code",
   "execution_count": 7,
   "metadata": {},
   "outputs": [],
   "source": [
    "count_notes = np.sum(out,axis=1)\n",
    "count_notes_hot = pd.get_dummies(count_notes)\n",
    "out_hot=pd.concat([out,count_notes_hot],axis=1,ignore_index=True)\n"
   ]
  },
  {
   "cell_type": "markdown",
   "metadata": {},
   "source": [
    "## Predict"
   ]
  },
  {
   "cell_type": "code",
   "execution_count": 6,
   "metadata": {
    "scrolled": false
   },
   "outputs": [
    {
     "ename": "FileNotFoundError",
     "evalue": "File b'/afs/inf.ed.ac.uk/user/s17/s1709221/AMT/Automatic-Music-Transcription-master/Data/Processed/Testing/input.txt' does not exist",
     "output_type": "error",
     "traceback": [
      "\u001b[0;31m---------------------------------------------------------------------------\u001b[0m",
      "\u001b[0;31mFileNotFoundError\u001b[0m                         Traceback (most recent call last)",
      "\u001b[0;32m<ipython-input-6-78c83cd447b3>\u001b[0m in \u001b[0;36m<module>\u001b[0;34m\u001b[0m\n\u001b[1;32m      1\u001b[0m \u001b[0minp_test_path\u001b[0m \u001b[0;34m=\u001b[0m \u001b[0mos\u001b[0m\u001b[0;34m.\u001b[0m\u001b[0mpath\u001b[0m\u001b[0;34m.\u001b[0m\u001b[0mjoin\u001b[0m\u001b[0;34m(\u001b[0m\u001b[0mos\u001b[0m\u001b[0;34m.\u001b[0m\u001b[0mgetcwd\u001b[0m\u001b[0;34m(\u001b[0m\u001b[0;34m)\u001b[0m\u001b[0;34m,\u001b[0m\u001b[0;34m'Data/Processed/Testing/input.txt'\u001b[0m\u001b[0;34m)\u001b[0m\u001b[0;34m\u001b[0m\u001b[0m\n\u001b[0;32m----> 2\u001b[0;31m \u001b[0minp_test\u001b[0m\u001b[0;34m=\u001b[0m\u001b[0mpd\u001b[0m\u001b[0;34m.\u001b[0m\u001b[0mread_csv\u001b[0m\u001b[0;34m(\u001b[0m\u001b[0minp_test_path\u001b[0m\u001b[0;34m,\u001b[0m\u001b[0msep\u001b[0m\u001b[0;34m=\u001b[0m\u001b[0;34m','\u001b[0m\u001b[0;34m,\u001b[0m\u001b[0mheader\u001b[0m\u001b[0;34m=\u001b[0m\u001b[0;32mNone\u001b[0m\u001b[0;34m)\u001b[0m\u001b[0;34m\u001b[0m\u001b[0m\n\u001b[0m\u001b[1;32m      3\u001b[0m \u001b[0;34m\u001b[0m\u001b[0m\n\u001b[1;32m      4\u001b[0m \u001b[0my_pred_n\u001b[0m \u001b[0;34m=\u001b[0m \u001b[0mm_n\u001b[0m\u001b[0;34m.\u001b[0m\u001b[0mpredict\u001b[0m\u001b[0;34m(\u001b[0m\u001b[0minp_test\u001b[0m\u001b[0;34m,\u001b[0m\u001b[0mbatch_size\u001b[0m\u001b[0;34m=\u001b[0m\u001b[0;36m8\u001b[0m\u001b[0;34m)\u001b[0m\u001b[0;34m\u001b[0m\u001b[0m\n\u001b[1;32m      5\u001b[0m \u001b[0my_pred_e\u001b[0m \u001b[0;34m=\u001b[0m \u001b[0mm_e\u001b[0m\u001b[0;34m.\u001b[0m\u001b[0mpredict\u001b[0m\u001b[0;34m(\u001b[0m\u001b[0minp_test\u001b[0m\u001b[0;34m,\u001b[0m\u001b[0mbatch_size\u001b[0m\u001b[0;34m=\u001b[0m\u001b[0;36m8\u001b[0m\u001b[0;34m)\u001b[0m\u001b[0;34m\u001b[0m\u001b[0m\n",
      "\u001b[0;32m~/miniconda3/envs/py3amt/lib/python3.6/site-packages/pandas/io/parsers.py\u001b[0m in \u001b[0;36mparser_f\u001b[0;34m(filepath_or_buffer, sep, delimiter, header, names, index_col, usecols, squeeze, prefix, mangle_dupe_cols, dtype, engine, converters, true_values, false_values, skipinitialspace, skiprows, nrows, na_values, keep_default_na, na_filter, verbose, skip_blank_lines, parse_dates, infer_datetime_format, keep_date_col, date_parser, dayfirst, iterator, chunksize, compression, thousands, decimal, lineterminator, quotechar, quoting, escapechar, comment, encoding, dialect, tupleize_cols, error_bad_lines, warn_bad_lines, skipfooter, doublequote, delim_whitespace, low_memory, memory_map, float_precision)\u001b[0m\n\u001b[1;32m    676\u001b[0m                     skip_blank_lines=skip_blank_lines)\n\u001b[1;32m    677\u001b[0m \u001b[0;34m\u001b[0m\u001b[0m\n\u001b[0;32m--> 678\u001b[0;31m         \u001b[0;32mreturn\u001b[0m \u001b[0m_read\u001b[0m\u001b[0;34m(\u001b[0m\u001b[0mfilepath_or_buffer\u001b[0m\u001b[0;34m,\u001b[0m \u001b[0mkwds\u001b[0m\u001b[0;34m)\u001b[0m\u001b[0;34m\u001b[0m\u001b[0m\n\u001b[0m\u001b[1;32m    679\u001b[0m \u001b[0;34m\u001b[0m\u001b[0m\n\u001b[1;32m    680\u001b[0m     \u001b[0mparser_f\u001b[0m\u001b[0;34m.\u001b[0m\u001b[0m__name__\u001b[0m \u001b[0;34m=\u001b[0m \u001b[0mname\u001b[0m\u001b[0;34m\u001b[0m\u001b[0m\n",
      "\u001b[0;32m~/miniconda3/envs/py3amt/lib/python3.6/site-packages/pandas/io/parsers.py\u001b[0m in \u001b[0;36m_read\u001b[0;34m(filepath_or_buffer, kwds)\u001b[0m\n\u001b[1;32m    438\u001b[0m \u001b[0;34m\u001b[0m\u001b[0m\n\u001b[1;32m    439\u001b[0m     \u001b[0;31m# Create the parser.\u001b[0m\u001b[0;34m\u001b[0m\u001b[0;34m\u001b[0m\u001b[0m\n\u001b[0;32m--> 440\u001b[0;31m     \u001b[0mparser\u001b[0m \u001b[0;34m=\u001b[0m \u001b[0mTextFileReader\u001b[0m\u001b[0;34m(\u001b[0m\u001b[0mfilepath_or_buffer\u001b[0m\u001b[0;34m,\u001b[0m \u001b[0;34m**\u001b[0m\u001b[0mkwds\u001b[0m\u001b[0;34m)\u001b[0m\u001b[0;34m\u001b[0m\u001b[0m\n\u001b[0m\u001b[1;32m    441\u001b[0m \u001b[0;34m\u001b[0m\u001b[0m\n\u001b[1;32m    442\u001b[0m     \u001b[0;32mif\u001b[0m \u001b[0mchunksize\u001b[0m \u001b[0;32mor\u001b[0m \u001b[0miterator\u001b[0m\u001b[0;34m:\u001b[0m\u001b[0;34m\u001b[0m\u001b[0m\n",
      "\u001b[0;32m~/miniconda3/envs/py3amt/lib/python3.6/site-packages/pandas/io/parsers.py\u001b[0m in \u001b[0;36m__init__\u001b[0;34m(self, f, engine, **kwds)\u001b[0m\n\u001b[1;32m    785\u001b[0m             \u001b[0mself\u001b[0m\u001b[0;34m.\u001b[0m\u001b[0moptions\u001b[0m\u001b[0;34m[\u001b[0m\u001b[0;34m'has_index_names'\u001b[0m\u001b[0;34m]\u001b[0m \u001b[0;34m=\u001b[0m \u001b[0mkwds\u001b[0m\u001b[0;34m[\u001b[0m\u001b[0;34m'has_index_names'\u001b[0m\u001b[0;34m]\u001b[0m\u001b[0;34m\u001b[0m\u001b[0m\n\u001b[1;32m    786\u001b[0m \u001b[0;34m\u001b[0m\u001b[0m\n\u001b[0;32m--> 787\u001b[0;31m         \u001b[0mself\u001b[0m\u001b[0;34m.\u001b[0m\u001b[0m_make_engine\u001b[0m\u001b[0;34m(\u001b[0m\u001b[0mself\u001b[0m\u001b[0;34m.\u001b[0m\u001b[0mengine\u001b[0m\u001b[0;34m)\u001b[0m\u001b[0;34m\u001b[0m\u001b[0m\n\u001b[0m\u001b[1;32m    788\u001b[0m \u001b[0;34m\u001b[0m\u001b[0m\n\u001b[1;32m    789\u001b[0m     \u001b[0;32mdef\u001b[0m \u001b[0mclose\u001b[0m\u001b[0;34m(\u001b[0m\u001b[0mself\u001b[0m\u001b[0;34m)\u001b[0m\u001b[0;34m:\u001b[0m\u001b[0;34m\u001b[0m\u001b[0m\n",
      "\u001b[0;32m~/miniconda3/envs/py3amt/lib/python3.6/site-packages/pandas/io/parsers.py\u001b[0m in \u001b[0;36m_make_engine\u001b[0;34m(self, engine)\u001b[0m\n\u001b[1;32m   1012\u001b[0m     \u001b[0;32mdef\u001b[0m \u001b[0m_make_engine\u001b[0m\u001b[0;34m(\u001b[0m\u001b[0mself\u001b[0m\u001b[0;34m,\u001b[0m \u001b[0mengine\u001b[0m\u001b[0;34m=\u001b[0m\u001b[0;34m'c'\u001b[0m\u001b[0;34m)\u001b[0m\u001b[0;34m:\u001b[0m\u001b[0;34m\u001b[0m\u001b[0m\n\u001b[1;32m   1013\u001b[0m         \u001b[0;32mif\u001b[0m \u001b[0mengine\u001b[0m \u001b[0;34m==\u001b[0m \u001b[0;34m'c'\u001b[0m\u001b[0;34m:\u001b[0m\u001b[0;34m\u001b[0m\u001b[0m\n\u001b[0;32m-> 1014\u001b[0;31m             \u001b[0mself\u001b[0m\u001b[0;34m.\u001b[0m\u001b[0m_engine\u001b[0m \u001b[0;34m=\u001b[0m \u001b[0mCParserWrapper\u001b[0m\u001b[0;34m(\u001b[0m\u001b[0mself\u001b[0m\u001b[0;34m.\u001b[0m\u001b[0mf\u001b[0m\u001b[0;34m,\u001b[0m \u001b[0;34m**\u001b[0m\u001b[0mself\u001b[0m\u001b[0;34m.\u001b[0m\u001b[0moptions\u001b[0m\u001b[0;34m)\u001b[0m\u001b[0;34m\u001b[0m\u001b[0m\n\u001b[0m\u001b[1;32m   1015\u001b[0m         \u001b[0;32melse\u001b[0m\u001b[0;34m:\u001b[0m\u001b[0;34m\u001b[0m\u001b[0m\n\u001b[1;32m   1016\u001b[0m             \u001b[0;32mif\u001b[0m \u001b[0mengine\u001b[0m \u001b[0;34m==\u001b[0m \u001b[0;34m'python'\u001b[0m\u001b[0;34m:\u001b[0m\u001b[0;34m\u001b[0m\u001b[0m\n",
      "\u001b[0;32m~/miniconda3/envs/py3amt/lib/python3.6/site-packages/pandas/io/parsers.py\u001b[0m in \u001b[0;36m__init__\u001b[0;34m(self, src, **kwds)\u001b[0m\n\u001b[1;32m   1706\u001b[0m         \u001b[0mkwds\u001b[0m\u001b[0;34m[\u001b[0m\u001b[0;34m'usecols'\u001b[0m\u001b[0;34m]\u001b[0m \u001b[0;34m=\u001b[0m \u001b[0mself\u001b[0m\u001b[0;34m.\u001b[0m\u001b[0musecols\u001b[0m\u001b[0;34m\u001b[0m\u001b[0m\n\u001b[1;32m   1707\u001b[0m \u001b[0;34m\u001b[0m\u001b[0m\n\u001b[0;32m-> 1708\u001b[0;31m         \u001b[0mself\u001b[0m\u001b[0;34m.\u001b[0m\u001b[0m_reader\u001b[0m \u001b[0;34m=\u001b[0m \u001b[0mparsers\u001b[0m\u001b[0;34m.\u001b[0m\u001b[0mTextReader\u001b[0m\u001b[0;34m(\u001b[0m\u001b[0msrc\u001b[0m\u001b[0;34m,\u001b[0m \u001b[0;34m**\u001b[0m\u001b[0mkwds\u001b[0m\u001b[0;34m)\u001b[0m\u001b[0;34m\u001b[0m\u001b[0m\n\u001b[0m\u001b[1;32m   1709\u001b[0m \u001b[0;34m\u001b[0m\u001b[0m\n\u001b[1;32m   1710\u001b[0m         \u001b[0mpassed_names\u001b[0m \u001b[0;34m=\u001b[0m \u001b[0mself\u001b[0m\u001b[0;34m.\u001b[0m\u001b[0mnames\u001b[0m \u001b[0;32mis\u001b[0m \u001b[0;32mNone\u001b[0m\u001b[0;34m\u001b[0m\u001b[0m\n",
      "\u001b[0;32mpandas/_libs/parsers.pyx\u001b[0m in \u001b[0;36mpandas._libs.parsers.TextReader.__cinit__\u001b[0;34m()\u001b[0m\n",
      "\u001b[0;32mpandas/_libs/parsers.pyx\u001b[0m in \u001b[0;36mpandas._libs.parsers.TextReader._setup_parser_source\u001b[0;34m()\u001b[0m\n",
      "\u001b[0;31mFileNotFoundError\u001b[0m: File b'/afs/inf.ed.ac.uk/user/s17/s1709221/AMT/Automatic-Music-Transcription-master/Data/Processed/Testing/input.txt' does not exist"
     ]
    }
   ],
   "source": [
    "inp_test_path = os.path.join(os.getcwd(),'Data/Processed/Testing/input.txt')\n",
    "inp_test=pd.read_csv(inp_test_path,sep=',',header=None)\n",
    "\n",
    "y_pred_n = m_n.predict(inp_test,batch_size=8)\n",
    "y_pred_e = m_e.predict(inp_test,batch_size=8)\n",
    "y_pred_h = m_h.predict(inp_test,batch_size=8)"
   ]
  },
  {
   "cell_type": "code",
   "execution_count": 365,
   "metadata": {},
   "outputs": [],
   "source": [
    "tbin_path = os.path.join(os.getcwd(),'Data/Processed/Testing/tbin.txt')\n",
    "a=pd.read_csv(tbin_path,sep=',',header=None)\n",
    "b=np.zeros(1)\n",
    "tbin=np.append(b,a)"
   ]
  },
  {
   "cell_type": "markdown",
   "metadata": {},
   "source": [
    "## Method 1"
   ]
  },
  {
   "cell_type": "code",
   "execution_count": 366,
   "metadata": {},
   "outputs": [],
   "source": [
    "y_note_pred_n = np.zeros((y_pred_n.shape[0],y_pred_n.shape[1]))\n",
    "for i in range(y_pred_n.shape[0]):\n",
    "    a=np.zeros((88,1))\n",
    "    a[:,0]=y_pred_n[i,:].copy()\n",
    "    a[a<0.03]=0\n",
    "    kmeans=KMeans(n_clusters=2).fit(a)\n",
    "    threshold = np.maximum(kmeans.cluster_centers_[0],kmeans.cluster_centers_[1])\n",
    "    if threshold==0:\n",
    "        threshold = 1\n",
    "    a=y_pred_n[i,0:88].copy()\n",
    "    a[a>=threshold]=1\n",
    "    a[a<threshold]=0\n",
    "    y_note_pred_n[i,:]=a"
   ]
  },
  {
   "cell_type": "code",
   "execution_count": 367,
   "metadata": {},
   "outputs": [],
   "source": [
    "track    = 0\n",
    "channel  = 0\n",
    "time     = 0    # In beats\n",
    "duration = 1    # In beats\n",
    "tempo    = 60   # In BPM\n",
    "volume   = 100  # 0-127, as per the MIDI standard\n",
    "MyMIDI_n = MIDIFile(1)\n",
    "MyMIDI_n.addTempo(track, time, tempo)"
   ]
  },
  {
   "cell_type": "code",
   "execution_count": 368,
   "metadata": {},
   "outputs": [],
   "source": [
    "b=np.zeros((1,3))\n",
    "y_copy = y_note_pred_n.copy()\n",
    "time=0\n",
    "time_len = np.diff(tbin)[1]\n",
    "for i in range(tbin.shape[0]):\n",
    "    if (i==0):\n",
    "        time=0\n",
    "    elif (i==1):\n",
    "        time = time+np.diff(tbin)[0]\n",
    "    else:\n",
    "        time=time+time_len\n",
    "        \n",
    "    a=np.where(y_copy[i,:]==1)[0]\n",
    "    for j in range(a.shape[0]):\n",
    "        b_temp=np.zeros((1,3))\n",
    "        b_temp[0,0]=a[j]\n",
    "        b_temp[0,1]=time\n",
    "        k=0\n",
    "        c=np.where(y_copy[i+k,:]==1)[0]\n",
    "        if (i==tbin.shape[0]-1):\n",
    "            break\n",
    "        while (y_copy[i+k,a[j]]==1):\n",
    "            if (i+k==tbin.shape[0]-1):\n",
    "                break\n",
    "            k=k+1\n",
    "            b_temp[0,2]=b_temp[0,2]+1\n",
    "        for l in range(k+1):\n",
    "            y_copy[i+l,a[j]]=0\n",
    "        b=np.append(b,b_temp,axis=0)\n",
    "            "
   ]
  },
  {
   "cell_type": "code",
   "execution_count": 369,
   "metadata": {},
   "outputs": [],
   "source": [
    "b[:,0]=b[:,0]+21\n",
    "b=b[1:b.shape[0],:]\n",
    "for i in range(b.shape[0]):\n",
    "    MyMIDI_n.addNote(track,channel,b[i,0].astype(np.int),b[i,1],b[i,2]*time_len,volume)"
   ]
  },
  {
   "cell_type": "code",
   "execution_count": 370,
   "metadata": {},
   "outputs": [],
   "source": [
    "with open(\"out_n.mid\", \"wb\") as output_file:\n",
    "    MyMIDI_n.writeFile(output_file)"
   ]
  },
  {
   "cell_type": "markdown",
   "metadata": {},
   "source": [
    "## Method 2"
   ]
  },
  {
   "cell_type": "code",
   "execution_count": 371,
   "metadata": {},
   "outputs": [],
   "source": [
    "y_note_pred_e=np.zeros((y_pred_e.shape[0],88))\n",
    "for i in range(y_pred_e.shape[0]):\n",
    "    a = y_pred_e[i,:].copy()\n",
    "    if (np.argmax(a)==88):\n",
    "        y_note_pred_e[i,:]=np.zeros(88)\n",
    "    else:\n",
    "        a=np.zeros((88,1))\n",
    "        a[:,0]=y_pred_e[i,0:88].copy()\n",
    "        a[a<0.03]=0\n",
    "        kmeans1=KMeans(n_clusters=2).fit(a)\n",
    "        threshold = np.maximum(kmeans1.cluster_centers_[0],kmeans1.cluster_centers_[1])\n",
    "        if threshold==0:\n",
    "            threshold = 1\n",
    "        a=y_pred_e[i,0:88].copy()\n",
    "        a[a>=threshold]=1\n",
    "        a[a<threshold]=0\n",
    "        y_note_pred_e[i,:]=a"
   ]
  },
  {
   "cell_type": "code",
   "execution_count": 372,
   "metadata": {},
   "outputs": [],
   "source": [
    "track    = 0\n",
    "channel  = 0\n",
    "time     = 0    # In beats\n",
    "duration = 1    # In beats\n",
    "tempo    = 60   # In BPM\n",
    "volume   = 100  # 0-127, as per the MIDI standard\n",
    "MyMIDI_e = MIDIFile(1)\n",
    "MyMIDI_e.addTempo(track, time, tempo)"
   ]
  },
  {
   "cell_type": "code",
   "execution_count": 373,
   "metadata": {},
   "outputs": [],
   "source": [
    "b=np.zeros((1,3))\n",
    "y_copy = y_note_pred_e.copy()\n",
    "time=0\n",
    "time_len = np.diff(tbin)[1]\n",
    "for i in range(tbin.shape[0]):\n",
    "    if (i==0):\n",
    "        time=0\n",
    "    elif (i==1):\n",
    "        time = time+np.diff(tbin)[0]\n",
    "    else:\n",
    "        time=time+time_len\n",
    "        \n",
    "    a=np.where(y_copy[i,:]==1)[0]\n",
    "    for j in range(a.shape[0]):\n",
    "        b_temp=np.zeros((1,3))\n",
    "        b_temp[0,0]=a[j]\n",
    "        b_temp[0,1]=time\n",
    "        k=0\n",
    "        c=np.where(y_copy[i+k,:]==1)[0]\n",
    "        if (i==tbin.shape[0]-1):\n",
    "            break\n",
    "        while (y_copy[i+k,a[j]]==1):\n",
    "            if (i+k==tbin.shape[0]-1):\n",
    "                break\n",
    "            k=k+1\n",
    "            b_temp[0,2]=b_temp[0,2]+1\n",
    "        for l in range(k+1):\n",
    "            y_copy[i+l,a[j]]=0\n",
    "        b=np.append(b,b_temp,axis=0)"
   ]
  },
  {
   "cell_type": "code",
   "execution_count": 374,
   "metadata": {},
   "outputs": [],
   "source": [
    "b[:,0]=b[:,0]+21\n",
    "b=b[1:b.shape[0],:]\n",
    "for i in range(b.shape[0]):\n",
    "    MyMIDI_e.addNote(track,channel,b[i,0].astype(np.int),b[i,1],b[i,2]*time_len,volume)"
   ]
  },
  {
   "cell_type": "code",
   "execution_count": 375,
   "metadata": {},
   "outputs": [],
   "source": [
    "with open(\"out_e.mid\", \"wb\") as output_file:\n",
    "    MyMIDI_e.writeFile(output_file)"
   ]
  },
  {
   "cell_type": "markdown",
   "metadata": {},
   "source": [
    "## Method 3"
   ]
  },
  {
   "cell_type": "code",
   "execution_count": 376,
   "metadata": {},
   "outputs": [],
   "source": [
    "threshold_pred_h = y_pred_h.copy()[:,0:88]\n",
    "num_pred_prob = y_pred_h.copy()\n",
    "for i in range(y_pred_h.shape[0]):\n",
    "    a = num_pred_prob[:,88:num_pred_prob.shape[1]]\n",
    "    num_pred=count_notes_hot.columns[np.argmax(a[i,:])]\n",
    "    pred_idx = np.flip(np.argsort(threshold_pred_h[i,:]))[0:num_pred]\n",
    "    b=np.zeros(88)\n",
    "    if (num_pred==0):\n",
    "        threshold_pred_h[i,:]=b\n",
    "    else:\n",
    "        b[pred_idx]=1\n",
    "        threshold_pred_h[i,:]=b\n",
    "        \n",
    "y_note_pred_h = threshold_pred_h[:,0:88]"
   ]
  },
  {
   "cell_type": "code",
   "execution_count": 377,
   "metadata": {},
   "outputs": [],
   "source": [
    "track    = 0\n",
    "channel  = 0\n",
    "time     = 0    # In beats\n",
    "duration = 1    # In beats\n",
    "tempo    = 60   # In BPM\n",
    "volume   = 100  # 0-127, as per the MIDI standard\n",
    "MyMIDI_h = MIDIFile(1)\n",
    "MyMIDI_h.addTempo(track, time, tempo)"
   ]
  },
  {
   "cell_type": "code",
   "execution_count": 378,
   "metadata": {},
   "outputs": [],
   "source": [
    "b=np.zeros((1,3))\n",
    "y_copy = y_note_pred_h.copy()\n",
    "time=0\n",
    "time_len = np.diff(tbin)[1]\n",
    "for i in range(tbin.shape[0]):\n",
    "    if (i==0):\n",
    "        time=0\n",
    "    elif (i==1):\n",
    "        time = time+np.diff(tbin)[0]\n",
    "    else:\n",
    "        time=time+time_len\n",
    "        \n",
    "    a=np.where(y_copy[i,:]==1)[0]\n",
    "    for j in range(a.shape[0]):\n",
    "        b_temp=np.zeros((1,3))\n",
    "        b_temp[0,0]=a[j]\n",
    "        b_temp[0,1]=time\n",
    "        k=0\n",
    "        c=np.where(y_copy[i+k,:]==1)[0]\n",
    "        if (i==tbin.shape[0]-1):\n",
    "            break\n",
    "        while (y_copy[i+k,a[j]]==1):\n",
    "            if (i+k==tbin.shape[0]-1):\n",
    "                break\n",
    "            k=k+1\n",
    "            b_temp[0,2]=b_temp[0,2]+1\n",
    "        for l in range(k+1):\n",
    "            y_copy[i+l,a[j]]=0\n",
    "        b=np.append(b,b_temp,axis=0)  "
   ]
  },
  {
   "cell_type": "code",
   "execution_count": 379,
   "metadata": {},
   "outputs": [],
   "source": [
    "b[:,0]=b[:,0]+21\n",
    "b=b[1:b.shape[0],:]\n",
    "for i in range(b.shape[0]):\n",
    "    MyMIDI_h.addNote(track,channel,b[i,0].astype(np.int),b[i,1],b[i,2]*time_len,volume)"
   ]
  },
  {
   "cell_type": "code",
   "execution_count": 380,
   "metadata": {},
   "outputs": [],
   "source": [
    "with open(\"out_h.mid\", \"wb\") as output_file:\n",
    "    MyMIDI_h.writeFile(output_file)"
   ]
  },
  {
   "cell_type": "markdown",
   "metadata": {},
   "source": [
    "## All Combined"
   ]
  },
  {
   "cell_type": "code",
   "execution_count": 3,
   "metadata": {},
   "outputs": [],
   "source": [
    "def postprocess(y_pred,tbin,):\n",
    "    b=np.zeros((1,3))\n",
    "    y_copy = y_pred.copy()\n",
    "    time=0\n",
    "    time_len = np.diff(tbin)[1]\n",
    "    for i in range(tbin.shape[0]):\n",
    "        if (i==0):\n",
    "            time=0\n",
    "        elif (i==1):\n",
    "            time = time+np.diff(tbin)[0]\n",
    "        else:\n",
    "            time=time+time_len\n",
    "        \n",
    "        a=np.where(y_copy[i,:]==1)[0]\n",
    "        for j in range(a.shape[0]):\n",
    "            b_temp=np.zeros((1,3))\n",
    "            b_temp[0,0]=a[j]\n",
    "            b_temp[0,1]=time\n",
    "            k=0\n",
    "            c=np.where(y_copy[i+k,:]==1)[0]\n",
    "            if (i==tbin.shape[0]-1):\n",
    "                break\n",
    "            while (y_copy[i+k,a[j]]==1):\n",
    "                if (i+k==tbin.shape[0]-1):\n",
    "                    break\n",
    "                k=k+1\n",
    "                b_temp[0,2]=b_temp[0,2]+1\n",
    "            for l in range(k+1):\n",
    "                y_copy[i+l,a[j]]=0\n",
    "            b=np.append(b,b_temp,axis=0)\n",
    "    return b"
   ]
  },
  {
   "cell_type": "code",
   "execution_count": 8,
   "metadata": {},
   "outputs": [
    {
     "name": "stdout",
     "output_type": "stream",
     "text": [
      "Done with African Ripples\n",
      "Done with Ain't Misbehavin'\n",
      "Done with Viper's Drag\n",
      "Done with After You've Gone\n",
      "Done with Begin the Beguine\n",
      "Done with Blue And Sentimental\n",
      "Done with Easy Living\n",
      "Done with Fur Elise\n",
      "Done with It's Always You\n",
      "Done with MozartK265\n",
      "Done with Scale\n",
      "Done with Stardust\n",
      "DONE\n"
     ]
    }
   ],
   "source": [
    "input_dir_path_in=os.path.join(os.getcwd(),'Data/Processed/Testing/input')\n",
    "tbin_dir_path_in=os.path.join(os.getcwd(),'Data/Processed/Testing/tbin')\n",
    "\n",
    "input_file = listdir(input_dir_path_in)\n",
    "tbin_files = listdir(tbin_dir_path_in)\n",
    "for i in range(len(input_file)):\n",
    "    inp_test_path = os.path.join(os.getcwd(),'Data/Processed/Testing/input',input_file[i])\n",
    "    inp_test=pd.read_csv(inp_test_path,sep=',',header=None)\n",
    "\n",
    "    y_pred_n = m_n.predict(inp_test,batch_size=8)\n",
    "    y_pred_e = m_e.predict(inp_test,batch_size=8)\n",
    "    y_pred_h = m_h.predict(inp_test,batch_size=8)\n",
    "    \n",
    "    tbin_path = os.path.join(os.getcwd(),'Data/Processed/Testing/tbin',tbin_files[i])\n",
    "    a=pd.read_csv(tbin_path,sep=',',header=None)\n",
    "    b=np.zeros(1)\n",
    "    tbin=np.append(b,a)\n",
    "    \n",
    "    time_len = np.diff(tbin)[1]\n",
    "    \n",
    "    y_note_pred_n = np.zeros((y_pred_n.shape[0],y_pred_n.shape[1]))\n",
    "    for j in range(y_pred_n.shape[0]):\n",
    "        a=np.zeros((88,1))\n",
    "        a[:,0]=y_pred_n[j,:].copy()\n",
    "        a[a<0.03]=0\n",
    "        kmeans=KMeans(n_clusters=2).fit(a)\n",
    "        threshold = np.maximum(kmeans.cluster_centers_[0],kmeans.cluster_centers_[1])\n",
    "        if threshold==0:\n",
    "            threshold = 1\n",
    "        a=y_pred_n[j,0:88].copy()\n",
    "        a[a>=threshold]=1\n",
    "        a[a<threshold]=0\n",
    "        y_note_pred_n[j,:]=a\n",
    "    \n",
    "    track    = 0\n",
    "    channel  = 0\n",
    "    time     = 0    # In beats\n",
    "    duration = 1    # In beats\n",
    "    tempo    = 60   # In BPM\n",
    "    volume   = 100  # 0-127, as per the MIDI standard\n",
    "    MyMIDI_n = MIDIFile(1)\n",
    "    MyMIDI_n.addTempo(track, time, tempo)\n",
    "    \n",
    "    b=postprocess(y_note_pred_n,tbin)\n",
    "            \n",
    "    b[:,0]=b[:,0]+21\n",
    "    b=b[1:b.shape[0],:]\n",
    "    for j in range(b.shape[0]):\n",
    "        MyMIDI_n.addNote(track,channel,b[j,0].astype(np.int),b[j,1],b[j,2]*time_len,volume)\n",
    "    \n",
    "    with open(\"out_\"+input_file[i][:-4]+\"_n.mid\", \"wb\") as output_file:\n",
    "        MyMIDI_n.writeFile(output_file)\n",
    "        \n",
    "    y_note_pred_e=np.zeros((y_pred_e.shape[0],88))\n",
    "    \n",
    "    for j in range(y_pred_e.shape[0]):\n",
    "        a = y_pred_e[j,:].copy()\n",
    "        if (np.argmax(a)==88):\n",
    "            y_note_pred_e[j,:]=np.zeros(88)\n",
    "        else:\n",
    "            a=np.zeros((88,1))\n",
    "            a[:,0]=y_pred_e[j,0:88].copy()\n",
    "            a[a<0.03]=0\n",
    "            kmeans1=KMeans(n_clusters=2).fit(a)\n",
    "            threshold = np.maximum(kmeans1.cluster_centers_[0],kmeans1.cluster_centers_[1])\n",
    "            if threshold==0:\n",
    "                threshold = 1\n",
    "            a=y_pred_e[j,0:88].copy()\n",
    "            a[a>=threshold]=1\n",
    "            a[a<threshold]=0\n",
    "            y_note_pred_e[j,:]=a\n",
    "            \n",
    "    \n",
    "    track    = 0\n",
    "    channel  = 0\n",
    "    time     = 0    # In beats\n",
    "    duration = 1    # In beats\n",
    "    tempo    = 60   # In BPM\n",
    "    volume   = 100  # 0-127, as per the MIDI standard\n",
    "    MyMIDI_e = MIDIFile(1)\n",
    "    MyMIDI_e.addTempo(track, time, tempo)\n",
    "    \n",
    "    b=postprocess(y_note_pred_e,tbin)\n",
    "    b[:,0]=b[:,0]+21\n",
    "    b=b[1:b.shape[0],:]\n",
    "    for j in range(b.shape[0]):\n",
    "        MyMIDI_e.addNote(track,channel,b[j,0].astype(np.int),b[j,1],b[j,2]*time_len,volume)\n",
    "        \n",
    "    with open(\"out_\"+input_file[i][:-4]+\"_e.mid\", \"wb\") as output_file:\n",
    "        MyMIDI_e.writeFile(output_file)\n",
    "        \n",
    "        \n",
    "    threshold_pred_h = y_pred_h.copy()[:,0:88]\n",
    "    num_pred_prob = y_pred_h.copy()\n",
    "    \n",
    "    for j in range(y_pred_h.shape[0]):\n",
    "        a = num_pred_prob[:,88:num_pred_prob.shape[1]]\n",
    "        num_pred=count_notes_hot.columns[np.argmax(a[j,:])]\n",
    "        pred_idx = np.flip(np.argsort(threshold_pred_h[j,:]))[0:num_pred]\n",
    "        b=np.zeros(88)\n",
    "        if (num_pred==0):\n",
    "            threshold_pred_h[j,:]=b\n",
    "        else:\n",
    "            b[pred_idx]=1\n",
    "            threshold_pred_h[j,:]=b\n",
    "        \n",
    "    y_note_pred_h = threshold_pred_h[:,0:88]\n",
    "    \n",
    "    track    = 0\n",
    "    channel  = 0\n",
    "    time     = 0    # In beats\n",
    "    duration = 1    # In beats\n",
    "    tempo    = 60   # In BPM\n",
    "    volume   = 100  # 0-127, as per the MIDI standard\n",
    "    MyMIDI_h = MIDIFile(1)\n",
    "    MyMIDI_h.addTempo(track, time, tempo)\n",
    "    \n",
    "    b=postprocess(y_note_pred_h,tbin)\n",
    "    \n",
    "    b[:,0]=b[:,0]+21\n",
    "    b=b[1:b.shape[0],:]\n",
    "    for j in range(b.shape[0]):\n",
    "        MyMIDI_h.addNote(track,channel,b[j,0].astype(np.int),b[j,1],b[j,2]*time_len,volume)\n",
    "        \n",
    "    with open(\"out_\"+input_file[i][:-4]+\"_h.mid\", \"wb\") as output_file:\n",
    "        MyMIDI_h.writeFile(output_file)\n",
    "    print('Done with', input_file[i][:-4])\n",
    "    \n",
    "print('DONE')"
   ]
  },
  {
   "cell_type": "code",
   "execution_count": null,
   "metadata": {},
   "outputs": [],
   "source": []
  }
 ],
 "metadata": {
  "kernelspec": {
   "display_name": "Python 3",
   "language": "python",
   "name": "python3"
  },
  "language_info": {
   "codemirror_mode": {
    "name": "ipython",
    "version": 3
   },
   "file_extension": ".py",
   "mimetype": "text/x-python",
   "name": "python",
   "nbconvert_exporter": "python",
   "pygments_lexer": "ipython3",
   "version": "3.6.6"
  }
 },
 "nbformat": 4,
 "nbformat_minor": 2
}
