{
 "cells": [
  {
   "cell_type": "markdown",
   "metadata": {},
   "source": [
    "## Imports"
   ]
  },
  {
   "cell_type": "code",
   "execution_count": 1,
   "metadata": {},
   "outputs": [],
   "source": [
    "import os\n",
    "import sys\n",
    "import sklearn\n",
    "import random\n",
    "import matplotlib.pyplot as plt\n",
    "import tensorflow as tf\n",
    "import numpy as np\n",
    "import pandas as pd\n",
    "from sklearn.model_selection import train_test_split\n",
    "from tensorflow import keras\n",
    "from sklearn.metrics import accuracy_score"
   ]
  },
  {
   "cell_type": "markdown",
   "metadata": {},
   "source": [
    "## Data"
   ]
  },
  {
   "cell_type": "code",
   "execution_count": 2,
   "metadata": {},
   "outputs": [],
   "source": [
    "# Load in data\n",
    "\n",
    "in_file_path = os.path.join(os.getcwd(), 'Data//Isolated', 'input.txt')\n",
    "out_file_path = os.path.join(os.getcwd(), 'Data//Isolated', 'output.txt')\n",
    "\n",
    "inp = pd.read_csv(in_file_path,sep=\"\t\",header=None)\n",
    "out = pd.read_csv(out_file_path,sep=\"\t\",header=None)\n",
    "out_save = out.copy()"
   ]
  },
  {
   "cell_type": "code",
   "execution_count": 3,
   "metadata": {},
   "outputs": [],
   "source": [
    "out=out_save.copy()\n",
    "a=out.copy()\n",
    "b=out.copy()\n",
    "a=a.iloc[:,0:88]\n",
    "b=b.iloc[:,100]\n",
    "out=pd.concat([a,b],axis=1,ignore_index=True)"
   ]
  },
  {
   "cell_type": "code",
   "execution_count": 4,
   "metadata": {},
   "outputs": [
    {
     "data": {
      "text/html": [
       "<div>\n",
       "<style scoped>\n",
       "    .dataframe tbody tr th:only-of-type {\n",
       "        vertical-align: middle;\n",
       "    }\n",
       "\n",
       "    .dataframe tbody tr th {\n",
       "        vertical-align: top;\n",
       "    }\n",
       "\n",
       "    .dataframe thead th {\n",
       "        text-align: right;\n",
       "    }\n",
       "</style>\n",
       "<table border=\"1\" class=\"dataframe\">\n",
       "  <thead>\n",
       "    <tr style=\"text-align: right;\">\n",
       "      <th></th>\n",
       "      <th>0</th>\n",
       "      <th>1</th>\n",
       "      <th>2</th>\n",
       "      <th>3</th>\n",
       "      <th>4</th>\n",
       "      <th>5</th>\n",
       "      <th>6</th>\n",
       "      <th>7</th>\n",
       "      <th>8</th>\n",
       "      <th>9</th>\n",
       "      <th>...</th>\n",
       "      <th>386</th>\n",
       "      <th>387</th>\n",
       "      <th>388</th>\n",
       "      <th>389</th>\n",
       "      <th>390</th>\n",
       "      <th>391</th>\n",
       "      <th>392</th>\n",
       "      <th>393</th>\n",
       "      <th>394</th>\n",
       "      <th>395</th>\n",
       "    </tr>\n",
       "  </thead>\n",
       "  <tbody>\n",
       "    <tr>\n",
       "      <th>0</th>\n",
       "      <td>0</td>\n",
       "      <td>0.000000</td>\n",
       "      <td>0.000000</td>\n",
       "      <td>0.000000</td>\n",
       "      <td>0.000000</td>\n",
       "      <td>0.000000</td>\n",
       "      <td>0.000000</td>\n",
       "      <td>0.000000</td>\n",
       "      <td>0.000000</td>\n",
       "      <td>0.000000</td>\n",
       "      <td>...</td>\n",
       "      <td>0.000000</td>\n",
       "      <td>0.000000</td>\n",
       "      <td>0.000000</td>\n",
       "      <td>0.000000</td>\n",
       "      <td>0.000000</td>\n",
       "      <td>0.000000</td>\n",
       "      <td>0.000000</td>\n",
       "      <td>0.000000</td>\n",
       "      <td>0.000000</td>\n",
       "      <td>0.000000</td>\n",
       "    </tr>\n",
       "    <tr>\n",
       "      <th>1</th>\n",
       "      <td>0</td>\n",
       "      <td>2.251939</td>\n",
       "      <td>4.503877</td>\n",
       "      <td>4.503877</td>\n",
       "      <td>5.267735</td>\n",
       "      <td>5.267735</td>\n",
       "      <td>5.267735</td>\n",
       "      <td>5.267735</td>\n",
       "      <td>5.267735</td>\n",
       "      <td>5.267735</td>\n",
       "      <td>...</td>\n",
       "      <td>3.732886</td>\n",
       "      <td>3.379731</td>\n",
       "      <td>3.444591</td>\n",
       "      <td>2.619926</td>\n",
       "      <td>2.617579</td>\n",
       "      <td>2.536714</td>\n",
       "      <td>1.753817</td>\n",
       "      <td>1.576958</td>\n",
       "      <td>1.459010</td>\n",
       "      <td>1.266897</td>\n",
       "    </tr>\n",
       "    <tr>\n",
       "      <th>2</th>\n",
       "      <td>0</td>\n",
       "      <td>3.096148</td>\n",
       "      <td>6.192296</td>\n",
       "      <td>6.192296</td>\n",
       "      <td>6.878340</td>\n",
       "      <td>6.878340</td>\n",
       "      <td>6.878340</td>\n",
       "      <td>6.878340</td>\n",
       "      <td>6.878340</td>\n",
       "      <td>6.878340</td>\n",
       "      <td>...</td>\n",
       "      <td>1.640871</td>\n",
       "      <td>1.772594</td>\n",
       "      <td>1.821867</td>\n",
       "      <td>1.578366</td>\n",
       "      <td>1.714497</td>\n",
       "      <td>1.358405</td>\n",
       "      <td>1.881643</td>\n",
       "      <td>1.843069</td>\n",
       "      <td>1.829970</td>\n",
       "      <td>1.540454</td>\n",
       "    </tr>\n",
       "    <tr>\n",
       "      <th>3</th>\n",
       "      <td>0</td>\n",
       "      <td>2.584332</td>\n",
       "      <td>5.168665</td>\n",
       "      <td>5.168665</td>\n",
       "      <td>7.360459</td>\n",
       "      <td>7.360459</td>\n",
       "      <td>7.360459</td>\n",
       "      <td>7.360459</td>\n",
       "      <td>7.360459</td>\n",
       "      <td>7.360459</td>\n",
       "      <td>...</td>\n",
       "      <td>0.594425</td>\n",
       "      <td>-0.334698</td>\n",
       "      <td>-0.430611</td>\n",
       "      <td>0.502820</td>\n",
       "      <td>0.068937</td>\n",
       "      <td>0.143158</td>\n",
       "      <td>0.118356</td>\n",
       "      <td>0.072981</td>\n",
       "      <td>-0.281706</td>\n",
       "      <td>0.075947</td>\n",
       "    </tr>\n",
       "    <tr>\n",
       "      <th>4</th>\n",
       "      <td>0</td>\n",
       "      <td>3.000714</td>\n",
       "      <td>6.001429</td>\n",
       "      <td>6.001429</td>\n",
       "      <td>6.701647</td>\n",
       "      <td>6.701647</td>\n",
       "      <td>6.701647</td>\n",
       "      <td>6.701647</td>\n",
       "      <td>6.701647</td>\n",
       "      <td>6.701647</td>\n",
       "      <td>...</td>\n",
       "      <td>-0.623231</td>\n",
       "      <td>0.371712</td>\n",
       "      <td>0.470023</td>\n",
       "      <td>0.162091</td>\n",
       "      <td>0.221460</td>\n",
       "      <td>0.250500</td>\n",
       "      <td>0.530187</td>\n",
       "      <td>0.159522</td>\n",
       "      <td>0.305749</td>\n",
       "      <td>0.009385</td>\n",
       "    </tr>\n",
       "    <tr>\n",
       "      <th>5</th>\n",
       "      <td>0</td>\n",
       "      <td>2.751009</td>\n",
       "      <td>5.502019</td>\n",
       "      <td>5.502019</td>\n",
       "      <td>6.621682</td>\n",
       "      <td>6.621682</td>\n",
       "      <td>6.621682</td>\n",
       "      <td>6.621682</td>\n",
       "      <td>6.621682</td>\n",
       "      <td>6.621682</td>\n",
       "      <td>...</td>\n",
       "      <td>0.633103</td>\n",
       "      <td>0.263561</td>\n",
       "      <td>-0.168876</td>\n",
       "      <td>0.346169</td>\n",
       "      <td>-0.440816</td>\n",
       "      <td>0.384683</td>\n",
       "      <td>-0.051109</td>\n",
       "      <td>0.221751</td>\n",
       "      <td>0.035686</td>\n",
       "      <td>0.602832</td>\n",
       "    </tr>\n",
       "    <tr>\n",
       "      <th>6</th>\n",
       "      <td>0</td>\n",
       "      <td>2.642939</td>\n",
       "      <td>5.285878</td>\n",
       "      <td>5.285878</td>\n",
       "      <td>6.867776</td>\n",
       "      <td>6.867776</td>\n",
       "      <td>6.867776</td>\n",
       "      <td>6.867776</td>\n",
       "      <td>6.867776</td>\n",
       "      <td>6.867776</td>\n",
       "      <td>...</td>\n",
       "      <td>-0.890348</td>\n",
       "      <td>-0.869460</td>\n",
       "      <td>-0.617617</td>\n",
       "      <td>-0.647156</td>\n",
       "      <td>-0.466353</td>\n",
       "      <td>-0.895708</td>\n",
       "      <td>-0.513983</td>\n",
       "      <td>-1.051126</td>\n",
       "      <td>-0.645904</td>\n",
       "      <td>-1.380035</td>\n",
       "    </tr>\n",
       "    <tr>\n",
       "      <th>7</th>\n",
       "      <td>0</td>\n",
       "      <td>2.371071</td>\n",
       "      <td>4.742141</td>\n",
       "      <td>4.742141</td>\n",
       "      <td>7.653968</td>\n",
       "      <td>7.653968</td>\n",
       "      <td>7.653968</td>\n",
       "      <td>7.653968</td>\n",
       "      <td>7.653968</td>\n",
       "      <td>7.653968</td>\n",
       "      <td>...</td>\n",
       "      <td>0.084704</td>\n",
       "      <td>0.522521</td>\n",
       "      <td>0.457197</td>\n",
       "      <td>0.300003</td>\n",
       "      <td>0.246175</td>\n",
       "      <td>0.269324</td>\n",
       "      <td>0.340245</td>\n",
       "      <td>0.608106</td>\n",
       "      <td>0.927223</td>\n",
       "      <td>1.058712</td>\n",
       "    </tr>\n",
       "    <tr>\n",
       "      <th>8</th>\n",
       "      <td>0</td>\n",
       "      <td>2.403097</td>\n",
       "      <td>4.806194</td>\n",
       "      <td>4.806194</td>\n",
       "      <td>4.775225</td>\n",
       "      <td>4.775225</td>\n",
       "      <td>4.775225</td>\n",
       "      <td>4.775225</td>\n",
       "      <td>4.775225</td>\n",
       "      <td>4.775225</td>\n",
       "      <td>...</td>\n",
       "      <td>0.332082</td>\n",
       "      <td>0.043317</td>\n",
       "      <td>-0.011749</td>\n",
       "      <td>-0.175405</td>\n",
       "      <td>1.035872</td>\n",
       "      <td>0.576066</td>\n",
       "      <td>0.032425</td>\n",
       "      <td>0.454823</td>\n",
       "      <td>0.370297</td>\n",
       "      <td>0.560443</td>\n",
       "    </tr>\n",
       "    <tr>\n",
       "      <th>9</th>\n",
       "      <td>0</td>\n",
       "      <td>2.462601</td>\n",
       "      <td>4.925202</td>\n",
       "      <td>4.925202</td>\n",
       "      <td>5.128348</td>\n",
       "      <td>5.128348</td>\n",
       "      <td>5.128348</td>\n",
       "      <td>5.128348</td>\n",
       "      <td>5.128348</td>\n",
       "      <td>5.128348</td>\n",
       "      <td>...</td>\n",
       "      <td>0.251075</td>\n",
       "      <td>0.582727</td>\n",
       "      <td>0.905515</td>\n",
       "      <td>0.560194</td>\n",
       "      <td>0.005657</td>\n",
       "      <td>0.148847</td>\n",
       "      <td>0.304870</td>\n",
       "      <td>0.414894</td>\n",
       "      <td>-0.168880</td>\n",
       "      <td>-0.491118</td>\n",
       "    </tr>\n",
       "  </tbody>\n",
       "</table>\n",
       "<p>10 rows × 396 columns</p>\n",
       "</div>"
      ],
      "text/plain": [
       "   0         1         2         3         4         5         6         7    \\\n",
       "0    0  0.000000  0.000000  0.000000  0.000000  0.000000  0.000000  0.000000   \n",
       "1    0  2.251939  4.503877  4.503877  5.267735  5.267735  5.267735  5.267735   \n",
       "2    0  3.096148  6.192296  6.192296  6.878340  6.878340  6.878340  6.878340   \n",
       "3    0  2.584332  5.168665  5.168665  7.360459  7.360459  7.360459  7.360459   \n",
       "4    0  3.000714  6.001429  6.001429  6.701647  6.701647  6.701647  6.701647   \n",
       "5    0  2.751009  5.502019  5.502019  6.621682  6.621682  6.621682  6.621682   \n",
       "6    0  2.642939  5.285878  5.285878  6.867776  6.867776  6.867776  6.867776   \n",
       "7    0  2.371071  4.742141  4.742141  7.653968  7.653968  7.653968  7.653968   \n",
       "8    0  2.403097  4.806194  4.806194  4.775225  4.775225  4.775225  4.775225   \n",
       "9    0  2.462601  4.925202  4.925202  5.128348  5.128348  5.128348  5.128348   \n",
       "\n",
       "        8         9      ...          386       387       388       389  \\\n",
       "0  0.000000  0.000000    ...     0.000000  0.000000  0.000000  0.000000   \n",
       "1  5.267735  5.267735    ...     3.732886  3.379731  3.444591  2.619926   \n",
       "2  6.878340  6.878340    ...     1.640871  1.772594  1.821867  1.578366   \n",
       "3  7.360459  7.360459    ...     0.594425 -0.334698 -0.430611  0.502820   \n",
       "4  6.701647  6.701647    ...    -0.623231  0.371712  0.470023  0.162091   \n",
       "5  6.621682  6.621682    ...     0.633103  0.263561 -0.168876  0.346169   \n",
       "6  6.867776  6.867776    ...    -0.890348 -0.869460 -0.617617 -0.647156   \n",
       "7  7.653968  7.653968    ...     0.084704  0.522521  0.457197  0.300003   \n",
       "8  4.775225  4.775225    ...     0.332082  0.043317 -0.011749 -0.175405   \n",
       "9  5.128348  5.128348    ...     0.251075  0.582727  0.905515  0.560194   \n",
       "\n",
       "        390       391       392       393       394       395  \n",
       "0  0.000000  0.000000  0.000000  0.000000  0.000000  0.000000  \n",
       "1  2.617579  2.536714  1.753817  1.576958  1.459010  1.266897  \n",
       "2  1.714497  1.358405  1.881643  1.843069  1.829970  1.540454  \n",
       "3  0.068937  0.143158  0.118356  0.072981 -0.281706  0.075947  \n",
       "4  0.221460  0.250500  0.530187  0.159522  0.305749  0.009385  \n",
       "5 -0.440816  0.384683 -0.051109  0.221751  0.035686  0.602832  \n",
       "6 -0.466353 -0.895708 -0.513983 -1.051126 -0.645904 -1.380035  \n",
       "7  0.246175  0.269324  0.340245  0.608106  0.927223  1.058712  \n",
       "8  1.035872  0.576066  0.032425  0.454823  0.370297  0.560443  \n",
       "9  0.005657  0.148847  0.304870  0.414894 -0.168880 -0.491118  \n",
       "\n",
       "[10 rows x 396 columns]"
      ]
     },
     "metadata": {},
     "output_type": "display_data"
    }
   ],
   "source": [
    "display(inp.iloc[0:10,:])"
   ]
  },
  {
   "cell_type": "code",
   "execution_count": 5,
   "metadata": {},
   "outputs": [
    {
     "data": {
      "text/html": [
       "<div>\n",
       "<style scoped>\n",
       "    .dataframe tbody tr th:only-of-type {\n",
       "        vertical-align: middle;\n",
       "    }\n",
       "\n",
       "    .dataframe tbody tr th {\n",
       "        vertical-align: top;\n",
       "    }\n",
       "\n",
       "    .dataframe thead th {\n",
       "        text-align: right;\n",
       "    }\n",
       "</style>\n",
       "<table border=\"1\" class=\"dataframe\">\n",
       "  <thead>\n",
       "    <tr style=\"text-align: right;\">\n",
       "      <th></th>\n",
       "      <th>0</th>\n",
       "      <th>1</th>\n",
       "      <th>2</th>\n",
       "      <th>3</th>\n",
       "      <th>4</th>\n",
       "      <th>5</th>\n",
       "      <th>6</th>\n",
       "      <th>7</th>\n",
       "      <th>8</th>\n",
       "      <th>9</th>\n",
       "      <th>...</th>\n",
       "      <th>79</th>\n",
       "      <th>80</th>\n",
       "      <th>81</th>\n",
       "      <th>82</th>\n",
       "      <th>83</th>\n",
       "      <th>84</th>\n",
       "      <th>85</th>\n",
       "      <th>86</th>\n",
       "      <th>87</th>\n",
       "      <th>88</th>\n",
       "    </tr>\n",
       "  </thead>\n",
       "  <tbody>\n",
       "    <tr>\n",
       "      <th>0</th>\n",
       "      <td>0</td>\n",
       "      <td>0</td>\n",
       "      <td>0</td>\n",
       "      <td>0</td>\n",
       "      <td>0</td>\n",
       "      <td>0</td>\n",
       "      <td>0</td>\n",
       "      <td>0</td>\n",
       "      <td>0</td>\n",
       "      <td>0</td>\n",
       "      <td>...</td>\n",
       "      <td>0</td>\n",
       "      <td>0</td>\n",
       "      <td>0</td>\n",
       "      <td>0</td>\n",
       "      <td>0</td>\n",
       "      <td>0</td>\n",
       "      <td>0</td>\n",
       "      <td>0</td>\n",
       "      <td>0</td>\n",
       "      <td>1</td>\n",
       "    </tr>\n",
       "    <tr>\n",
       "      <th>1</th>\n",
       "      <td>0</td>\n",
       "      <td>0</td>\n",
       "      <td>0</td>\n",
       "      <td>0</td>\n",
       "      <td>0</td>\n",
       "      <td>0</td>\n",
       "      <td>0</td>\n",
       "      <td>0</td>\n",
       "      <td>0</td>\n",
       "      <td>0</td>\n",
       "      <td>...</td>\n",
       "      <td>0</td>\n",
       "      <td>0</td>\n",
       "      <td>0</td>\n",
       "      <td>0</td>\n",
       "      <td>0</td>\n",
       "      <td>0</td>\n",
       "      <td>0</td>\n",
       "      <td>0</td>\n",
       "      <td>0</td>\n",
       "      <td>1</td>\n",
       "    </tr>\n",
       "    <tr>\n",
       "      <th>2</th>\n",
       "      <td>0</td>\n",
       "      <td>0</td>\n",
       "      <td>0</td>\n",
       "      <td>0</td>\n",
       "      <td>0</td>\n",
       "      <td>0</td>\n",
       "      <td>0</td>\n",
       "      <td>0</td>\n",
       "      <td>0</td>\n",
       "      <td>0</td>\n",
       "      <td>...</td>\n",
       "      <td>0</td>\n",
       "      <td>0</td>\n",
       "      <td>0</td>\n",
       "      <td>0</td>\n",
       "      <td>0</td>\n",
       "      <td>0</td>\n",
       "      <td>0</td>\n",
       "      <td>0</td>\n",
       "      <td>0</td>\n",
       "      <td>1</td>\n",
       "    </tr>\n",
       "    <tr>\n",
       "      <th>3</th>\n",
       "      <td>0</td>\n",
       "      <td>0</td>\n",
       "      <td>1</td>\n",
       "      <td>0</td>\n",
       "      <td>0</td>\n",
       "      <td>0</td>\n",
       "      <td>0</td>\n",
       "      <td>0</td>\n",
       "      <td>0</td>\n",
       "      <td>0</td>\n",
       "      <td>...</td>\n",
       "      <td>0</td>\n",
       "      <td>0</td>\n",
       "      <td>0</td>\n",
       "      <td>0</td>\n",
       "      <td>0</td>\n",
       "      <td>0</td>\n",
       "      <td>0</td>\n",
       "      <td>0</td>\n",
       "      <td>0</td>\n",
       "      <td>0</td>\n",
       "    </tr>\n",
       "    <tr>\n",
       "      <th>4</th>\n",
       "      <td>0</td>\n",
       "      <td>0</td>\n",
       "      <td>0</td>\n",
       "      <td>0</td>\n",
       "      <td>0</td>\n",
       "      <td>0</td>\n",
       "      <td>0</td>\n",
       "      <td>0</td>\n",
       "      <td>0</td>\n",
       "      <td>0</td>\n",
       "      <td>...</td>\n",
       "      <td>0</td>\n",
       "      <td>0</td>\n",
       "      <td>0</td>\n",
       "      <td>0</td>\n",
       "      <td>0</td>\n",
       "      <td>0</td>\n",
       "      <td>0</td>\n",
       "      <td>0</td>\n",
       "      <td>0</td>\n",
       "      <td>1</td>\n",
       "    </tr>\n",
       "    <tr>\n",
       "      <th>5</th>\n",
       "      <td>0</td>\n",
       "      <td>0</td>\n",
       "      <td>0</td>\n",
       "      <td>0</td>\n",
       "      <td>0</td>\n",
       "      <td>0</td>\n",
       "      <td>0</td>\n",
       "      <td>0</td>\n",
       "      <td>0</td>\n",
       "      <td>0</td>\n",
       "      <td>...</td>\n",
       "      <td>0</td>\n",
       "      <td>0</td>\n",
       "      <td>0</td>\n",
       "      <td>0</td>\n",
       "      <td>0</td>\n",
       "      <td>0</td>\n",
       "      <td>0</td>\n",
       "      <td>0</td>\n",
       "      <td>0</td>\n",
       "      <td>1</td>\n",
       "    </tr>\n",
       "    <tr>\n",
       "      <th>6</th>\n",
       "      <td>0</td>\n",
       "      <td>0</td>\n",
       "      <td>0</td>\n",
       "      <td>0</td>\n",
       "      <td>0</td>\n",
       "      <td>0</td>\n",
       "      <td>0</td>\n",
       "      <td>0</td>\n",
       "      <td>0</td>\n",
       "      <td>0</td>\n",
       "      <td>...</td>\n",
       "      <td>0</td>\n",
       "      <td>0</td>\n",
       "      <td>0</td>\n",
       "      <td>0</td>\n",
       "      <td>0</td>\n",
       "      <td>0</td>\n",
       "      <td>0</td>\n",
       "      <td>0</td>\n",
       "      <td>0</td>\n",
       "      <td>0</td>\n",
       "    </tr>\n",
       "    <tr>\n",
       "      <th>7</th>\n",
       "      <td>0</td>\n",
       "      <td>0</td>\n",
       "      <td>0</td>\n",
       "      <td>0</td>\n",
       "      <td>0</td>\n",
       "      <td>0</td>\n",
       "      <td>0</td>\n",
       "      <td>0</td>\n",
       "      <td>0</td>\n",
       "      <td>0</td>\n",
       "      <td>...</td>\n",
       "      <td>0</td>\n",
       "      <td>0</td>\n",
       "      <td>0</td>\n",
       "      <td>0</td>\n",
       "      <td>0</td>\n",
       "      <td>0</td>\n",
       "      <td>0</td>\n",
       "      <td>0</td>\n",
       "      <td>0</td>\n",
       "      <td>0</td>\n",
       "    </tr>\n",
       "    <tr>\n",
       "      <th>8</th>\n",
       "      <td>0</td>\n",
       "      <td>0</td>\n",
       "      <td>0</td>\n",
       "      <td>0</td>\n",
       "      <td>0</td>\n",
       "      <td>0</td>\n",
       "      <td>0</td>\n",
       "      <td>0</td>\n",
       "      <td>0</td>\n",
       "      <td>0</td>\n",
       "      <td>...</td>\n",
       "      <td>0</td>\n",
       "      <td>0</td>\n",
       "      <td>0</td>\n",
       "      <td>0</td>\n",
       "      <td>0</td>\n",
       "      <td>0</td>\n",
       "      <td>0</td>\n",
       "      <td>0</td>\n",
       "      <td>0</td>\n",
       "      <td>0</td>\n",
       "    </tr>\n",
       "    <tr>\n",
       "      <th>9</th>\n",
       "      <td>0</td>\n",
       "      <td>0</td>\n",
       "      <td>0</td>\n",
       "      <td>0</td>\n",
       "      <td>0</td>\n",
       "      <td>0</td>\n",
       "      <td>0</td>\n",
       "      <td>0</td>\n",
       "      <td>0</td>\n",
       "      <td>0</td>\n",
       "      <td>...</td>\n",
       "      <td>0</td>\n",
       "      <td>0</td>\n",
       "      <td>0</td>\n",
       "      <td>0</td>\n",
       "      <td>0</td>\n",
       "      <td>0</td>\n",
       "      <td>0</td>\n",
       "      <td>0</td>\n",
       "      <td>0</td>\n",
       "      <td>0</td>\n",
       "    </tr>\n",
       "  </tbody>\n",
       "</table>\n",
       "<p>10 rows × 89 columns</p>\n",
       "</div>"
      ],
      "text/plain": [
       "   0   1   2   3   4   5   6   7   8   9  ...  79  80  81  82  83  84  85  86  \\\n",
       "0   0   0   0   0   0   0   0   0   0   0 ...   0   0   0   0   0   0   0   0   \n",
       "1   0   0   0   0   0   0   0   0   0   0 ...   0   0   0   0   0   0   0   0   \n",
       "2   0   0   0   0   0   0   0   0   0   0 ...   0   0   0   0   0   0   0   0   \n",
       "3   0   0   1   0   0   0   0   0   0   0 ...   0   0   0   0   0   0   0   0   \n",
       "4   0   0   0   0   0   0   0   0   0   0 ...   0   0   0   0   0   0   0   0   \n",
       "5   0   0   0   0   0   0   0   0   0   0 ...   0   0   0   0   0   0   0   0   \n",
       "6   0   0   0   0   0   0   0   0   0   0 ...   0   0   0   0   0   0   0   0   \n",
       "7   0   0   0   0   0   0   0   0   0   0 ...   0   0   0   0   0   0   0   0   \n",
       "8   0   0   0   0   0   0   0   0   0   0 ...   0   0   0   0   0   0   0   0   \n",
       "9   0   0   0   0   0   0   0   0   0   0 ...   0   0   0   0   0   0   0   0   \n",
       "\n",
       "   87  88  \n",
       "0   0   1  \n",
       "1   0   1  \n",
       "2   0   1  \n",
       "3   0   0  \n",
       "4   0   1  \n",
       "5   0   1  \n",
       "6   0   0  \n",
       "7   0   0  \n",
       "8   0   0  \n",
       "9   0   0  \n",
       "\n",
       "[10 rows x 89 columns]"
      ]
     },
     "metadata": {},
     "output_type": "display_data"
    }
   ],
   "source": [
    "display(out.iloc[0:10,:])"
   ]
  },
  {
   "cell_type": "markdown",
   "metadata": {},
   "source": [
    "## Get some info"
   ]
  },
  {
   "cell_type": "code",
   "execution_count": 6,
   "metadata": {
    "scrolled": true
   },
   "outputs": [
    {
     "name": "stdout",
     "output_type": "stream",
     "text": [
      "Empty instances: 10402\n",
      "Not empty instances: 8785\n"
     ]
    }
   ],
   "source": [
    "count_empty = np.sum(out.iloc[:,out.shape[1]-1],axis=0)\n",
    "count_not_empty = out.shape[0] - count_empty\n",
    "print('Empty instances:',count_empty)\n",
    "print('Not empty instances:',count_not_empty)\n"
   ]
  },
  {
   "cell_type": "code",
   "execution_count": 7,
   "metadata": {},
   "outputs": [
    {
     "data": {
      "text/html": [
       "<div>\n",
       "<style scoped>\n",
       "    .dataframe tbody tr th:only-of-type {\n",
       "        vertical-align: middle;\n",
       "    }\n",
       "\n",
       "    .dataframe tbody tr th {\n",
       "        vertical-align: top;\n",
       "    }\n",
       "\n",
       "    .dataframe thead th {\n",
       "        text-align: right;\n",
       "    }\n",
       "</style>\n",
       "<table border=\"1\" class=\"dataframe\">\n",
       "  <thead>\n",
       "    <tr style=\"text-align: right;\">\n",
       "      <th></th>\n",
       "      <th>0</th>\n",
       "      <th>1</th>\n",
       "      <th>2</th>\n",
       "      <th>3</th>\n",
       "      <th>4</th>\n",
       "      <th>5</th>\n",
       "      <th>6</th>\n",
       "      <th>7</th>\n",
       "      <th>8</th>\n",
       "      <th>9</th>\n",
       "      <th>...</th>\n",
       "      <th>80</th>\n",
       "      <th>81</th>\n",
       "      <th>82</th>\n",
       "      <th>83</th>\n",
       "      <th>84</th>\n",
       "      <th>85</th>\n",
       "      <th>86</th>\n",
       "      <th>87</th>\n",
       "      <th>88</th>\n",
       "      <th>89</th>\n",
       "    </tr>\n",
       "  </thead>\n",
       "  <tbody>\n",
       "    <tr>\n",
       "      <th>0</th>\n",
       "      <td>0</td>\n",
       "      <td>0</td>\n",
       "      <td>0</td>\n",
       "      <td>0</td>\n",
       "      <td>0</td>\n",
       "      <td>0</td>\n",
       "      <td>0</td>\n",
       "      <td>0</td>\n",
       "      <td>0</td>\n",
       "      <td>0</td>\n",
       "      <td>...</td>\n",
       "      <td>0</td>\n",
       "      <td>0</td>\n",
       "      <td>0</td>\n",
       "      <td>0</td>\n",
       "      <td>0</td>\n",
       "      <td>0</td>\n",
       "      <td>0</td>\n",
       "      <td>0</td>\n",
       "      <td>1</td>\n",
       "      <td>0</td>\n",
       "    </tr>\n",
       "    <tr>\n",
       "      <th>1</th>\n",
       "      <td>0</td>\n",
       "      <td>0</td>\n",
       "      <td>0</td>\n",
       "      <td>0</td>\n",
       "      <td>0</td>\n",
       "      <td>0</td>\n",
       "      <td>0</td>\n",
       "      <td>0</td>\n",
       "      <td>0</td>\n",
       "      <td>0</td>\n",
       "      <td>...</td>\n",
       "      <td>0</td>\n",
       "      <td>0</td>\n",
       "      <td>0</td>\n",
       "      <td>0</td>\n",
       "      <td>0</td>\n",
       "      <td>0</td>\n",
       "      <td>0</td>\n",
       "      <td>0</td>\n",
       "      <td>1</td>\n",
       "      <td>0</td>\n",
       "    </tr>\n",
       "    <tr>\n",
       "      <th>2</th>\n",
       "      <td>0</td>\n",
       "      <td>0</td>\n",
       "      <td>0</td>\n",
       "      <td>0</td>\n",
       "      <td>0</td>\n",
       "      <td>0</td>\n",
       "      <td>0</td>\n",
       "      <td>0</td>\n",
       "      <td>0</td>\n",
       "      <td>0</td>\n",
       "      <td>...</td>\n",
       "      <td>0</td>\n",
       "      <td>0</td>\n",
       "      <td>0</td>\n",
       "      <td>0</td>\n",
       "      <td>0</td>\n",
       "      <td>0</td>\n",
       "      <td>0</td>\n",
       "      <td>0</td>\n",
       "      <td>1</td>\n",
       "      <td>0</td>\n",
       "    </tr>\n",
       "    <tr>\n",
       "      <th>3</th>\n",
       "      <td>0</td>\n",
       "      <td>0</td>\n",
       "      <td>1</td>\n",
       "      <td>0</td>\n",
       "      <td>0</td>\n",
       "      <td>0</td>\n",
       "      <td>0</td>\n",
       "      <td>0</td>\n",
       "      <td>0</td>\n",
       "      <td>0</td>\n",
       "      <td>...</td>\n",
       "      <td>0</td>\n",
       "      <td>0</td>\n",
       "      <td>0</td>\n",
       "      <td>0</td>\n",
       "      <td>0</td>\n",
       "      <td>0</td>\n",
       "      <td>0</td>\n",
       "      <td>0</td>\n",
       "      <td>0</td>\n",
       "      <td>1</td>\n",
       "    </tr>\n",
       "    <tr>\n",
       "      <th>4</th>\n",
       "      <td>0</td>\n",
       "      <td>0</td>\n",
       "      <td>0</td>\n",
       "      <td>0</td>\n",
       "      <td>0</td>\n",
       "      <td>0</td>\n",
       "      <td>0</td>\n",
       "      <td>0</td>\n",
       "      <td>0</td>\n",
       "      <td>0</td>\n",
       "      <td>...</td>\n",
       "      <td>0</td>\n",
       "      <td>0</td>\n",
       "      <td>0</td>\n",
       "      <td>0</td>\n",
       "      <td>0</td>\n",
       "      <td>0</td>\n",
       "      <td>0</td>\n",
       "      <td>0</td>\n",
       "      <td>1</td>\n",
       "      <td>0</td>\n",
       "    </tr>\n",
       "    <tr>\n",
       "      <th>5</th>\n",
       "      <td>0</td>\n",
       "      <td>0</td>\n",
       "      <td>0</td>\n",
       "      <td>0</td>\n",
       "      <td>0</td>\n",
       "      <td>0</td>\n",
       "      <td>0</td>\n",
       "      <td>0</td>\n",
       "      <td>0</td>\n",
       "      <td>0</td>\n",
       "      <td>...</td>\n",
       "      <td>0</td>\n",
       "      <td>0</td>\n",
       "      <td>0</td>\n",
       "      <td>0</td>\n",
       "      <td>0</td>\n",
       "      <td>0</td>\n",
       "      <td>0</td>\n",
       "      <td>0</td>\n",
       "      <td>1</td>\n",
       "      <td>0</td>\n",
       "    </tr>\n",
       "    <tr>\n",
       "      <th>6</th>\n",
       "      <td>0</td>\n",
       "      <td>0</td>\n",
       "      <td>0</td>\n",
       "      <td>0</td>\n",
       "      <td>0</td>\n",
       "      <td>0</td>\n",
       "      <td>0</td>\n",
       "      <td>0</td>\n",
       "      <td>0</td>\n",
       "      <td>0</td>\n",
       "      <td>...</td>\n",
       "      <td>0</td>\n",
       "      <td>0</td>\n",
       "      <td>0</td>\n",
       "      <td>0</td>\n",
       "      <td>0</td>\n",
       "      <td>0</td>\n",
       "      <td>0</td>\n",
       "      <td>0</td>\n",
       "      <td>0</td>\n",
       "      <td>1</td>\n",
       "    </tr>\n",
       "    <tr>\n",
       "      <th>7</th>\n",
       "      <td>0</td>\n",
       "      <td>0</td>\n",
       "      <td>0</td>\n",
       "      <td>0</td>\n",
       "      <td>0</td>\n",
       "      <td>0</td>\n",
       "      <td>0</td>\n",
       "      <td>0</td>\n",
       "      <td>0</td>\n",
       "      <td>0</td>\n",
       "      <td>...</td>\n",
       "      <td>0</td>\n",
       "      <td>0</td>\n",
       "      <td>0</td>\n",
       "      <td>0</td>\n",
       "      <td>0</td>\n",
       "      <td>0</td>\n",
       "      <td>0</td>\n",
       "      <td>0</td>\n",
       "      <td>0</td>\n",
       "      <td>1</td>\n",
       "    </tr>\n",
       "    <tr>\n",
       "      <th>8</th>\n",
       "      <td>0</td>\n",
       "      <td>0</td>\n",
       "      <td>0</td>\n",
       "      <td>0</td>\n",
       "      <td>0</td>\n",
       "      <td>0</td>\n",
       "      <td>0</td>\n",
       "      <td>0</td>\n",
       "      <td>0</td>\n",
       "      <td>0</td>\n",
       "      <td>...</td>\n",
       "      <td>0</td>\n",
       "      <td>0</td>\n",
       "      <td>0</td>\n",
       "      <td>0</td>\n",
       "      <td>0</td>\n",
       "      <td>0</td>\n",
       "      <td>0</td>\n",
       "      <td>0</td>\n",
       "      <td>0</td>\n",
       "      <td>1</td>\n",
       "    </tr>\n",
       "    <tr>\n",
       "      <th>9</th>\n",
       "      <td>0</td>\n",
       "      <td>0</td>\n",
       "      <td>0</td>\n",
       "      <td>0</td>\n",
       "      <td>0</td>\n",
       "      <td>0</td>\n",
       "      <td>0</td>\n",
       "      <td>0</td>\n",
       "      <td>0</td>\n",
       "      <td>0</td>\n",
       "      <td>...</td>\n",
       "      <td>0</td>\n",
       "      <td>0</td>\n",
       "      <td>0</td>\n",
       "      <td>0</td>\n",
       "      <td>0</td>\n",
       "      <td>0</td>\n",
       "      <td>0</td>\n",
       "      <td>0</td>\n",
       "      <td>0</td>\n",
       "      <td>1</td>\n",
       "    </tr>\n",
       "  </tbody>\n",
       "</table>\n",
       "<p>10 rows × 90 columns</p>\n",
       "</div>"
      ],
      "text/plain": [
       "   0   1   2   3   4   5   6   7   8   9  ...  80  81  82  83  84  85  86  87  \\\n",
       "0   0   0   0   0   0   0   0   0   0   0 ...   0   0   0   0   0   0   0   0   \n",
       "1   0   0   0   0   0   0   0   0   0   0 ...   0   0   0   0   0   0   0   0   \n",
       "2   0   0   0   0   0   0   0   0   0   0 ...   0   0   0   0   0   0   0   0   \n",
       "3   0   0   1   0   0   0   0   0   0   0 ...   0   0   0   0   0   0   0   0   \n",
       "4   0   0   0   0   0   0   0   0   0   0 ...   0   0   0   0   0   0   0   0   \n",
       "5   0   0   0   0   0   0   0   0   0   0 ...   0   0   0   0   0   0   0   0   \n",
       "6   0   0   0   0   0   0   0   0   0   0 ...   0   0   0   0   0   0   0   0   \n",
       "7   0   0   0   0   0   0   0   0   0   0 ...   0   0   0   0   0   0   0   0   \n",
       "8   0   0   0   0   0   0   0   0   0   0 ...   0   0   0   0   0   0   0   0   \n",
       "9   0   0   0   0   0   0   0   0   0   0 ...   0   0   0   0   0   0   0   0   \n",
       "\n",
       "   88  89  \n",
       "0   1   0  \n",
       "1   1   0  \n",
       "2   1   0  \n",
       "3   0   1  \n",
       "4   1   0  \n",
       "5   1   0  \n",
       "6   0   1  \n",
       "7   0   1  \n",
       "8   0   1  \n",
       "9   0   1  \n",
       "\n",
       "[10 rows x 90 columns]"
      ]
     },
     "metadata": {},
     "output_type": "display_data"
    }
   ],
   "source": [
    "only_notes=out.iloc[:,0:out.shape[1]-1]\n",
    "count_notes = np.sum(only_notes,axis=1)\n",
    "single_note_idx = np.where(count_notes==1)[0]\n",
    "count_notes_hot = pd.get_dummies(count_notes)\n",
    "out_hot=pd.concat([only_notes,count_notes_hot],axis=1,ignore_index=True).iloc[:,0:90]\n",
    "display(out_hot.iloc[0:10,:])"
   ]
  },
  {
   "cell_type": "code",
   "execution_count": 8,
   "metadata": {},
   "outputs": [],
   "source": [
    "empty = out_hot.iloc[:,out.shape[1]-1].get_values()\n",
    "empty_idx = np.where(empty==1)[0]\n",
    "not_empty_idx = np.where(empty==0)[0]\n",
    "\n",
    "# How many empty?\n",
    "num_empty = 200\n",
    "\n",
    "# Get random empty index\n",
    "ii = random.sample(range(0,empty_idx.shape[0]),num_empty)\n",
    "rand_empty_idx = empty_idx[ii]\n",
    "\n",
    "# Get single notes\n",
    "i1 = np.intersect1d(not_empty_idx,single_note_idx)"
   ]
  },
  {
   "cell_type": "code",
   "execution_count": 9,
   "metadata": {},
   "outputs": [
    {
     "data": {
      "text/plain": [
       "[<matplotlib.lines.Line2D at 0x7f62de4f1f98>]"
      ]
     },
     "execution_count": 9,
     "metadata": {},
     "output_type": "execute_result"
    },
    {
     "data": {
      "image/png": "[encoded data removed]",
      "text/plain": [
       "<Figure size 432x288 with 1 Axes>"
      ]
     },
     "metadata": {
      "needs_background": "light"
     },
     "output_type": "display_data"
    }
   ],
   "source": [
    "plt.plot(np.sum(out.iloc[:,0:out.shape[1]-1],axis=0))"
   ]
  },
  {
   "cell_type": "code",
   "execution_count": 34,
   "metadata": {},
   "outputs": [
    {
     "name": "stdout",
     "output_type": "stream",
     "text": [
      "X_train_n shape: (6008, 396)\n",
      "y_train_n shape: (6008, 88)\n",
      "X_test_n shape: (1503, 396)\n",
      "y_test_n shape: (1503, 88)\n"
     ]
    }
   ],
   "source": [
    "# Split no note info\n",
    "X_n = pd.concat([inp.iloc[i1,:],inp.iloc[rand_empty_idx,:]],axis=0,ignore_index=True)\n",
    "y_n = pd.concat([out.iloc[i1,0:out.shape[1]-1],out.iloc[rand_empty_idx,0:out.shape[1]-1]],axis=0,ignore_index=True)\n",
    "X_train_n,X_test_n,y_train_n,y_test_n = train_test_split(X_n,y_n,train_size=0.80,test_size=0.20)\n",
    "print('X_train_n shape:',X_train_n.shape)\n",
    "print('y_train_n shape:',y_train_n.shape)\n",
    "print('X_test_n shape:',X_test_n.shape)\n",
    "print('y_test_n shape:',y_test_n.shape)"
   ]
  },
  {
   "cell_type": "code",
   "execution_count": 11,
   "metadata": {},
   "outputs": [
    {
     "name": "stdout",
     "output_type": "stream",
     "text": [
      "X_train_e shape: (6008, 396)\n",
      "y_train_e shape: (6008, 89)\n",
      "X_test_e shape: (1503, 396)\n",
      "y_test_e shape: (1503, 89)\n"
     ]
    }
   ],
   "source": [
    "# Split with empty\n",
    "X_e = pd.concat([inp.iloc[i1,:],inp.iloc[rand_empty_idx,:]],axis=0,ignore_index=True)\n",
    "y_e = pd.concat([out.iloc[i1,:],out.iloc[rand_empty_idx,:]],axis=0,ignore_index=True)\n",
    "X_train_e,X_test_e,y_train_e,y_test_e = train_test_split(X_e,y_e,train_size=0.80,test_size=0.20)\n",
    "print('X_train_e shape:',X_train_e.shape)\n",
    "print('y_train_e shape:',y_train_e.shape)\n",
    "print('X_test_e shape:',X_test_e.shape)\n",
    "print('y_test_e shape:',y_test_e.shape)"
   ]
  },
  {
   "cell_type": "code",
   "execution_count": 12,
   "metadata": {},
   "outputs": [
    {
     "name": "stdout",
     "output_type": "stream",
     "text": [
      "X_train_h shape: (6008, 396)\n",
      "y_train_h shape: (6008, 90)\n",
      "X_test_h shape: (1503, 396)\n",
      "y_test_h shape: (1503, 90)\n",
      "y_h shape: (7511, 90)\n"
     ]
    }
   ],
   "source": [
    "# Split note one_hot\n",
    "X_h = pd.concat([inp.iloc[i1,:],inp.iloc[rand_empty_idx,:]],axis=0,ignore_index=True)\n",
    "y_h = pd.concat([out_hot.iloc[i1,:],out_hot.iloc[rand_empty_idx,:]],axis=0,ignore_index=True)\n",
    "X_train_h,X_test_h,y_train_h,y_test_h = train_test_split(X_h,y_h,train_size=0.80,test_size=0.20)\n",
    "print('X_train_h shape:',X_train_h.shape)\n",
    "print('y_train_h shape:',y_train_h.shape)\n",
    "print('X_test_h shape:',X_test_h.shape)\n",
    "print('y_test_h shape:',y_test_h.shape)\n",
    "print('y_h shape:',y_h.shape)"
   ]
  },
  {
   "cell_type": "markdown",
   "metadata": {},
   "source": [
    "## Training"
   ]
  },
  {
   "cell_type": "code",
   "execution_count": 35,
   "metadata": {},
   "outputs": [
    {
     "name": "stdout",
     "output_type": "stream",
     "text": [
      "Epoch 1/50\n",
      "6008/6008 [==============================] - 1s 119us/step - loss: 4.3353 - acc: 0.0343\n",
      "Epoch 2/50\n",
      "6008/6008 [==============================] - 0s 77us/step - loss: 3.9254 - acc: 0.0877\n",
      "Epoch 3/50\n",
      "6008/6008 [==============================] - 0s 77us/step - loss: 3.4858 - acc: 0.1849\n",
      "Epoch 4/50\n",
      "6008/6008 [==============================] - 0s 73us/step - loss: 3.0472 - acc: 0.2831\n",
      "Epoch 5/50\n",
      "6008/6008 [==============================] - 0s 73us/step - loss: 2.6643 - acc: 0.3745\n",
      "Epoch 6/50\n",
      "6008/6008 [==============================] - 0s 72us/step - loss: 2.3485 - acc: 0.4368\n",
      "Epoch 7/50\n",
      "6008/6008 [==============================] - 0s 76us/step - loss: 2.0878 - acc: 0.5012\n",
      "Epoch 8/50\n",
      "6008/6008 [==============================] - 0s 72us/step - loss: 1.8763 - acc: 0.5343\n",
      "Epoch 9/50\n",
      "6008/6008 [==============================] - 1s 108us/step - loss: 1.7050 - acc: 0.5766\n",
      "Epoch 10/50\n",
      "6008/6008 [==============================] - 1s 111us/step - loss: 1.5607 - acc: 0.6039\n",
      "Epoch 11/50\n",
      "6008/6008 [==============================] - 1s 98us/step - loss: 1.4468 - acc: 0.6300\n",
      "Epoch 12/50\n",
      "6008/6008 [==============================] - 1s 105us/step - loss: 1.3461 - acc: 0.6505\n",
      "Epoch 13/50\n",
      "6008/6008 [==============================] - 0s 75us/step - loss: 1.2585 - acc: 0.6679\n",
      "Epoch 14/50\n",
      "6008/6008 [==============================] - 0s 77us/step - loss: 1.1806 - acc: 0.6808\n",
      "Epoch 15/50\n",
      "6008/6008 [==============================] - 0s 82us/step - loss: 1.1126 - acc: 0.6974\n",
      "Epoch 16/50\n",
      "6008/6008 [==============================] - 1s 84us/step - loss: 1.0546 - acc: 0.7067\n",
      "Epoch 17/50\n",
      "6008/6008 [==============================] - 0s 78us/step - loss: 1.0006 - acc: 0.7255\n",
      "Epoch 18/50\n",
      "6008/6008 [==============================] - 1s 91us/step - loss: 0.9531 - acc: 0.7362\n",
      "Epoch 19/50\n",
      "6008/6008 [==============================] - 0s 77us/step - loss: 0.9087 - acc: 0.7475\n",
      "Epoch 20/50\n",
      "6008/6008 [==============================] - 1s 86us/step - loss: 0.8696 - acc: 0.7585\n",
      "Epoch 21/50\n",
      "6008/6008 [==============================] - 0s 80us/step - loss: 0.8335 - acc: 0.7641\n",
      "Epoch 22/50\n",
      "6008/6008 [==============================] - 0s 77us/step - loss: 0.7979 - acc: 0.7733\n",
      "Epoch 23/50\n",
      "6008/6008 [==============================] - 1s 92us/step - loss: 0.7614 - acc: 0.7861\n",
      "Epoch 24/50\n",
      "6008/6008 [==============================] - 1s 90us/step - loss: 0.7333 - acc: 0.7934\n",
      "Epoch 25/50\n",
      "6008/6008 [==============================] - 0s 77us/step - loss: 0.7064 - acc: 0.8043\n",
      "Epoch 26/50\n",
      "6008/6008 [==============================] - 0s 81us/step - loss: 0.6844 - acc: 0.8068\n",
      "Epoch 27/50\n",
      "6008/6008 [==============================] - 0s 76us/step - loss: 0.6595 - acc: 0.8162\n",
      "Epoch 28/50\n",
      "6008/6008 [==============================] - 0s 82us/step - loss: 0.6360 - acc: 0.8241\n",
      "Epoch 29/50\n",
      "6008/6008 [==============================] - 0s 78us/step - loss: 0.6147 - acc: 0.8284\n",
      "Epoch 30/50\n",
      "6008/6008 [==============================] - 0s 81us/step - loss: 0.5997 - acc: 0.8301\n",
      "Epoch 31/50\n",
      "6008/6008 [==============================] - 0s 76us/step - loss: 0.5768 - acc: 0.8397\n",
      "Epoch 32/50\n",
      "6008/6008 [==============================] - 1s 85us/step - loss: 0.5604 - acc: 0.8407\n",
      "Epoch 33/50\n",
      "6008/6008 [==============================] - 0s 83us/step - loss: 0.5440 - acc: 0.8465\n",
      "Epoch 34/50\n",
      "6008/6008 [==============================] - 1s 88us/step - loss: 0.5298 - acc: 0.8542\n",
      "Epoch 35/50\n",
      "6008/6008 [==============================] - 1s 83us/step - loss: 0.5147 - acc: 0.8562\n",
      "Epoch 36/50\n",
      "6008/6008 [==============================] - 1s 88us/step - loss: 0.4996 - acc: 0.8605\n",
      "Epoch 37/50\n",
      "6008/6008 [==============================] - 1s 97us/step - loss: 0.4853 - acc: 0.8667\n",
      "Epoch 38/50\n",
      "6008/6008 [==============================] - 1s 90us/step - loss: 0.4750 - acc: 0.8677\n",
      "Epoch 39/50\n",
      "6008/6008 [==============================] - 0s 80us/step - loss: 0.4589 - acc: 0.8742\n",
      "Epoch 40/50\n",
      "6008/6008 [==============================] - 0s 78us/step - loss: 0.4505 - acc: 0.8747\n",
      "Epoch 41/50\n",
      "6008/6008 [==============================] - 0s 81us/step - loss: 0.4364 - acc: 0.8797\n",
      "Epoch 42/50\n",
      "6008/6008 [==============================] - 0s 82us/step - loss: 0.4262 - acc: 0.8827\n",
      "Epoch 43/50\n",
      "6008/6008 [==============================] - 0s 82us/step - loss: 0.4172 - acc: 0.8850\n",
      "Epoch 44/50\n",
      "6008/6008 [==============================] - 0s 79us/step - loss: 0.4070 - acc: 0.8868\n",
      "Epoch 45/50\n",
      "6008/6008 [==============================] - 1s 83us/step - loss: 0.3975 - acc: 0.8901\n",
      "Epoch 46/50\n",
      "6008/6008 [==============================] - 1s 96us/step - loss: 0.3867 - acc: 0.8928\n",
      "Epoch 47/50\n",
      "6008/6008 [==============================] - 0s 80us/step - loss: 0.3827 - acc: 0.8910\n",
      "Epoch 48/50\n",
      "6008/6008 [==============================] - 0s 81us/step - loss: 0.3751 - acc: 0.8983\n",
      "Epoch 49/50\n",
      "6008/6008 [==============================] - 0s 79us/step - loss: 0.3648 - acc: 0.8981\n",
      "Epoch 50/50\n",
      "6008/6008 [==============================] - 1s 85us/step - loss: 0.3590 - acc: 0.9001\n",
      "Done\n"
     ]
    }
   ],
   "source": [
    "# Single layer, no note info\n",
    "model_s_n = keras.Sequential()\n",
    "model_s_n.add(keras.layers.Dense(units=out.shape[1]-1, activation='relu',input_dim=X_n.shape[1]))\n",
    "model_s_n.add(keras.layers.Dense(units=out.shape[1]-1, activation='softmax'))\n",
    "model_s_n.compile(loss='categorical_crossentropy', optimizer='sgd',metrics=['accuracy'])\n",
    "model_s_n.fit(X_train_n,y_train_n,epochs=50, batch_size=32)\n",
    "print('Done')"
   ]
  },
  {
   "cell_type": "code",
   "execution_count": 14,
   "metadata": {},
   "outputs": [
    {
     "name": "stdout",
     "output_type": "stream",
     "text": [
      "Epoch 1/50\n",
      "6008/6008 [==============================] - 1s 115us/step - loss: 4.4043 - acc: 0.0458\n",
      "Epoch 2/50\n",
      "6008/6008 [==============================] - 0s 78us/step - loss: 3.9853 - acc: 0.1163\n",
      "Epoch 3/50\n",
      "6008/6008 [==============================] - 1s 87us/step - loss: 3.5466 - acc: 0.2091\n",
      "Epoch 4/50\n",
      "6008/6008 [==============================] - 0s 75us/step - loss: 3.1330 - acc: 0.2993\n",
      "Epoch 5/50\n",
      "6008/6008 [==============================] - 0s 55us/step - loss: 2.7590 - acc: 0.3813\n",
      "Epoch 6/50\n",
      "6008/6008 [==============================] - 1s 85us/step - loss: 2.4394 - acc: 0.4487\n",
      "Epoch 7/50\n",
      "6008/6008 [==============================] - 0s 70us/step - loss: 2.1751 - acc: 0.5098\n",
      "Epoch 8/50\n",
      "6008/6008 [==============================] - 0s 63us/step - loss: 1.9656 - acc: 0.5504\n",
      "Epoch 9/50\n",
      "6008/6008 [==============================] - 0s 67us/step - loss: 1.7845 - acc: 0.5952\n",
      "Epoch 10/50\n",
      "6008/6008 [==============================] - 0s 64us/step - loss: 1.6417 - acc: 0.6200\n",
      "Epoch 11/50\n",
      "6008/6008 [==============================] - 0s 68us/step - loss: 1.5286 - acc: 0.6433\n",
      "Epoch 12/50\n",
      "6008/6008 [==============================] - 1s 96us/step - loss: 1.4198 - acc: 0.6625\n",
      "Epoch 13/50\n",
      "6008/6008 [==============================] - 1s 94us/step - loss: 1.3380 - acc: 0.6882\n",
      "Epoch 14/50\n",
      "6008/6008 [==============================] - 1s 90us/step - loss: 1.2603 - acc: 0.6992\n",
      "Epoch 15/50\n",
      "6008/6008 [==============================] - 1s 96us/step - loss: 1.1934 - acc: 0.7180\n",
      "Epoch 16/50\n",
      "6008/6008 [==============================] - 1s 84us/step - loss: 1.1291 - acc: 0.7305\n",
      "Epoch 17/50\n",
      "6008/6008 [==============================] - 0s 64us/step - loss: 1.0818 - acc: 0.7365\n",
      "Epoch 18/50\n",
      "6008/6008 [==============================] - 0s 64us/step - loss: 1.0233 - acc: 0.7605\n",
      "Epoch 19/50\n",
      "6008/6008 [==============================] - 0s 75us/step - loss: 0.9837 - acc: 0.7671\n",
      "Epoch 20/50\n",
      "6008/6008 [==============================] - 1s 109us/step - loss: 0.9394 - acc: 0.7736\n",
      "Epoch 21/50\n",
      "6008/6008 [==============================] - 1s 108us/step - loss: 0.9051 - acc: 0.7865\n",
      "Epoch 22/50\n",
      "6008/6008 [==============================] - 1s 86us/step - loss: 0.8675 - acc: 0.7944\n",
      "Epoch 23/50\n",
      "6008/6008 [==============================] - 1s 84us/step - loss: 0.8301 - acc: 0.8074\n",
      "Epoch 24/50\n",
      "6008/6008 [==============================] - 0s 57us/step - loss: 0.8014 - acc: 0.8118\n",
      "Epoch 25/50\n",
      "6008/6008 [==============================] - 0s 56us/step - loss: 0.7733 - acc: 0.8201\n",
      "Epoch 26/50\n",
      "6008/6008 [==============================] - 0s 61us/step - loss: 0.7434 - acc: 0.8287\n",
      "Epoch 27/50\n",
      "6008/6008 [==============================] - 0s 76us/step - loss: 0.7149 - acc: 0.8357\n",
      "Epoch 28/50\n",
      "6008/6008 [==============================] - 1s 116us/step - loss: 0.6953 - acc: 0.8419\n",
      "Epoch 29/50\n",
      "6008/6008 [==============================] - 1s 97us/step - loss: 0.6698 - acc: 0.8495\n",
      "Epoch 30/50\n",
      "6008/6008 [==============================] - 0s 68us/step - loss: 0.6506 - acc: 0.8527\n",
      "Epoch 31/50\n",
      "6008/6008 [==============================] - 0s 68us/step - loss: 0.6293 - acc: 0.8580\n",
      "Epoch 32/50\n",
      "6008/6008 [==============================] - 0s 57us/step - loss: 0.6118 - acc: 0.8624\n",
      "Epoch 33/50\n",
      "6008/6008 [==============================] - 0s 65us/step - loss: 0.5943 - acc: 0.8693\n",
      "Epoch 34/50\n",
      "6008/6008 [==============================] - 0s 58us/step - loss: 0.5710 - acc: 0.8777\n",
      "Epoch 35/50\n",
      "6008/6008 [==============================] - 0s 62us/step - loss: 0.5559 - acc: 0.8802\n",
      "Epoch 36/50\n",
      "6008/6008 [==============================] - 1s 110us/step - loss: 0.5414 - acc: 0.8813\n",
      "Epoch 37/50\n",
      "6008/6008 [==============================] - 1s 96us/step - loss: 0.5306 - acc: 0.8840\n",
      "Epoch 38/50\n",
      "6008/6008 [==============================] - 0s 60us/step - loss: 0.5180 - acc: 0.8868\n",
      "Epoch 39/50\n",
      "6008/6008 [==============================] - 0s 60us/step - loss: 0.5007 - acc: 0.8953\n",
      "Epoch 40/50\n",
      "6008/6008 [==============================] - 0s 58us/step - loss: 0.4939 - acc: 0.8950\n",
      "Epoch 41/50\n",
      "6008/6008 [==============================] - 0s 68us/step - loss: 0.4785 - acc: 0.8956\n",
      "Epoch 42/50\n",
      "6008/6008 [==============================] - 0s 82us/step - loss: 0.4708 - acc: 0.8983\n",
      "Epoch 43/50\n",
      "6008/6008 [==============================] - 1s 111us/step - loss: 0.4567 - acc: 0.9046\n",
      "Epoch 44/50\n",
      "6008/6008 [==============================] - 1s 106us/step - loss: 0.4495 - acc: 0.9051\n",
      "Epoch 45/50\n",
      "6008/6008 [==============================] - 1s 97us/step - loss: 0.4347 - acc: 0.9086\n",
      "Epoch 46/50\n",
      "6008/6008 [==============================] - 1s 95us/step - loss: 0.4255 - acc: 0.9071\n",
      "Epoch 47/50\n",
      "6008/6008 [==============================] - 0s 65us/step - loss: 0.4194 - acc: 0.9116\n",
      "Epoch 48/50\n",
      "6008/6008 [==============================] - 0s 65us/step - loss: 0.4132 - acc: 0.9106\n",
      "Epoch 49/50\n",
      "6008/6008 [==============================] - 1s 88us/step - loss: 0.4021 - acc: 0.9148\n",
      "Epoch 50/50\n",
      "6008/6008 [==============================] - 0s 70us/step - loss: 0.3908 - acc: 0.9161\n",
      "Done\n"
     ]
    }
   ],
   "source": [
    "# Single layer, with empty\n",
    "model_s_e = keras.Sequential()\n",
    "model_s_e.add(keras.layers.Dense(units=out.shape[1], activation='relu',input_dim=X_e.shape[1]))\n",
    "model_s_e.add(keras.layers.Dense(units=out.shape[1], activation='softmax'))\n",
    "model_s_e.compile(loss='categorical_crossentropy', optimizer='sgd',metrics=['accuracy'])\n",
    "model_s_e.fit(X_train_e,y_train_e,epochs=50, batch_size=32)\n",
    "print('Done')"
   ]
  },
  {
   "cell_type": "code",
   "execution_count": 15,
   "metadata": {},
   "outputs": [
    {
     "name": "stdout",
     "output_type": "stream",
     "text": [
      "Epoch 1/50\n",
      "6008/6008 [==============================] - 1s 114us/step - loss: 6.2648 - acc: 1.6644e-04\n",
      "Epoch 2/50\n",
      "6008/6008 [==============================] - 0s 82us/step - loss: 5.6306 - acc: 0.0000e+00\n",
      "Epoch 3/50\n",
      "6008/6008 [==============================] - 0s 72us/step - loss: 5.1904 - acc: 8.3222e-04\n",
      "Epoch 4/50\n",
      "6008/6008 [==============================] - 0s 72us/step - loss: 4.7703 - acc: 0.0095\n",
      "Epoch 5/50\n",
      "6008/6008 [==============================] - 0s 71us/step - loss: 4.4019 - acc: 0.0306\n",
      "Epoch 6/50\n",
      "6008/6008 [==============================] - 0s 72us/step - loss: 4.0908 - acc: 0.0573\n",
      "Epoch 7/50\n",
      "6008/6008 [==============================] - 0s 74us/step - loss: 3.8501 - acc: 0.0826\n",
      "Epoch 8/50\n",
      "6008/6008 [==============================] - 0s 67us/step - loss: 3.6205 - acc: 0.1015\n",
      "Epoch 9/50\n",
      "6008/6008 [==============================] - 0s 72us/step - loss: 3.4532 - acc: 0.1295\n",
      "Epoch 10/50\n",
      "6008/6008 [==============================] - 0s 72us/step - loss: 3.3069 - acc: 0.1375\n",
      "Epoch 11/50\n",
      "6008/6008 [==============================] - 0s 74us/step - loss: 3.1801 - acc: 0.1545\n",
      "Epoch 12/50\n",
      "6008/6008 [==============================] - 0s 80us/step - loss: 3.0738 - acc: 0.1636\n",
      "Epoch 13/50\n",
      "6008/6008 [==============================] - 0s 72us/step - loss: 2.9757 - acc: 0.1804\n",
      "Epoch 14/50\n",
      "6008/6008 [==============================] - 0s 73us/step - loss: 2.8919 - acc: 0.1926\n",
      "Epoch 15/50\n",
      "6008/6008 [==============================] - 0s 69us/step - loss: 2.8283 - acc: 0.2057\n",
      "Epoch 16/50\n",
      "6008/6008 [==============================] - 0s 73us/step - loss: 2.7578 - acc: 0.2089\n",
      "Epoch 17/50\n",
      "6008/6008 [==============================] - 0s 75us/step - loss: 2.7102 - acc: 0.2214\n",
      "Epoch 18/50\n",
      "6008/6008 [==============================] - 0s 76us/step - loss: 2.6484 - acc: 0.2250\n",
      "Epoch 19/50\n",
      "6008/6008 [==============================] - 1s 86us/step - loss: 2.5998 - acc: 0.2292\n",
      "Epoch 20/50\n",
      "6008/6008 [==============================] - 1s 86us/step - loss: 2.5508 - acc: 0.2417\n",
      "Epoch 21/50\n",
      "6008/6008 [==============================] - 1s 84us/step - loss: 2.5242 - acc: 0.2565\n",
      "Epoch 22/50\n",
      "6008/6008 [==============================] - 1s 93us/step - loss: 2.4764 - acc: 0.2518\n",
      "Epoch 23/50\n",
      "6008/6008 [==============================] - 0s 79us/step - loss: 2.4403 - acc: 0.2681\n",
      "Epoch 24/50\n",
      "6008/6008 [==============================] - 0s 74us/step - loss: 2.4059 - acc: 0.2661\n",
      "Epoch 25/50\n",
      "6008/6008 [==============================] - 0s 75us/step - loss: 2.3827 - acc: 0.2768\n",
      "Epoch 26/50\n",
      "6008/6008 [==============================] - 0s 72us/step - loss: 2.3533 - acc: 0.2795\n",
      "Epoch 27/50\n",
      "6008/6008 [==============================] - 0s 72us/step - loss: 2.3237 - acc: 0.2826\n",
      "Epoch 28/50\n",
      "6008/6008 [==============================] - 0s 73us/step - loss: 2.2970 - acc: 0.2881\n",
      "Epoch 29/50\n",
      "6008/6008 [==============================] - 0s 81us/step - loss: 2.2754 - acc: 0.2901\n",
      "Epoch 30/50\n",
      "6008/6008 [==============================] - 0s 74us/step - loss: 2.2570 - acc: 0.3009\n",
      "Epoch 31/50\n",
      "6008/6008 [==============================] - 0s 75us/step - loss: 2.2355 - acc: 0.2951\n",
      "Epoch 32/50\n",
      "6008/6008 [==============================] - 0s 76us/step - loss: 2.2168 - acc: 0.3101\n",
      "Epoch 33/50\n",
      "6008/6008 [==============================] - 0s 74us/step - loss: 2.2018 - acc: 0.3103\n",
      "Epoch 34/50\n",
      "6008/6008 [==============================] - 0s 75us/step - loss: 2.1820 - acc: 0.3118\n",
      "Epoch 35/50\n",
      "6008/6008 [==============================] - 0s 76us/step - loss: 2.1588 - acc: 0.3169\n",
      "Epoch 36/50\n",
      "6008/6008 [==============================] - 0s 75us/step - loss: 2.1464 - acc: 0.3216\n",
      "Epoch 37/50\n",
      "6008/6008 [==============================] - 0s 75us/step - loss: 2.1271 - acc: 0.3214\n",
      "Epoch 38/50\n",
      "6008/6008 [==============================] - 0s 75us/step - loss: 2.1220 - acc: 0.3254\n",
      "Epoch 39/50\n",
      "6008/6008 [==============================] - 0s 74us/step - loss: 2.1003 - acc: 0.3319\n",
      "Epoch 40/50\n",
      "6008/6008 [==============================] - 0s 76us/step - loss: 2.0944 - acc: 0.3332\n",
      "Epoch 41/50\n",
      "6008/6008 [==============================] - 0s 75us/step - loss: 2.0785 - acc: 0.3309\n",
      "Epoch 42/50\n",
      "6008/6008 [==============================] - 0s 76us/step - loss: 2.0609 - acc: 0.3371\n",
      "Epoch 43/50\n",
      "6008/6008 [==============================] - 0s 73us/step - loss: 2.0493 - acc: 0.3437\n",
      "Epoch 44/50\n",
      "6008/6008 [==============================] - 0s 75us/step - loss: 2.0333 - acc: 0.3400\n",
      "Epoch 45/50\n",
      "6008/6008 [==============================] - 1s 85us/step - loss: 2.0273 - acc: 0.3472\n",
      "Epoch 46/50\n",
      "6008/6008 [==============================] - 0s 78us/step - loss: 2.0188 - acc: 0.3454\n",
      "Epoch 47/50\n",
      "6008/6008 [==============================] - 1s 84us/step - loss: 2.0068 - acc: 0.3517\n",
      "Epoch 48/50\n",
      "6008/6008 [==============================] - 1s 85us/step - loss: 1.9949 - acc: 0.3592\n",
      "Epoch 49/50\n",
      "6008/6008 [==============================] - 1s 103us/step - loss: 1.9867 - acc: 0.3525\n",
      "Epoch 50/50\n",
      "6008/6008 [==============================] - 0s 74us/step - loss: 1.9746 - acc: 0.3592\n"
     ]
    },
    {
     "data": {
      "text/plain": [
       "<tensorflow.python.keras.callbacks.History at 0x7f62db8bd2e8>"
      ]
     },
     "execution_count": 15,
     "metadata": {},
     "output_type": "execute_result"
    }
   ],
   "source": [
    "# Single layer, one hot encoding for notes\n",
    "model_s_h = keras.Sequential()\n",
    "model_s_h.add(keras.layers.Dense(units=y_h.shape[1], activation='relu',input_dim=X_h.shape[1]))\n",
    "model_s_h.add(keras.layers.Dense(units=y_h.shape[1], activation='softmax'))\n",
    "model_s_h.compile(loss='categorical_crossentropy', optimizer='sgd',metrics=['accuracy'])\n",
    "model_s_h.fit(X_train_h,y_train_h,epochs=50, batch_size=32)"
   ]
  },
  {
   "cell_type": "code",
   "execution_count": 36,
   "metadata": {},
   "outputs": [],
   "source": [
    "y_pred_n = model_s_n.predict(X_test_n,batch_size=32)\n",
    "y_pred_e = model_s_e.predict(X_test_e,batch_size=32)\n",
    "y_pred_h = model_s_h.predict(X_test_h,batch_size=32)\n",
    "threshold = 0.4"
   ]
  },
  {
   "cell_type": "markdown",
   "metadata": {},
   "source": [
    "## Method 1"
   ]
  },
  {
   "cell_type": "code",
   "execution_count": 42,
   "metadata": {},
   "outputs": [
    {
     "data": {
      "image/png": "[encoded data removed]",
      "text/plain": [
       "<Figure size 432x288 with 1 Axes>"
      ]
     },
     "metadata": {
      "needs_background": "light"
     },
     "output_type": "display_data"
    },
    {
     "name": "stdout",
     "output_type": "stream",
     "text": [
      "Predicted: 53\n",
      "Actual: 53\n"
     ]
    },
    {
     "data": {
      "image/png": "[encoded data removed]",
      "text/plain": [
       "<Figure size 432x288 with 1 Axes>"
      ]
     },
     "metadata": {
      "needs_background": "light"
     },
     "output_type": "display_data"
    },
    {
     "name": "stdout",
     "output_type": "stream",
     "text": [
      "Predicted: 75\n",
      "Actual: 75\n"
     ]
    },
    {
     "data": {
      "image/png": "[encoded data removed]",
      "text/plain": [
       "<Figure size 432x288 with 1 Axes>"
      ]
     },
     "metadata": {
      "needs_background": "light"
     },
     "output_type": "display_data"
    },
    {
     "name": "stdout",
     "output_type": "stream",
     "text": [
      "Predicted: 18\n",
      "Actual: 18\n"
     ]
    },
    {
     "data": {
      "image/png": "[encoded data removed]",
      "text/plain": [
       "<Figure size 432x288 with 1 Axes>"
      ]
     },
     "metadata": {
      "needs_background": "light"
     },
     "output_type": "display_data"
    },
    {
     "name": "stdout",
     "output_type": "stream",
     "text": [
      "Predicted: 50\n",
      "Actual: 50\n"
     ]
    },
    {
     "data": {
      "image/png": "[encoded data removed]",
      "text/plain": [
       "<Figure size 432x288 with 1 Axes>"
      ]
     },
     "metadata": {
      "needs_background": "light"
     },
     "output_type": "display_data"
    },
    {
     "name": "stdout",
     "output_type": "stream",
     "text": [
      "Predicted: 87\n",
      "Actual: 0\n"
     ]
    }
   ],
   "source": [
    "for i in range(5):\n",
    "    plt.plot(y_pred_n[i])\n",
    "    x1=np.argmax(y_test_n.iloc[i,:])\n",
    "    y1=1\n",
    "    plt.scatter(x=x1,y=y1,c='orange')\n",
    "    \n",
    "    plt.show()\n",
    "    \n",
    "    print('Predicted:',np.argmax(y_pred_n[i,:]))\n",
    "    print('Actual:',np.argmax(y_test_n.iloc[i,:]))"
   ]
  },
  {
   "cell_type": "code",
   "execution_count": 38,
   "metadata": {},
   "outputs": [],
   "source": [
    "threshold_pred_n = y_pred_n.copy()\n",
    "threshold_pred_n[threshold_pred_n<threshold]=0\n",
    "threshold_pred_n[threshold_pred_n>=threshold]=1"
   ]
  },
  {
   "cell_type": "code",
   "execution_count": 64,
   "metadata": {},
   "outputs": [
    {
     "name": "stdout",
     "output_type": "stream",
     "text": [
      "General accuracy: 0.7711244178310046\n"
     ]
    }
   ],
   "source": [
    "j=0\n",
    "for i in range(y_pred_n.shape[0]):\n",
    "    a=y_test_n.iloc[i,:].get_values()\n",
    "    if (np.array_equal(a,threshold_pred_n[i,:])):\n",
    "        j=j+1\n",
    "print('General accuracy:',j/y_test_n.shape[0])"
   ]
  },
  {
   "cell_type": "code",
   "execution_count": 43,
   "metadata": {},
   "outputs": [
    {
     "name": "stdout",
     "output_type": "stream",
     "text": [
      "Acc empty: 0.7884615384615384\n"
     ]
    }
   ],
   "source": [
    "j=0\n",
    "k=0\n",
    "for i in range(y_pred_n.shape[0]):\n",
    "    a=y_test_n.iloc[i,:].get_values()\n",
    "    if (np.array_equal(a,np.zeros(y_test_n.shape[1]))):\n",
    "        k=k+1\n",
    "        if (np.array_equal(a,threshold_pred_n[i,:])):\n",
    "            j=j+1\n",
    "\n",
    "acc_empty_n=j/k\n",
    "print('Acc empty:',acc_empty_n)"
   ]
  },
  {
   "cell_type": "code",
   "execution_count": 46,
   "metadata": {},
   "outputs": [
    {
     "name": "stdout",
     "output_type": "stream",
     "text": [
      "Acc non empty: 0.7705031013094418\n"
     ]
    }
   ],
   "source": [
    "j=0\n",
    "k=0\n",
    "for i in range(y_pred_n.shape[0]):\n",
    "    a=y_test_n.iloc[i,:].get_values()\n",
    "    if (not np.array_equal(a,np.zeros(y_test_n.shape[1]))):\n",
    "        k=k+1\n",
    "        if (np.array_equal(a,threshold_pred_n[i,:])):\n",
    "            j=j+1\n",
    "        \n",
    "acc_notes_n=j/k\n",
    "print('Acc non empty:',acc_notes_n)"
   ]
  },
  {
   "cell_type": "markdown",
   "metadata": {},
   "source": [
    "## Method 2"
   ]
  },
  {
   "cell_type": "code",
   "execution_count": 128,
   "metadata": {},
   "outputs": [
    {
     "name": "stdout",
     "output_type": "stream",
     "text": [
      "Predicted: 14\n",
      "Actual: 88\n"
     ]
    },
    {
     "name": "stderr",
     "output_type": "stream",
     "text": [
      "/afs/inf.ed.ac.uk/user/s17/s1709221/miniconda3/envs/py3amt/lib/python3.6/site-packages/numpy/core/fromnumeric.py:51: FutureWarning: 'argmax' is deprecated, use 'idxmax' instead. The behavior of 'argmax'\n",
      "will be corrected to return the positional maximum in the future.\n",
      "Use 'series.values.argmax' to get the position of the maximum now.\n",
      "  return getattr(obj, method)(*args, **kwds)\n"
     ]
    },
    {
     "data": {
      "image/png": "[encoded data removed]",
      "text/plain": [
       "<Figure size 432x288 with 1 Axes>"
      ]
     },
     "metadata": {
      "needs_background": "light"
     },
     "output_type": "display_data"
    },
    {
     "name": "stdout",
     "output_type": "stream",
     "text": [
      "Predicted: 59\n",
      "Actual: 59\n"
     ]
    },
    {
     "data": {
      "image/png": "[encoded data removed]",
      "text/plain": [
       "<Figure size 432x288 with 1 Axes>"
      ]
     },
     "metadata": {
      "needs_background": "light"
     },
     "output_type": "display_data"
    },
    {
     "name": "stdout",
     "output_type": "stream",
     "text": [
      "Predicted: 49\n",
      "Actual: 49\n"
     ]
    },
    {
     "data": {
      "image/png": "[encoded data removed]",
      "text/plain": [
       "<Figure size 432x288 with 1 Axes>"
      ]
     },
     "metadata": {
      "needs_background": "light"
     },
     "output_type": "display_data"
    },
    {
     "name": "stdout",
     "output_type": "stream",
     "text": [
      "Predicted: 38\n",
      "Actual: 39\n"
     ]
    },
    {
     "data": {
      "image/png": "[encoded data removed]",
      "text/plain": [
       "<Figure size 432x288 with 1 Axes>"
      ]
     },
     "metadata": {
      "needs_background": "light"
     },
     "output_type": "display_data"
    },
    {
     "name": "stdout",
     "output_type": "stream",
     "text": [
      "Predicted: 86\n",
      "Actual: 88\n"
     ]
    },
    {
     "data": {
      "image/png": "[encoded data removed]",
      "text/plain": [
       "<Figure size 432x288 with 1 Axes>"
      ]
     },
     "metadata": {
      "needs_background": "light"
     },
     "output_type": "display_data"
    }
   ],
   "source": [
    "for i in range(5):\n",
    "    plt.plot(y_pred_e[i])\n",
    "    x1=np.argmax(y_test_e.iloc[i,:])\n",
    "    y1=1\n",
    "    plt.scatter(x=x1,y=y1,c='orange')\n",
    "    print('Predicted:',np.argmax(y_pred_e[i,:]))\n",
    "    print('Actual:',np.argmax(y_test_e.iloc[i,:]))\n",
    "    plt.show()"
   ]
  },
  {
   "cell_type": "code",
   "execution_count": 89,
   "metadata": {},
   "outputs": [
    {
     "data": {
      "text/plain": [
       "array([[0., 0., 0., ..., 0., 0., 0.],\n",
       "       [0., 0., 0., ..., 0., 0., 0.],\n",
       "       [0., 0., 0., ..., 0., 0., 0.],\n",
       "       ...,\n",
       "       [0., 0., 0., ..., 0., 0., 0.],\n",
       "       [0., 0., 0., ..., 0., 0., 0.],\n",
       "       [1., 0., 0., ..., 0., 0., 0.]], dtype=float32)"
      ]
     },
     "execution_count": 89,
     "metadata": {},
     "output_type": "execute_result"
    }
   ],
   "source": [
    "a = y_pred_e.copy()\n",
    "threshold_pred_e = np.zeros_like(a)\n",
    "threshold_pred_e[np.arange(len(a)),a.argmax(1)]=1\n",
    "threshold_pred_e"
   ]
  },
  {
   "cell_type": "code",
   "execution_count": 90,
   "metadata": {},
   "outputs": [
    {
     "name": "stdout",
     "output_type": "stream",
     "text": [
      "General accuracy: 0.8196939454424484\n"
     ]
    }
   ],
   "source": [
    "j=0\n",
    "for i in range(y_pred_e.shape[0]):\n",
    "    a=y_test_e.iloc[i,:].get_values()\n",
    "    if (np.array_equal(a,threshold_pred_e[i,:])):\n",
    "        j=j+1\n",
    "print('General accuracy:',j/y_test_e.shape[0])"
   ]
  },
  {
   "cell_type": "code",
   "execution_count": 100,
   "metadata": {},
   "outputs": [
    {
     "name": "stdout",
     "output_type": "stream",
     "text": [
      "22\n",
      "40\n",
      "Acc empty: 0.55\n"
     ]
    }
   ],
   "source": [
    "j=0\n",
    "k=0\n",
    "for i in range(y_pred_e.shape[0]):\n",
    "    a=y_test_e.iloc[i,:].get_values()\n",
    "    if (a[a.shape[0]-1]==1):\n",
    "        k=k+1\n",
    "        if (np.array_equal(a,threshold_pred_e[i,:])):\n",
    "            j=j+1\n",
    "\n",
    "acc_empty_e=j/k\n",
    "print(j)\n",
    "print(k)\n",
    "print('Acc empty:',acc_empty_e)"
   ]
  },
  {
   "cell_type": "code",
   "execution_count": 106,
   "metadata": {},
   "outputs": [
    {
     "name": "stdout",
     "output_type": "stream",
     "text": [
      "1210\n",
      "1463\n",
      "Acc non empty: 0.8270676691729323\n"
     ]
    }
   ],
   "source": [
    "j=0\n",
    "k=0\n",
    "for i in range(y_pred_e.shape[0]):\n",
    "    a=y_test_e.iloc[i,:].get_values()\n",
    "    if (a[a.shape[0]-1]==0):\n",
    "        k=k+1\n",
    "        if (np.array_equal(a,threshold_pred_e[i,:])):\n",
    "            j=j+1\n",
    "        \n",
    "acc_notes_e=j/k\n",
    "print(j)\n",
    "print(k)\n",
    "print('Acc non empty:',acc_notes_e)"
   ]
  },
  {
   "cell_type": "markdown",
   "metadata": {},
   "source": [
    "## Method 3"
   ]
  },
  {
   "cell_type": "code",
   "execution_count": 143,
   "metadata": {},
   "outputs": [
    {
     "data": {
      "image/png": "[encoded data removed]",
      "text/plain": [
       "<Figure size 432x288 with 1 Axes>"
      ]
     },
     "metadata": {
      "needs_background": "light"
     },
     "output_type": "display_data"
    },
    {
     "name": "stdout",
     "output_type": "stream",
     "text": [
      "Predicted: 28\n",
      "Actual: 28\n"
     ]
    },
    {
     "data": {
      "image/png": "[encoded data removed]",
      "text/plain": [
       "<Figure size 432x288 with 1 Axes>"
      ]
     },
     "metadata": {
      "needs_background": "light"
     },
     "output_type": "display_data"
    },
    {
     "name": "stdout",
     "output_type": "stream",
     "text": [
      "Predicted: 83\n",
      "Actual: 83\n"
     ]
    },
    {
     "data": {
      "image/png": "[encoded data removed]",
      "text/plain": [
       "<Figure size 432x288 with 1 Axes>"
      ]
     },
     "metadata": {
      "needs_background": "light"
     },
     "output_type": "display_data"
    },
    {
     "name": "stdout",
     "output_type": "stream",
     "text": [
      "Predicted: 1\n",
      "Actual: 1\n"
     ]
    },
    {
     "data": {
      "image/png": "[encoded data removed]",
      "text/plain": [
       "<Figure size 432x288 with 1 Axes>"
      ]
     },
     "metadata": {
      "needs_background": "light"
     },
     "output_type": "display_data"
    },
    {
     "name": "stdout",
     "output_type": "stream",
     "text": [
      "Predicted: 30\n",
      "Actual: 30\n"
     ]
    },
    {
     "data": {
      "image/png": "[encoded data removed]",
      "text/plain": [
       "<Figure size 432x288 with 1 Axes>"
      ]
     },
     "metadata": {
      "needs_background": "light"
     },
     "output_type": "display_data"
    },
    {
     "name": "stdout",
     "output_type": "stream",
     "text": [
      "Predicted: 60\n",
      "Actual: 82\n"
     ]
    }
   ],
   "source": [
    "for i in range(5):\n",
    "    if (y_pred_h[i,88]<y_pred_h[i,89]):\n",
    "        plt.plot(y_pred_h[i,0:88])\n",
    "        plt.plot(y_test_h.iloc[i,0:88])\n",
    "        plt.show()\n",
    "        print('Predicted:',np.argmax(y_pred_h[i,0:88]))\n",
    "        print('Actual:',np.argmax(y_test_h.iloc[i,0:88]))\n",
    "    \n",
    "    else:\n",
    "        plt.plot(y_pred_h[i,0:88])\n",
    "        plt.plot(y_test_h.iloc[i,0:88])\n",
    "        plt.show()\n",
    "        print('Predicted: 88',)\n",
    "        print('Actual:',np.argmax(y_test_h.iloc[i,:]))"
   ]
  },
  {
   "cell_type": "code",
   "execution_count": 146,
   "metadata": {},
   "outputs": [
    {
     "data": {
      "text/plain": [
       "array([0., 0., 0., 0., 0., 0., 0., 0., 0., 0., 0., 0., 0., 0., 0., 0., 0.,\n",
       "       0., 0., 0., 0., 0., 0., 0., 0., 0., 0., 0., 1., 0., 0., 0., 0., 0.,\n",
       "       0., 0., 0., 0., 0., 0., 0., 0., 0., 0., 0., 0., 0., 0., 0., 0., 0.,\n",
       "       0., 0., 0., 0., 0., 0., 0., 0., 0., 0., 0., 0., 0., 0., 0., 0., 0.,\n",
       "       0., 0., 0., 0., 0., 0., 0., 0., 0., 0., 0., 0., 0., 0., 0., 0., 0.,\n",
       "       0., 0., 0.], dtype=float32)"
      ]
     },
     "execution_count": 146,
     "metadata": {},
     "output_type": "execute_result"
    }
   ],
   "source": [
    "a=threshold_pred_h[0].copy()\n",
    "max_val = np.max(a)\n",
    "a[np.where(a==np.max(a))] = 1\n",
    "a[np.where(a!=1)] = 0\n",
    "a"
   ]
  },
  {
   "cell_type": "code",
   "execution_count": 147,
   "metadata": {},
   "outputs": [
    {
     "data": {
      "text/plain": [
       "array([[0., 0., 0., ..., 0., 0., 0.],\n",
       "       [0., 0., 0., ..., 0., 0., 0.],\n",
       "       [0., 1., 0., ..., 0., 0., 0.],\n",
       "       ...,\n",
       "       [0., 0., 0., ..., 0., 0., 0.],\n",
       "       [0., 0., 0., ..., 0., 0., 0.],\n",
       "       [0., 0., 0., ..., 0., 0., 0.]], dtype=float32)"
      ]
     },
     "execution_count": 147,
     "metadata": {},
     "output_type": "execute_result"
    }
   ],
   "source": [
    "num_pred = y_pred_h.copy()\n",
    "threshold_pred_h = y_pred_h.copy()[:,0:88]\n",
    "num_pred = num_pred[:,88:num_pred.shape[1]]\n",
    "\n",
    "num_pred_bin = np.zeros_like(num_pred)\n",
    "num_pred_bin[np.arange(len(num_pred)),num_pred.argmax(1)]=1\n",
    "\n",
    "for i in range(y_test_h.shape[0]):\n",
    "    if (num_pred_bin[i,0]==1):\n",
    "        threshold_pred_h[i,:] = np.zeros(88)\n",
    "    else:\n",
    "        a=threshold_pred_h[i].copy()\n",
    "        max_val = np.max(a)\n",
    "        a[np.where(a==np.max(a))] = 1\n",
    "        a[np.where(a!=1)] = 0\n",
    "        threshold_pred_h[i,:]=a\n",
    "        \n",
    "        \n",
    "threshold_pred_h"
   ]
  },
  {
   "cell_type": "code",
   "execution_count": 157,
   "metadata": {},
   "outputs": [
    {
     "name": "stdout",
     "output_type": "stream",
     "text": [
      "General accuracy: 0.8110445775116434\n"
     ]
    }
   ],
   "source": [
    "j=0\n",
    "for i in range(y_pred_h.shape[0]):\n",
    "    a=y_test_h.iloc[i,0:88].get_values()\n",
    "    if (np.array_equal(a,threshold_pred_h[i,:])):\n",
    "        j=j+1\n",
    "print('General accuracy:',j/y_test_h.shape[0])"
   ]
  },
  {
   "cell_type": "code",
   "execution_count": 153,
   "metadata": {},
   "outputs": [
    {
     "name": "stdout",
     "output_type": "stream",
     "text": [
      "47\n",
      "11\n",
      "Acc empty: 0.23404255319148937\n"
     ]
    }
   ],
   "source": [
    "j=0\n",
    "k=0\n",
    "for i in range(y_pred_h.shape[0]):\n",
    "    a=y_test_h.iloc[i,0:88].get_values()\n",
    "    if (np.array_equal(a,np.zeros(88))):\n",
    "        k=k+1\n",
    "        if (np.array_equal(a,threshold_pred_h[i,:])):\n",
    "            j=j+1\n",
    "print(k)\n",
    "print(j)\n",
    "acc_empty_h=j/k\n",
    "print('Acc empty:',acc_empty_h)"
   ]
  },
  {
   "cell_type": "code",
   "execution_count": 156,
   "metadata": {},
   "outputs": [
    {
     "name": "stdout",
     "output_type": "stream",
     "text": [
      "Acc non empty: 0.8296703296703297\n"
     ]
    }
   ],
   "source": [
    "j=0\n",
    "k=0\n",
    "for i in range(y_pred_h.shape[0]):\n",
    "    a=y_test_h.iloc[i,0:88].get_values()\n",
    "    if (not np.array_equal(a,np.zeros(88))):\n",
    "        k=k+1\n",
    "        if (np.array_equal(a,threshold_pred_h[i,:])):\n",
    "            j=j+1\n",
    "        \n",
    "acc_notes_h=j/k\n",
    "print('Acc non empty:',acc_notes_h)"
   ]
  },
  {
   "cell_type": "code",
   "execution_count": null,
   "metadata": {},
   "outputs": [],
   "source": []
  }
 ],
 "metadata": {
  "kernelspec": {
   "display_name": "Python 3",
   "language": "python",
   "name": "python3"
  },
  "language_info": {
   "codemirror_mode": {
    "name": "ipython",
    "version": 3
   },
   "file_extension": ".py",
   "mimetype": "text/x-python",
   "name": "python",
   "nbconvert_exporter": "python",
   "pygments_lexer": "ipython3",
   "version": "3.6.6"
  }
 },
 "nbformat": 4,
 "nbformat_minor": 2
}
