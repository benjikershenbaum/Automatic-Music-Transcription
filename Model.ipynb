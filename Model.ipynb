{
 "cells": [
  {
   "cell_type": "markdown",
   "metadata": {},
   "source": [
    "## Imports"
   ]
  },
  {
   "cell_type": "code",
   "execution_count": 13,
   "metadata": {},
   "outputs": [],
   "source": [
    "import os\n",
    "import tensorflow as tf\n",
    "import numpy as np\n",
    "import pandas as pd\n",
    "from tensorflow import keras"
   ]
  },
  {
   "cell_type": "markdown",
   "metadata": {},
   "source": [
    "## Load Data"
   ]
  },
  {
   "cell_type": "code",
   "execution_count": 14,
   "metadata": {},
   "outputs": [],
   "source": [
    "in_file_path= os.path.join(os.getcwd(), 'Data//Processed', 'input.txt')\n",
    "out_file_path= os.path.join(os.getcwd(), 'Data//Processed', 'output.txt')\n",
    "\n",
    "inp = pd.read_csv(in_file_path,sep=\",\",header=None)\n",
    "out = pd.read_csv(out_file_path,sep=\",\",header=None)\n",
    "\n",
    "out_save = out.copy()"
   ]
  },
  {
   "cell_type": "code",
   "execution_count": 15,
   "metadata": {},
   "outputs": [],
   "source": [
    "out_fixed=out.copy()\n",
    "out_fixed=out_fixed.astype(np.int)\n",
    "out =pd.DataFrame(out_fixed)"
   ]
  },
  {
   "cell_type": "markdown",
   "metadata": {},
   "source": [
    "## Get some info"
   ]
  },
  {
   "cell_type": "code",
   "execution_count": 16,
   "metadata": {
    "scrolled": true
   },
   "outputs": [
    {
     "name": "stdout",
     "output_type": "stream",
     "text": [
      "Empty instances: 55592\n",
      "Not empty instances: 58675\n"
     ]
    }
   ],
   "source": [
    "count_empty = np.where(np.sum(out,axis=1)==0)[0].shape[0]\n",
    "count_not_empty = out.shape[0] - count_empty\n",
    "print('Empty instances:',count_empty)\n",
    "print('Not empty instances:',count_not_empty)\n"
   ]
  },
  {
   "cell_type": "code",
   "execution_count": 17,
   "metadata": {},
   "outputs": [],
   "source": [
    "count_notes = np.sum(out,axis=1)\n",
    "count_notes_hot = pd.get_dummies(count_notes)\n",
    "out_hot=pd.concat([out,count_notes_hot],axis=1,ignore_index=True)"
   ]
  },
  {
   "cell_type": "code",
   "execution_count": 18,
   "metadata": {},
   "outputs": [],
   "source": [
    "X_n=inp\n",
    "y_n=out"
   ]
  },
  {
   "cell_type": "code",
   "execution_count": 19,
   "metadata": {},
   "outputs": [],
   "source": [
    "X_e=inp\n",
    "y_e=out_hot.iloc[:,0:89]"
   ]
  },
  {
   "cell_type": "code",
   "execution_count": 20,
   "metadata": {},
   "outputs": [],
   "source": [
    "X_h=inp\n",
    "y_h=out_hot"
   ]
  },
  {
   "cell_type": "markdown",
   "metadata": {},
   "source": [
    "## Training"
   ]
  },
  {
   "cell_type": "code",
   "execution_count": 37,
   "metadata": {},
   "outputs": [
    {
     "name": "stdout",
     "output_type": "stream",
     "text": [
      "Epoch 1/50\n",
      "114267/114267 [==============================] - 12s 102us/step - loss: 8.4712 - acc: 0.0280\n",
      "Epoch 2/50\n",
      "114267/114267 [==============================] - 11s 93us/step - loss: 7.1917 - acc: 0.0841\n",
      "Epoch 3/50\n",
      "114267/114267 [==============================] - 11s 98us/step - loss: 6.6711 - acc: 0.1086\n",
      "Epoch 4/50\n",
      "114267/114267 [==============================] - 11s 96us/step - loss: 6.3947 - acc: 0.1247 1s - lo\n",
      "Epoch 5/50\n",
      "114267/114267 [==============================] - 11s 99us/step - loss: 6.2065 - acc: 0.1325\n",
      "Epoch 6/50\n",
      "114267/114267 [==============================] - 12s 103us/step - loss: 6.0766 - acc: 0.13810s - loss: 6.0869 \n",
      "Epoch 7/50\n",
      "114267/114267 [==============================] - 9s 74us/step - loss: 5.9767 - acc: 0.1418\n",
      "Epoch 8/50\n",
      "114267/114267 [==============================] - 7s 65us/step - loss: 5.8967 - acc: 0.1444\n",
      "Epoch 9/50\n",
      "114267/114267 [==============================] - 8s 66us/step - loss: 5.8294 - acc: 0.1465\n",
      "Epoch 10/50\n",
      "114267/114267 [==============================] - 8s 69us/step - loss: 5.7732 - acc: 0.1482\n",
      "Epoch 11/50\n",
      "114267/114267 [==============================] - 8s 74us/step - loss: 5.7241 - acc: 0.1489\n",
      "Epoch 12/50\n",
      "114267/114267 [==============================] - 7s 63us/step - loss: 5.6815 - acc: 0.1501\n",
      "Epoch 13/50\n",
      "114267/114267 [==============================] - 9s 79us/step - loss: 5.6408 - acc: 0.1512\n",
      "Epoch 14/50\n",
      "114267/114267 [==============================] - 9s 78us/step - loss: 5.6081 - acc: 0.1518\n",
      "Epoch 15/50\n",
      "114267/114267 [==============================] - 7s 65us/step - loss: 5.5748 - acc: 0.1521\n",
      "Epoch 16/50\n",
      "114267/114267 [==============================] - 8s 66us/step - loss: 5.5470 - acc: 0.1531\n",
      "Epoch 17/50\n",
      "114267/114267 [==============================] - 8s 71us/step - loss: 5.5191 - acc: 0.1542\n",
      "Epoch 18/50\n",
      "114267/114267 [==============================] - 9s 77us/step - loss: 5.4945 - acc: 0.1546\n",
      "Epoch 19/50\n",
      "114267/114267 [==============================] - 8s 69us/step - loss: 5.4728 - acc: 0.1547\n",
      "Epoch 20/50\n",
      "114267/114267 [==============================] - 9s 77us/step - loss: 5.4515 - acc: 0.1551\n",
      "Epoch 21/50\n",
      "114267/114267 [==============================] - 8s 69us/step - loss: 5.4311 - acc: 0.1555\n",
      "Epoch 22/50\n",
      "114267/114267 [==============================] - 7s 65us/step - loss: 5.4114 - acc: 0.1563\n",
      "Epoch 23/50\n",
      "114267/114267 [==============================] - 8s 73us/step - loss: 5.3944 - acc: 0.1568\n",
      "Epoch 24/50\n",
      "114267/114267 [==============================] - 9s 76us/step - loss: 5.3773 - acc: 0.1579\n",
      "Epoch 25/50\n",
      "114267/114267 [==============================] - 8s 67us/step - loss: 5.3619 - acc: 0.1576\n",
      "Epoch 26/50\n",
      "114267/114267 [==============================] - 9s 75us/step - loss: 5.3458 - acc: 0.1585\n",
      "Epoch 27/50\n",
      "114267/114267 [==============================] - 10s 86us/step - loss: 5.3314 - acc: 0.1585\n",
      "Epoch 28/50\n",
      "114267/114267 [==============================] - 8s 70us/step - loss: 5.3187 - acc: 0.1593\n",
      "Epoch 29/50\n",
      "114267/114267 [==============================] - 8s 67us/step - loss: 5.3053 - acc: 0.1595\n",
      "Epoch 30/50\n",
      "114267/114267 [==============================] - 9s 76us/step - loss: 5.2921 - acc: 0.1593\n",
      "Epoch 31/50\n",
      "114267/114267 [==============================] - 9s 76us/step - loss: 5.2795 - acc: 0.1607\n",
      "Epoch 32/50\n",
      "114267/114267 [==============================] - 7s 65us/step - loss: 5.2682 - acc: 0.1600\n",
      "Epoch 33/50\n",
      "114267/114267 [==============================] - 9s 82us/step - loss: 5.2565 - acc: 0.1594\n",
      "Epoch 34/50\n",
      "114267/114267 [==============================] - 8s 74us/step - loss: 5.2457 - acc: 0.1604\n",
      "Epoch 35/50\n",
      "114267/114267 [==============================] - 8s 69us/step - loss: 5.2365 - acc: 0.1603\n",
      "Epoch 36/50\n",
      "114267/114267 [==============================] - 8s 74us/step - loss: 5.2246 - acc: 0.1614\n",
      "Epoch 37/50\n",
      "114267/114267 [==============================] - 9s 81us/step - loss: 5.2148 - acc: 0.1609\n",
      "Epoch 38/50\n",
      "114267/114267 [==============================] - 7s 63us/step - loss: 5.2060 - acc: 0.1618\n",
      "Epoch 39/50\n",
      "114267/114267 [==============================] - 9s 83us/step - loss: 5.1954 - acc: 0.1607\n",
      "Epoch 40/50\n",
      "114267/114267 [==============================] - 11s 95us/step - loss: 5.1872 - acc: 0.1611\n",
      "Epoch 41/50\n",
      "114267/114267 [==============================] - 8s 74us/step - loss: 5.1788 - acc: 0.1614\n",
      "Epoch 42/50\n",
      "114267/114267 [==============================] - 8s 69us/step - loss: 5.1690 - acc: 0.1622\n",
      "Epoch 43/50\n",
      "114267/114267 [==============================] - 10s 88us/step - loss: 5.1611 - acc: 0.1623\n",
      "Epoch 44/50\n",
      "114267/114267 [==============================] - 10s 87us/step - loss: 5.1538 - acc: 0.1619\n",
      "Epoch 45/50\n",
      "114267/114267 [==============================] - ETA: 0s - loss: 5.1451 - acc: 0.163 - 11s 93us/step - loss: 5.1450 - acc: 0.1630\n",
      "Epoch 46/50\n",
      "114267/114267 [==============================] - 10s 85us/step - loss: 5.1391 - acc: 0.1626\n",
      "Epoch 47/50\n",
      "114267/114267 [==============================] - 9s 82us/step - loss: 5.1295 - acc: 0.1626\n",
      "Epoch 48/50\n",
      "114267/114267 [==============================] - 10s 85us/step - loss: 5.1240 - acc: 0.1629\n",
      "Epoch 49/50\n",
      "114267/114267 [==============================] - 9s 78us/step - loss: 5.1157 - acc: 0.1628\n",
      "Epoch 50/50\n",
      "114267/114267 [==============================] - 11s 93us/step - loss: 5.1097 - acc: 0.1627\n",
      "Done\n"
     ]
    }
   ],
   "source": [
    "# Single layer, no note info\n",
    "model_s_n = keras.Sequential()\n",
    "model_s_n.add(keras.layers.Dense(units=out.shape[1], activation='relu',input_dim=X_n.shape[1]))\n",
    "model_s_n.add(keras.layers.Dense(units=out.shape[1], activation='relu',input_dim=X_n.shape[1]))\n",
    "model_s_n.add(keras.layers.Dense(units=out.shape[1], activation='relu',input_dim=X_n.shape[1]))\n",
    "model_s_n.add(keras.layers.Dense(units=out.shape[1], activation='relu',input_dim=X_n.shape[1]))\n",
    "model_s_n.add(keras.layers.Dense(units=out.shape[1], activation='relu',input_dim=X_n.shape[1]))\n",
    "model_s_n.add(keras.layers.Dense(units=out.shape[1], activation='softmax'))\n",
    "model_s_n.compile(loss='categorical_crossentropy', optimizer='sgd',metrics=['accuracy'])\n",
    "model_s_n.fit(X_n,y_n,epochs=50, batch_size=128)\n",
    "print('Done')"
   ]
  },
  {
   "cell_type": "code",
   "execution_count": 38,
   "metadata": {},
   "outputs": [
    {
     "name": "stdout",
     "output_type": "stream",
     "text": [
      "Epoch 1/50\n",
      "114267/114267 [==============================] - 12s 102us/step - loss: 9.2515 - acc: 0.4968\n",
      "Epoch 2/50\n",
      "114267/114267 [==============================] - 11s 92us/step - loss: 7.6603 - acc: 0.5409\n",
      "Epoch 3/50\n",
      "114267/114267 [==============================] - 9s 76us/step - loss: 7.0975 - acc: 0.5689\n",
      "Epoch 4/50\n",
      "114267/114267 [==============================] - 9s 80us/step - loss: 6.8021 - acc: 0.5816\n",
      "Epoch 5/50\n",
      "114267/114267 [==============================] - 9s 82us/step - loss: 6.5967 - acc: 0.5929\n",
      "Epoch 6/50\n",
      "114267/114267 [==============================] - 9s 82us/step - loss: 6.4550 - acc: 0.5997\n",
      "Epoch 7/50\n",
      "114267/114267 [==============================] - ETA: 0s - loss: 6.3516 - acc: 0.603 - 9s 77us/step - loss: 6.3504 - acc: 0.6034\n",
      "Epoch 8/50\n",
      "114267/114267 [==============================] - 10s 85us/step - loss: 6.2633 - acc: 0.6071\n",
      "Epoch 9/50\n",
      "114267/114267 [==============================] - 9s 81us/step - loss: 6.1956 - acc: 0.6105\n",
      "Epoch 10/50\n",
      "114267/114267 [==============================] - 9s 83us/step - loss: 6.1350 - acc: 0.6131\n",
      "Epoch 11/50\n",
      "114267/114267 [==============================] - 9s 80us/step - loss: 6.0838 - acc: 0.6142\n",
      "Epoch 12/50\n",
      "114267/114267 [==============================] - 9s 82us/step - loss: 6.0382 - acc: 0.6149: 0s - loss: 6\n",
      "Epoch 13/50\n",
      "114267/114267 [==============================] - 10s 89us/step - loss: 5.9980 - acc: 0.6171\n",
      "Epoch 14/50\n",
      "114267/114267 [==============================] - 13s 111us/step - loss: 5.9604 - acc: 0.6188\n",
      "Epoch 15/50\n",
      "114267/114267 [==============================] - 11s 94us/step - loss: 5.9300 - acc: 0.6186\n",
      "Epoch 16/50\n",
      "114267/114267 [==============================] - 10s 91us/step - loss: 5.8997 - acc: 0.6194 1\n",
      "Epoch 17/50\n",
      "114267/114267 [==============================] - 10s 90us/step - loss: 5.8724 - acc: 0.6218\n",
      "Epoch 18/50\n",
      "114267/114267 [==============================] - 10s 87us/step - loss: 5.8430 - acc: 0.6208\n",
      "Epoch 19/50\n",
      "114267/114267 [==============================] - 10s 88us/step - loss: 5.8222 - acc: 0.6226\n",
      "Epoch 20/50\n",
      "114267/114267 [==============================] - 11s 92us/step - loss: 5.7982 - acc: 0.6235\n",
      "Epoch 21/50\n",
      "114267/114267 [==============================] - 9s 80us/step - loss: 5.7776 - acc: 0.6242\n",
      "Epoch 22/50\n",
      "114267/114267 [==============================] - 10s 88us/step - loss: 5.7570 - acc: 0.6248\n",
      "Epoch 23/50\n",
      "114267/114267 [==============================] - 9s 82us/step - loss: 5.7378 - acc: 0.6256\n",
      "Epoch 24/50\n",
      "114267/114267 [==============================] - 10s 87us/step - loss: 5.7216 - acc: 0.6257\n",
      "Epoch 25/50\n",
      "114267/114267 [==============================] - 9s 81us/step - loss: 5.7046 - acc: 0.6262\n",
      "Epoch 26/50\n",
      "114267/114267 [==============================] - 9s 82us/step - loss: 5.6891 - acc: 0.6265\n",
      "Epoch 27/50\n",
      "114267/114267 [==============================] - 10s 87us/step - loss: 5.6732 - acc: 0.6266 0s - loss: 5.6730 - acc: 0.6\n",
      "Epoch 28/50\n",
      "114267/114267 [==============================] - 9s 76us/step - loss: 5.6605 - acc: 0.6278\n",
      "Epoch 29/50\n",
      "114267/114267 [==============================] - 9s 83us/step - loss: 5.6454 - acc: 0.6279\n",
      "Epoch 30/50\n",
      "114267/114267 [==============================] - 10s 85us/step - loss: 5.6342 - acc: 0.6284\n",
      "Epoch 31/50\n",
      "114267/114267 [==============================] - 10s 89us/step - loss: 5.6201 - acc: 0.6276 0s - loss: 5.6203 - acc: 0.627\n",
      "Epoch 32/50\n",
      "114267/114267 [==============================] - 10s 83us/step - loss: 5.6075 - acc: 0.6293\n",
      "Epoch 33/50\n",
      "114267/114267 [==============================] - 10s 85us/step - loss: 5.5967 - acc: 0.6295\n",
      "Epoch 34/50\n",
      "114267/114267 [==============================] - 10s 84us/step - loss: 5.5843 - acc: 0.6299\n",
      "Epoch 35/50\n",
      "114267/114267 [==============================] - 11s 94us/step - loss: 5.5744 - acc: 0.6303\n",
      "Epoch 36/50\n",
      "114267/114267 [==============================] - 11s 96us/step - loss: 5.5637 - acc: 0.6309\n",
      "Epoch 37/50\n",
      "114267/114267 [==============================] - 10s 87us/step - loss: 5.5525 - acc: 0.6301\n",
      "Epoch 38/50\n",
      "114267/114267 [==============================] - 11s 92us/step - loss: 5.5444 - acc: 0.6301\n",
      "Epoch 39/50\n",
      "114267/114267 [==============================] - 10s 90us/step - loss: 5.5341 - acc: 0.6305\n",
      "Epoch 40/50\n",
      "114267/114267 [==============================] - 10s 90us/step - loss: 5.5273 - acc: 0.6311\n",
      "Epoch 41/50\n",
      "114267/114267 [==============================] - 10s 88us/step - loss: 5.5164 - acc: 0.6314A: 4s -  - ETA: 2s - loss: 5.5 - ETA: 1s - los\n",
      "Epoch 42/50\n",
      "114267/114267 [==============================] - 9s 80us/step - loss: 5.5056 - acc: 0.6314\n",
      "Epoch 43/50\n",
      "114267/114267 [==============================] - 9s 81us/step - loss: 5.4973 - acc: 0.6320\n",
      "Epoch 44/50\n",
      "114267/114267 [==============================] - 9s 78us/step - loss: 5.4893 - acc: 0.6330\n",
      "Epoch 45/50\n",
      "114267/114267 [==============================] - 9s 81us/step - loss: 5.4812 - acc: 0.6325\n",
      "Epoch 46/50\n",
      "114267/114267 [==============================] - 9s 76us/step - loss: 5.4736 - acc: 0.6324\n",
      "Epoch 47/50\n",
      "114267/114267 [==============================] - 9s 77us/step - loss: 5.4648 - acc: 0.6337\n",
      "Epoch 48/50\n",
      "114267/114267 [==============================] - 9s 80us/step - loss: 5.4585 - acc: 0.6331\n",
      "Epoch 49/50\n",
      "114267/114267 [==============================] - 11s 95us/step - loss: 5.4510 - acc: 0.6335 1s - loss: 5\n",
      "Epoch 50/50\n",
      "114267/114267 [==============================] - 10s 85us/step - loss: 5.4438 - acc: 0.6337\n",
      "Done\n"
     ]
    }
   ],
   "source": [
    "# Single layer, with empty\n",
    "model_s_e = keras.Sequential()\n",
    "model_s_e.add(keras.layers.Dense(units=out.shape[1]+1, activation='relu',input_dim=X_e.shape[1]))\n",
    "model_s_e.add(keras.layers.Dense(units=out.shape[1]+1, activation='relu',input_dim=X_e.shape[1]+1))\n",
    "model_s_e.add(keras.layers.Dense(units=out.shape[1]+1, activation='relu',input_dim=X_e.shape[1]+1))\n",
    "model_s_e.add(keras.layers.Dense(units=out.shape[1]+1, activation='relu',input_dim=X_e.shape[1]+1))\n",
    "model_s_e.add(keras.layers.Dense(units=out.shape[1]+1, activation='relu',input_dim=X_e.shape[1]+1))\n",
    "model_s_e.add(keras.layers.Dense(units=out.shape[1]+1, activation='softmax'))\n",
    "model_s_e.compile(loss='categorical_crossentropy', optimizer='sgd',metrics=['accuracy'])\n",
    "model_s_e.fit(X_e,y_e,epochs=50, batch_size=128)\n",
    "print('Done')"
   ]
  },
  {
   "cell_type": "code",
   "execution_count": 39,
   "metadata": {},
   "outputs": [
    {
     "name": "stdout",
     "output_type": "stream",
     "text": [
      "Epoch 1/50\n",
      "114267/114267 [==============================] - 13s 114us/step - loss: 11.5751 - acc: 0.4888\n",
      "Epoch 2/50\n",
      "114267/114267 [==============================] - 12s 102us/step - loss: 9.7004 - acc: 0.54770s - loss: 9.7083 - acc: \n",
      "Epoch 3/50\n",
      "114267/114267 [==============================] - 11s 99us/step - loss: 9.1631 - acc: 0.5691 0s - loss: 9.1610 - acc: 0.569\n",
      "Epoch 4/50\n",
      "114267/114267 [==============================] - 13s 116us/step - loss: 8.8738 - acc: 0.5783\n",
      "Epoch 5/50\n",
      "114267/114267 [==============================] - 12s 104us/step - loss: 8.6840 - acc: 0.5866\n",
      "Epoch 6/50\n",
      "114267/114267 [==============================] - 12s 101us/step - loss: 8.5461 - acc: 0.5917\n",
      "Epoch 7/50\n",
      "114267/114267 [==============================] - 11s 99us/step - loss: 8.4366 - acc: 0.5950\n",
      "Epoch 8/50\n",
      "114267/114267 [==============================] - 11s 96us/step - loss: 8.3502 - acc: 0.5966\n",
      "Epoch 9/50\n",
      "114267/114267 [==============================] - 10s 92us/step - loss: 8.2772 - acc: 0.5980\n",
      "Epoch 10/50\n",
      "114267/114267 [==============================] - 11s 93us/step - loss: 8.2124 - acc: 0.5989\n",
      "Epoch 11/50\n",
      "114267/114267 [==============================] - 11s 96us/step - loss: 8.1580 - acc: 0.5989\n",
      "Epoch 12/50\n",
      "114267/114267 [==============================] - 13s 110us/step - loss: 8.1098 - acc: 0.5999\n",
      "Epoch 13/50\n",
      "114267/114267 [==============================] - 10s 89us/step - loss: 8.0650 - acc: 0.6005\n",
      "Epoch 14/50\n",
      "114267/114267 [==============================] - 11s 100us/step - loss: 8.0253 - acc: 0.6013\n",
      "Epoch 15/50\n",
      "114267/114267 [==============================] - 12s 105us/step - loss: 7.9859 - acc: 0.6016\n",
      "Epoch 16/50\n",
      "114267/114267 [==============================] - 13s 112us/step - loss: 7.9547 - acc: 0.60142s - loss: 7.9326 - acc\n",
      "Epoch 17/50\n",
      "114267/114267 [==============================] - 11s 97us/step - loss: 7.9202 - acc: 0.6021\n",
      "Epoch 18/50\n",
      "114267/114267 [==============================] - 13s 116us/step - loss: 7.8927 - acc: 0.6021\n",
      "Epoch 19/50\n",
      "114267/114267 [==============================] - 13s 114us/step - loss: 7.8627 - acc: 0.6047\n",
      "Epoch 20/50\n",
      "114267/114267 [==============================] - 12s 101us/step - loss: 7.8387 - acc: 0.6036\n",
      "Epoch 21/50\n",
      "114267/114267 [==============================] - 11s 94us/step - loss: 7.8095 - acc: 0.6037\n",
      "Epoch 22/50\n",
      "114267/114267 [==============================] - 11s 93us/step - loss: 7.7894 - acc: 0.6041\n",
      "Epoch 23/50\n",
      "114267/114267 [==============================] - 10s 90us/step - loss: 7.7641 - acc: 0.6049 \n",
      "Epoch 24/50\n",
      "114267/114267 [==============================] - 10s 90us/step - loss: 7.7430 - acc: 0.6043 0s - loss: 7.742\n",
      "Epoch 25/50\n",
      "114267/114267 [==============================] - 10s 86us/step - loss: 7.7199 - acc: 0.6045\n",
      "Epoch 26/50\n",
      "114267/114267 [==============================] - 9s 80us/step - loss: 7.7028 - acc: 0.6047\n",
      "Epoch 27/50\n",
      "114267/114267 [==============================] - 11s 93us/step - loss: 7.6826 - acc: 0.6051\n",
      "Epoch 28/50\n",
      "114267/114267 [==============================] - 10s 92us/step - loss: 7.6625 - acc: 0.6052\n",
      "Epoch 29/50\n",
      "114267/114267 [==============================] - 10s 90us/step - loss: 7.6449 - acc: 0.6058\n",
      "Epoch 30/50\n",
      "114267/114267 [==============================] - 11s 96us/step - loss: 7.6267 - acc: 0.6052\n",
      "Epoch 31/50\n",
      "114267/114267 [==============================] - 12s 102us/step - loss: 7.6108 - acc: 0.6069\n",
      "Epoch 32/50\n",
      "114267/114267 [==============================] - 12s 106us/step - loss: 7.5941 - acc: 0.60581s - loss: 7.5 - ETA: 0s - loss: 7.5868 - ac\n",
      "Epoch 33/50\n",
      "114267/114267 [==============================] - 11s 97us/step - loss: 7.5789 - acc: 0.6055\n",
      "Epoch 34/50\n",
      "114267/114267 [==============================] - 12s 101us/step - loss: 7.5635 - acc: 0.6067\n",
      "Epoch 35/50\n",
      "114267/114267 [==============================] - 11s 96us/step - loss: 7.5476 - acc: 0.6063\n",
      "Epoch 36/50\n",
      "114267/114267 [==============================] - 11s 93us/step - loss: 7.5326 - acc: 0.6066\n",
      "Epoch 37/50\n",
      "114267/114267 [==============================] - 11s 93us/step - loss: 7.5190 - acc: 0.6072\n",
      "Epoch 38/50\n",
      "114267/114267 [==============================] - 11s 93us/step - loss: 7.5061 - acc: 0.6071\n",
      "Epoch 39/50\n",
      "114267/114267 [==============================] - 11s 93us/step - loss: 7.4933 - acc: 0.6071\n",
      "Epoch 40/50\n",
      "114267/114267 [==============================] - 11s 95us/step - loss: 7.4800 - acc: 0.6067\n",
      "Epoch 41/50\n",
      "114267/114267 [==============================] - 11s 98us/step - loss: 7.4680 - acc: 0.6070\n",
      "Epoch 42/50\n",
      "114267/114267 [==============================] - 12s 101us/step - loss: 7.4528 - acc: 0.6073\n",
      "Epoch 43/50\n",
      "114267/114267 [==============================] - 11s 98us/step - loss: 7.4402 - acc: 0.6065 4\n",
      "Epoch 44/50\n",
      "114267/114267 [==============================] - 12s 101us/step - loss: 7.4312 - acc: 0.6067\n",
      "Epoch 45/50\n",
      "114267/114267 [==============================] - 12s 101us/step - loss: 7.4202 - acc: 0.6067\n",
      "Epoch 46/50\n",
      "114267/114267 [==============================] - 12s 103us/step - loss: 7.4066 - acc: 0.6069\n",
      "Epoch 47/50\n",
      "114267/114267 [==============================] - 12s 103us/step - loss: 7.3977 - acc: 0.6074\n",
      "Epoch 48/50\n",
      "114267/114267 [==============================] - 11s 97us/step - loss: 7.3844 - acc: 0.6073\n",
      "Epoch 49/50\n",
      "114267/114267 [==============================] - 11s 97us/step - loss: 7.3758 - acc: 0.6075\n",
      "Epoch 50/50\n",
      "114267/114267 [==============================] - 11s 99us/step - loss: 7.3648 - acc: 0.6073\n"
     ]
    },
    {
     "data": {
      "text/plain": [
       "<tensorflow.python.keras.callbacks.History at 0x11fc651c5f8>"
      ]
     },
     "execution_count": 39,
     "metadata": {},
     "output_type": "execute_result"
    }
   ],
   "source": [
    "# Single layer, one hot encoding for notes\n",
    "model_s_h = keras.Sequential()\n",
    "model_s_h.add(keras.layers.Dense(units=y_h.shape[1], activation='relu',input_dim=X_h.shape[1]))\n",
    "model_s_h.add(keras.layers.Dense(units=y_h.shape[1], activation='relu',input_dim=X_h.shape[1]))\n",
    "model_s_h.add(keras.layers.Dense(units=y_h.shape[1], activation='relu',input_dim=X_h.shape[1]))\n",
    "model_s_h.add(keras.layers.Dense(units=y_h.shape[1], activation='relu',input_dim=X_h.shape[1]))\n",
    "model_s_h.add(keras.layers.Dense(units=y_h.shape[1], activation='relu',input_dim=X_h.shape[1]))\n",
    "model_s_h.add(keras.layers.Dense(units=y_h.shape[1], activation='softmax'))\n",
    "model_s_h.compile(loss='categorical_crossentropy', optimizer='sgd',metrics=['accuracy'])\n",
    "model_s_h.fit(X_h,y_h,epochs=50, batch_size=128)"
   ]
  },
  {
   "cell_type": "markdown",
   "metadata": {},
   "source": [
    "## Save Models"
   ]
  },
  {
   "cell_type": "code",
   "execution_count": 40,
   "metadata": {},
   "outputs": [],
   "source": [
    "model_out_path_n = os.path.join(os.getcwd(),'Models/Curves/4 Layer/m_n.h5')\n",
    "model_s_n.save(model_out_path_n)\n",
    "\n",
    "model_out_path_e = os.path.join(os.getcwd(),'Models/Curves/4 Layer/m_e.h5')\n",
    "model_s_e.save(model_out_path_e)\n",
    "\n",
    "model_out_path_h = os.path.join(os.getcwd(),'Models/Curves/4 Layer/m_h.h5')\n",
    "model_s_h.save(model_out_path_h)\n",
    "\n"
   ]
  },
  {
   "cell_type": "code",
   "execution_count": null,
   "metadata": {},
   "outputs": [],
   "source": []
  }
 ],
 "metadata": {
  "kernelspec": {
   "display_name": "Python 3",
   "language": "python",
   "name": "python3"
  },
  "language_info": {
   "codemirror_mode": {
    "name": "ipython",
    "version": 3
   },
   "file_extension": ".py",
   "mimetype": "text/x-python",
   "name": "python",
   "nbconvert_exporter": "python",
   "pygments_lexer": "ipython3",
   "version": "3.6.6"
  }
 },
 "nbformat": 4,
 "nbformat_minor": 2
}
