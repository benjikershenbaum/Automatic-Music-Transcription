{
 "cells": [
  {
   "cell_type": "markdown",
   "metadata": {},
   "source": [
    "## Imports"
   ]
  },
  {
   "cell_type": "code",
   "execution_count": 1,
   "metadata": {},
   "outputs": [],
   "source": [
    "import os\n",
    "import tensorflow as tf\n",
    "import numpy as np\n",
    "import pandas as pd\n",
    "from tensorflow import keras"
   ]
  },
  {
   "cell_type": "markdown",
   "metadata": {},
   "source": [
    "## Load Data"
   ]
  },
  {
   "cell_type": "code",
   "execution_count": 2,
   "metadata": {},
   "outputs": [],
   "source": [
    "in_file_path= os.path.join(os.getcwd(), 'Data//Processed', 'input.txt')\n",
    "out_file_path= os.path.join(os.getcwd(), 'Data//Processed', 'output.txt')\n",
    "\n",
    "inp = pd.read_csv(in_file_path,sep=\",\",header=None)\n",
    "out = pd.read_csv(out_file_path,sep=\",\",header=None)\n",
    "\n",
    "out_save = out.copy()"
   ]
  },
  {
   "cell_type": "code",
   "execution_count": 3,
   "metadata": {},
   "outputs": [],
   "source": [
    "out_fixed=out.copy()\n",
    "out_fixed=out_fixed.astype(np.int)\n",
    "out =pd.DataFrame(out_fixed)"
   ]
  },
  {
   "cell_type": "markdown",
   "metadata": {},
   "source": [
    "## Get some info"
   ]
  },
  {
   "cell_type": "code",
   "execution_count": 4,
   "metadata": {
    "scrolled": true
   },
   "outputs": [
    {
     "name": "stdout",
     "output_type": "stream",
     "text": [
      "Empty instances: 52844\n",
      "Not empty instances: 24141\n"
     ]
    }
   ],
   "source": [
    "count_empty = np.where(np.sum(out,axis=1)==0)[0].shape[0]\n",
    "count_not_empty = out.shape[0] - count_empty\n",
    "print('Empty instances:',count_empty)\n",
    "print('Not empty instances:',count_not_empty)\n"
   ]
  },
  {
   "cell_type": "code",
   "execution_count": 5,
   "metadata": {},
   "outputs": [],
   "source": [
    "count_notes = np.sum(out,axis=1)\n",
    "count_notes_hot = pd.get_dummies(count_notes)\n",
    "out_hot=pd.concat([out,count_notes_hot],axis=1,ignore_index=True)"
   ]
  },
  {
   "cell_type": "code",
   "execution_count": 6,
   "metadata": {},
   "outputs": [],
   "source": [
    "X_n=inp\n",
    "y_n=out"
   ]
  },
  {
   "cell_type": "code",
   "execution_count": 7,
   "metadata": {},
   "outputs": [],
   "source": [
    "X_e=inp\n",
    "y_e=out_hot.iloc[:,0:89]"
   ]
  },
  {
   "cell_type": "code",
   "execution_count": 8,
   "metadata": {},
   "outputs": [],
   "source": [
    "X_h=inp\n",
    "y_h=out_hot"
   ]
  },
  {
   "cell_type": "markdown",
   "metadata": {},
   "source": [
    "## Training"
   ]
  },
  {
   "cell_type": "code",
   "execution_count": 9,
   "metadata": {},
   "outputs": [
    {
     "name": "stdout",
     "output_type": "stream",
     "text": [
      "Epoch 1/50\n",
      "76985/76985 [==============================] - 8s 108us/step - loss: 3.4428 - acc: 0.0668\n",
      "Epoch 2/50\n",
      "76985/76985 [==============================] - 7s 87us/step - loss: 2.4910 - acc: 0.1441\n",
      "Epoch 3/50\n",
      "76985/76985 [==============================] - 6s 83us/step - loss: 2.2227 - acc: 0.1534\n",
      "Epoch 4/50\n",
      "76985/76985 [==============================] - 6s 82us/step - loss: 2.0967 - acc: 0.1564\n",
      "Epoch 5/50\n",
      "76985/76985 [==============================] - 6s 84us/step - loss: 2.0165 - acc: 0.1577\n",
      "Epoch 6/50\n",
      "76985/76985 [==============================] - 6s 84us/step - loss: 1.9561 - acc: 0.1580\n",
      "Epoch 7/50\n",
      "76985/76985 [==============================] - 6s 81us/step - loss: 1.9062 - acc: 0.1596\n",
      "Epoch 8/50\n",
      "76985/76985 [==============================] - 7s 85us/step - loss: 1.8681 - acc: 0.1607\n",
      "Epoch 9/50\n",
      "76985/76985 [==============================] - 6s 83us/step - loss: 1.8328 - acc: 0.1616\n",
      "Epoch 10/50\n",
      "76985/76985 [==============================] - 6s 83us/step - loss: 1.8044 - acc: 0.1609\n",
      "Epoch 11/50\n",
      "76985/76985 [==============================] - 6s 78us/step - loss: 1.7768 - acc: 0.1622\n",
      "Epoch 12/50\n",
      "76985/76985 [==============================] - 6s 75us/step - loss: 1.7547 - acc: 0.1624\n",
      "Epoch 13/50\n",
      "76985/76985 [==============================] - 6s 84us/step - loss: 1.7311 - acc: 0.1636\n",
      "Epoch 14/50\n",
      "76985/76985 [==============================] - 7s 85us/step - loss: 1.7122 - acc: 0.1629\n",
      "Epoch 15/50\n",
      "76985/76985 [==============================] - 6s 83us/step - loss: 1.6931 - acc: 0.1642\n",
      "Epoch 16/50\n",
      "76985/76985 [==============================] - 5s 71us/step - loss: 1.6753 - acc: 0.1640\n",
      "Epoch 17/50\n",
      "76985/76985 [==============================] - 7s 94us/step - loss: 1.6587 - acc: 0.1641\n",
      "Epoch 18/50\n",
      "76985/76985 [==============================] - 7s 86us/step - loss: 1.6432 - acc: 0.1639\n",
      "Epoch 19/50\n",
      "76985/76985 [==============================] - 6s 76us/step - loss: 1.6286 - acc: 0.1631\n",
      "Epoch 20/50\n",
      "76985/76985 [==============================] - 6s 78us/step - loss: 1.6178 - acc: 0.1635\n",
      "Epoch 21/50\n",
      "76985/76985 [==============================] - 6s 80us/step - loss: 1.6026 - acc: 0.1646\n",
      "Epoch 22/50\n",
      "76985/76985 [==============================] - 5s 62us/step - loss: 1.5905 - acc: 0.1648\n",
      "Epoch 23/50\n",
      "76985/76985 [==============================] - 6s 72us/step - loss: 1.5785 - acc: 0.1637\n",
      "Epoch 24/50\n",
      "76985/76985 [==============================] - 6s 82us/step - loss: 1.5691 - acc: 0.1647\n",
      "Epoch 25/50\n",
      "76985/76985 [==============================] - 6s 82us/step - loss: 1.5581 - acc: 0.1644\n",
      "Epoch 26/50\n",
      "76985/76985 [==============================] - 6s 75us/step - loss: 1.5481 - acc: 0.1639\n",
      "Epoch 27/50\n",
      "76985/76985 [==============================] - 6s 74us/step - loss: 1.5355 - acc: 0.1643\n",
      "Epoch 28/50\n",
      "76985/76985 [==============================] - 6s 75us/step - loss: 1.5272 - acc: 0.1654\n",
      "Epoch 29/50\n",
      "76985/76985 [==============================] - 5s 67us/step - loss: 1.5184 - acc: 0.1652\n",
      "Epoch 30/50\n",
      "76985/76985 [==============================] - 5s 63us/step - loss: 1.5098 - acc: 0.1655\n",
      "Epoch 31/50\n",
      "76985/76985 [==============================] - 6s 73us/step - loss: 1.4999 - acc: 0.1648\n",
      "Epoch 32/50\n",
      "76985/76985 [==============================] - 6s 82us/step - loss: 1.4933 - acc: 0.1648\n",
      "Epoch 33/50\n",
      "76985/76985 [==============================] - 7s 88us/step - loss: 1.4851 - acc: 0.1646\n",
      "Epoch 34/50\n",
      "76985/76985 [==============================] - 7s 92us/step - loss: 1.4777 - acc: 0.1644\n",
      "Epoch 35/50\n",
      "76985/76985 [==============================] - 6s 81us/step - loss: 1.4698 - acc: 0.1650\n",
      "Epoch 36/50\n",
      "76985/76985 [==============================] - 7s 85us/step - loss: 1.4635 - acc: 0.1655\n",
      "Epoch 37/50\n",
      "76985/76985 [==============================] - 6s 76us/step - loss: 1.4582 - acc: 0.1644\n",
      "Epoch 38/50\n",
      "76985/76985 [==============================] - 6s 74us/step - loss: 1.4511 - acc: 0.1655\n",
      "Epoch 39/50\n",
      "76985/76985 [==============================] - 6s 80us/step - loss: 1.4428 - acc: 0.1649\n",
      "Epoch 40/50\n",
      "76985/76985 [==============================] - 5s 66us/step - loss: 1.4366 - acc: 0.1661\n",
      "Epoch 41/50\n",
      "76985/76985 [==============================] - 5s 70us/step - loss: 1.4333 - acc: 0.1653\n",
      "Epoch 42/50\n",
      "76985/76985 [==============================] - 6s 76us/step - loss: 1.4262 - acc: 0.1647\n",
      "Epoch 43/50\n",
      "76985/76985 [==============================] - 6s 72us/step - loss: 1.4204 - acc: 0.1651\n",
      "Epoch 44/50\n",
      "76985/76985 [==============================] - 5s 66us/step - loss: 1.4166 - acc: 0.1649\n",
      "Epoch 45/50\n",
      "76985/76985 [==============================] - 5s 64us/step - loss: 1.4098 - acc: 0.1653\n",
      "Epoch 46/50\n",
      "76985/76985 [==============================] - 5s 71us/step - loss: 1.4055 - acc: 0.1652\n",
      "Epoch 47/50\n",
      "76985/76985 [==============================] - 5s 70us/step - loss: 1.4016 - acc: 0.1660\n",
      "Epoch 48/50\n",
      "76985/76985 [==============================] - 6s 75us/step - loss: 1.3972 - acc: 0.1648\n",
      "Epoch 49/50\n",
      "76985/76985 [==============================] - 6s 72us/step - loss: 1.3927 - acc: 0.1648\n",
      "Epoch 50/50\n",
      "76985/76985 [==============================] - 6s 75us/step - loss: 1.3862 - acc: 0.1651\n",
      "Done\n"
     ]
    }
   ],
   "source": [
    "# Single layer, no note info\n",
    "model_s_n = keras.Sequential()\n",
    "model_s_n.add(keras.layers.Dense(units=inp.shape[1]*2/3+out.shape[1], activation='relu',input_dim=X_n.shape[1]))\n",
    "model_s_n.add(keras.layers.Dense(units=inp.shape[1]*2/3+out.shape[1], activation='relu',input_dim=inp.shape[1]*2/3+out.shape[1]))\n",
    "model_s_n.add(keras.layers.Dense(units=inp.shape[1]*2/3+out.shape[1], activation='relu',input_dim=inp.shape[1]*2/3+out.shape[1]))\n",
    "model_s_n.add(keras.layers.Dense(units=out.shape[1], activation='relu',input_dim=inp.shape[1]*2/3+out.shape[1]))\n",
    "model_s_n.add(keras.layers.Dense(units=out.shape[1], activation='softmax'))\n",
    "model_s_n.compile(loss='categorical_crossentropy', optimizer='sgd',metrics=['accuracy'])\n",
    "model_s_n.fit(X_n,y_n,epochs=50, batch_size=128)\n",
    "print('Done')"
   ]
  },
  {
   "cell_type": "code",
   "execution_count": 10,
   "metadata": {},
   "outputs": [
    {
     "name": "stdout",
     "output_type": "stream",
     "text": [
      "Epoch 1/50\n",
      "76985/76985 [==============================] - 6s 81us/step - loss: 4.0937 - acc: 0.7148\n",
      "Epoch 2/50\n",
      "76985/76985 [==============================] - 6s 79us/step - loss: 2.7296 - acc: 0.7887\n",
      "Epoch 3/50\n",
      "76985/76985 [==============================] - 6s 77us/step - loss: 2.4003 - acc: 0.8100\n",
      "Epoch 4/50\n",
      "76985/76985 [==============================] - 5s 69us/step - loss: 2.2418 - acc: 0.8199\n",
      "Epoch 5/50\n",
      "76985/76985 [==============================] - 7s 85us/step - loss: 2.1494 - acc: 0.8233\n",
      "Epoch 6/50\n",
      "76985/76985 [==============================] - 5s 71us/step - loss: 2.0745 - acc: 0.8257\n",
      "Epoch 7/50\n",
      "76985/76985 [==============================] - 7s 94us/step - loss: 2.0218 - acc: 0.8289\n",
      "Epoch 8/50\n",
      "76985/76985 [==============================] - 6s 82us/step - loss: 1.9750 - acc: 0.8325\n",
      "Epoch 9/50\n",
      "76985/76985 [==============================] - 7s 88us/step - loss: 1.9359 - acc: 0.8324\n",
      "Epoch 10/50\n",
      "76985/76985 [==============================] - 6s 78us/step - loss: 1.9012 - acc: 0.8342\n",
      "Epoch 11/50\n",
      "76985/76985 [==============================] - 6s 77us/step - loss: 1.8740 - acc: 0.8345\n",
      "Epoch 12/50\n",
      "76985/76985 [==============================] - 6s 80us/step - loss: 1.8423 - acc: 0.8371\n",
      "Epoch 13/50\n",
      "76985/76985 [==============================] - 6s 80us/step - loss: 1.8185 - acc: 0.8367\n",
      "Epoch 14/50\n",
      "76985/76985 [==============================] - 6s 76us/step - loss: 1.7968 - acc: 0.8376\n",
      "Epoch 15/50\n",
      "76985/76985 [==============================] - 6s 81us/step - loss: 1.7753 - acc: 0.8386\n",
      "Epoch 16/50\n",
      "76985/76985 [==============================] - 6s 72us/step - loss: 1.7557 - acc: 0.8384\n",
      "Epoch 17/50\n",
      "76985/76985 [==============================] - 6s 77us/step - loss: 1.7355 - acc: 0.8403\n",
      "Epoch 18/50\n",
      "76985/76985 [==============================] - 7s 86us/step - loss: 1.7216 - acc: 0.8402\n",
      "Epoch 19/50\n",
      "76985/76985 [==============================] - 6s 83us/step - loss: 1.7039 - acc: 0.8408\n",
      "Epoch 20/50\n",
      "76985/76985 [==============================] - 6s 83us/step - loss: 1.6876 - acc: 0.8414\n",
      "Epoch 21/50\n",
      "76985/76985 [==============================] - 6s 80us/step - loss: 1.6723 - acc: 0.8415\n",
      "Epoch 22/50\n",
      "76985/76985 [==============================] - 6s 78us/step - loss: 1.6597 - acc: 0.8425\n",
      "Epoch 23/50\n",
      "76985/76985 [==============================] - 6s 72us/step - loss: 1.6466 - acc: 0.8422\n",
      "Epoch 24/50\n",
      "76985/76985 [==============================] - 7s 87us/step - loss: 1.6340 - acc: 0.8434\n",
      "Epoch 25/50\n",
      "76985/76985 [==============================] - 6s 78us/step - loss: 1.6229 - acc: 0.8423\n",
      "Epoch 26/50\n",
      "76985/76985 [==============================] - 7s 91us/step - loss: 1.6150 - acc: 0.8424\n",
      "Epoch 27/50\n",
      "76985/76985 [==============================] - 7s 86us/step - loss: 1.5988 - acc: 0.8440\n",
      "Epoch 28/50\n",
      "76985/76985 [==============================] - 6s 79us/step - loss: 1.5874 - acc: 0.8445\n",
      "Epoch 29/50\n",
      "76985/76985 [==============================] - 8s 100us/step - loss: 1.5778 - acc: 0.8453\n",
      "Epoch 30/50\n",
      "76985/76985 [==============================] - 7s 87us/step - loss: 1.5683 - acc: 0.8439\n",
      "Epoch 31/50\n",
      "76985/76985 [==============================] - 7s 89us/step - loss: 1.5592 - acc: 0.8450\n",
      "Epoch 32/50\n",
      "76985/76985 [==============================] - 6s 80us/step - loss: 1.5510 - acc: 0.8437\n",
      "Epoch 33/50\n",
      "76985/76985 [==============================] - 6s 83us/step - loss: 1.5390 - acc: 0.8448\n",
      "Epoch 34/50\n",
      "76985/76985 [==============================] - 5s 65us/step - loss: 1.5314 - acc: 0.8457\n",
      "Epoch 35/50\n",
      "76985/76985 [==============================] - 6s 75us/step - loss: 1.5255 - acc: 0.8456\n",
      "Epoch 36/50\n",
      "76985/76985 [==============================] - 7s 86us/step - loss: 1.5140 - acc: 0.8451\n",
      "Epoch 37/50\n",
      "76985/76985 [==============================] - 5s 69us/step - loss: 1.5081 - acc: 0.8466\n",
      "Epoch 38/50\n",
      "76985/76985 [==============================] - 6s 74us/step - loss: 1.4986 - acc: 0.8463\n",
      "Epoch 39/50\n",
      "76985/76985 [==============================] - 7s 90us/step - loss: 1.4954 - acc: 0.8459\n",
      "Epoch 40/50\n",
      "76985/76985 [==============================] - 6s 75us/step - loss: 1.4949 - acc: 0.8461\n",
      "Epoch 41/50\n",
      "76985/76985 [==============================] - 6s 80us/step - loss: 1.4774 - acc: 0.8468\n",
      "Epoch 42/50\n",
      "76985/76985 [==============================] - 6s 83us/step - loss: 1.4736 - acc: 0.8470\n",
      "Epoch 43/50\n",
      "76985/76985 [==============================] - 6s 72us/step - loss: 1.4647 - acc: 0.8467\n",
      "Epoch 44/50\n",
      "76985/76985 [==============================] - 6s 83us/step - loss: 1.4576 - acc: 0.8475\n",
      "Epoch 45/50\n",
      "76985/76985 [==============================] - 7s 90us/step - loss: 1.4535 - acc: 0.8482\n",
      "Epoch 46/50\n",
      "76985/76985 [==============================] - 6s 78us/step - loss: 1.4517 - acc: 0.8467\n",
      "Epoch 47/50\n",
      "76985/76985 [==============================] - 6s 83us/step - loss: 1.4432 - acc: 0.8471\n",
      "Epoch 48/50\n",
      "76985/76985 [==============================] - 5s 71us/step - loss: 1.4390 - acc: 0.8468\n",
      "Epoch 49/50\n",
      "76985/76985 [==============================] - 5s 62us/step - loss: 1.4313 - acc: 0.8478\n",
      "Epoch 50/50\n",
      "76985/76985 [==============================] - 5s 64us/step - loss: 1.4257 - acc: 0.8479\n",
      "Done\n"
     ]
    }
   ],
   "source": [
    "# Single layer, with empty\n",
    "model_s_e = keras.Sequential()\n",
    "model_s_e.add(keras.layers.Dense(units=(inp.shape[1])*2/3 +out.shape[1]+1, activation='relu',input_dim=X_e.shape[1]))\n",
    "model_s_e.add(keras.layers.Dense(units=(inp.shape[1])*2/3 +out.shape[1]+1, activation='relu',input_dim=(inp.shape[1])*2/3 +out.shape[1]+1))\n",
    "model_s_e.add(keras.layers.Dense(units=(inp.shape[1])*2/3 +out.shape[1]+1, activation='relu',input_dim=(inp.shape[1])*2/3 +out.shape[1]+1))\n",
    "model_s_e.add(keras.layers.Dense(units=(out.shape[1]+1), activation='relu',input_dim=(inp.shape[1])*2/3 +out.shape[1]+1))\n",
    "model_s_e.add(keras.layers.Dense(units=out.shape[1]+1, activation='softmax'))\n",
    "model_s_e.compile(loss='categorical_crossentropy', optimizer='sgd',metrics=['accuracy'])\n",
    "model_s_e.fit(X_e,y_e,epochs=50, batch_size=128)\n",
    "print('Done')"
   ]
  },
  {
   "cell_type": "code",
   "execution_count": 11,
   "metadata": {},
   "outputs": [
    {
     "name": "stdout",
     "output_type": "stream",
     "text": [
      "Epoch 1/50\n",
      "76985/76985 [==============================] - 5s 71us/step - loss: 5.3481 - acc: 0.6912\n",
      "Epoch 2/50\n",
      "76985/76985 [==============================] - 7s 86us/step - loss: 3.9121 - acc: 0.7548\n",
      "Epoch 3/50\n",
      "76985/76985 [==============================] - 6s 83us/step - loss: 3.5402 - acc: 0.7741\n",
      "Epoch 4/50\n",
      "76985/76985 [==============================] - 6s 84us/step - loss: 3.3555 - acc: 0.7814\n",
      "Epoch 5/50\n",
      "76985/76985 [==============================] - 6s 83us/step - loss: 3.2380 - acc: 0.7857\n",
      "Epoch 6/50\n",
      "76985/76985 [==============================] - 6s 79us/step - loss: 3.1527 - acc: 0.7877\n",
      "Epoch 7/50\n",
      "76985/76985 [==============================] - 7s 91us/step - loss: 3.0831 - acc: 0.7891\n",
      "Epoch 8/50\n",
      "76985/76985 [==============================] - 6s 79us/step - loss: 3.0266 - acc: 0.7910\n",
      "Epoch 9/50\n",
      "76985/76985 [==============================] - 7s 87us/step - loss: 2.9732 - acc: 0.7912\n",
      "Epoch 10/50\n",
      "76985/76985 [==============================] - 5s 70us/step - loss: 2.9279 - acc: 0.7917\n",
      "Epoch 11/50\n",
      "76985/76985 [==============================] - 5s 64us/step - loss: 2.8895 - acc: 0.7922\n",
      "Epoch 12/50\n",
      "76985/76985 [==============================] - 5s 63us/step - loss: 2.8518 - acc: 0.7928\n",
      "Epoch 13/50\n",
      "76985/76985 [==============================] - 5s 61us/step - loss: 2.8182 - acc: 0.7928\n",
      "Epoch 14/50\n",
      "76985/76985 [==============================] - 5s 64us/step - loss: 2.7854 - acc: 0.7931\n",
      "Epoch 15/50\n",
      "76985/76985 [==============================] - 5s 65us/step - loss: 2.7545 - acc: 0.7933\n",
      "Epoch 16/50\n",
      "76985/76985 [==============================] - 5s 65us/step - loss: 2.7290 - acc: 0.7927\n",
      "Epoch 17/50\n",
      "76985/76985 [==============================] - 5s 63us/step - loss: 2.7028 - acc: 0.7927\n",
      "Epoch 18/50\n",
      "76985/76985 [==============================] - 5s 62us/step - loss: 2.6777 - acc: 0.7936\n",
      "Epoch 19/50\n",
      "76985/76985 [==============================] - 5s 61us/step - loss: 2.6543 - acc: 0.7933\n",
      "Epoch 20/50\n",
      "76985/76985 [==============================] - 5s 59us/step - loss: 2.6339 - acc: 0.7936\n",
      "Epoch 21/50\n",
      "76985/76985 [==============================] - 5s 62us/step - loss: 2.6111 - acc: 0.7931\n",
      "Epoch 22/50\n",
      "76985/76985 [==============================] - 5s 59us/step - loss: 2.5942 - acc: 0.7927\n",
      "Epoch 23/50\n",
      "76985/76985 [==============================] - 5s 60us/step - loss: 2.5737 - acc: 0.7925\n",
      "Epoch 24/50\n",
      "76985/76985 [==============================] - 5s 64us/step - loss: 2.5527 - acc: 0.7916\n",
      "Epoch 25/50\n",
      "76985/76985 [==============================] - 5s 61us/step - loss: 2.5381 - acc: 0.7933\n",
      "Epoch 26/50\n",
      "76985/76985 [==============================] - 5s 65us/step - loss: 2.5190 - acc: 0.7921\n",
      "Epoch 27/50\n",
      "76985/76985 [==============================] - 5s 63us/step - loss: 2.5025 - acc: 0.7923\n",
      "Epoch 28/50\n",
      "76985/76985 [==============================] - 5s 69us/step - loss: 2.4898 - acc: 0.7919\n",
      "Epoch 29/50\n",
      "76985/76985 [==============================] - 5s 65us/step - loss: 2.4739 - acc: 0.7919\n",
      "Epoch 30/50\n",
      "76985/76985 [==============================] - 5s 65us/step - loss: 2.4583 - acc: 0.7920\n",
      "Epoch 31/50\n",
      "76985/76985 [==============================] - 5s 62us/step - loss: 2.4534 - acc: 0.7910\n",
      "Epoch 32/50\n",
      "76985/76985 [==============================] - 5s 62us/step - loss: 2.4360 - acc: 0.7915\n",
      "Epoch 33/50\n",
      "76985/76985 [==============================] - 5s 62us/step - loss: 2.4204 - acc: 0.7917\n",
      "Epoch 34/50\n",
      "76985/76985 [==============================] - 5s 64us/step - loss: 2.4082 - acc: 0.7910\n",
      "Epoch 35/50\n",
      "76985/76985 [==============================] - 5s 63us/step - loss: 2.3983 - acc: 0.7915\n",
      "Epoch 36/50\n",
      "76985/76985 [==============================] - 5s 61us/step - loss: 2.3837 - acc: 0.7906\n",
      "Epoch 37/50\n",
      "76985/76985 [==============================] - 5s 59us/step - loss: 2.3742 - acc: 0.7915\n",
      "Epoch 38/50\n",
      "76985/76985 [==============================] - 5s 60us/step - loss: 2.3607 - acc: 0.7913\n",
      "Epoch 39/50\n",
      "76985/76985 [==============================] - 5s 59us/step - loss: 2.3533 - acc: 0.7897\n",
      "Epoch 40/50\n",
      "76985/76985 [==============================] - 5s 59us/step - loss: 2.3430 - acc: 0.7897\n",
      "Epoch 41/50\n",
      "76985/76985 [==============================] - 5s 61us/step - loss: 2.3300 - acc: 0.7909\n",
      "Epoch 42/50\n",
      "76985/76985 [==============================] - 5s 60us/step - loss: 2.3205 - acc: 0.7901\n",
      "Epoch 43/50\n",
      "76985/76985 [==============================] - 5s 70us/step - loss: 2.3122 - acc: 0.7899\n",
      "Epoch 44/50\n",
      "76985/76985 [==============================] - 5s 60us/step - loss: 2.3007 - acc: 0.7885\n",
      "Epoch 45/50\n",
      "76985/76985 [==============================] - 4s 58us/step - loss: 2.2926 - acc: 0.7883\n",
      "Epoch 46/50\n",
      "76985/76985 [==============================] - 5s 60us/step - loss: 2.2834 - acc: 0.7889\n",
      "Epoch 47/50\n",
      "76985/76985 [==============================] - 5s 59us/step - loss: 2.2780 - acc: 0.7894\n",
      "Epoch 48/50\n",
      "76985/76985 [==============================] - 4s 57us/step - loss: 2.2682 - acc: 0.7888\n",
      "Epoch 49/50\n",
      "76985/76985 [==============================] - 5s 62us/step - loss: 2.2629 - acc: 0.7890\n",
      "Epoch 50/50\n",
      "76985/76985 [==============================] - 5s 60us/step - loss: 2.2567 - acc: 0.7894\n"
     ]
    },
    {
     "data": {
      "text/plain": [
       "<tensorflow.python.keras.callbacks.History at 0x7f4b7d09b278>"
      ]
     },
     "execution_count": 11,
     "metadata": {},
     "output_type": "execute_result"
    }
   ],
   "source": [
    "# Single layer, one hot encoding for notes\n",
    "model_s_h = keras.Sequential()\n",
    "model_s_h.add(keras.layers.Dense(units=inp.shape[1]*2/3+y_h.shape[1], activation='relu',input_dim=X_h.shape[1]))\n",
    "model_s_h.add(keras.layers.Dense(units=inp.shape[1]*2/3+y_h.shape[1], activation='relu',input_dim=inp.shape[1]*2/3+y_h.shape[1]))\n",
    "model_s_h.add(keras.layers.Dense(units=inp.shape[1]*2/3+y_h.shape[1], activation='relu',input_dim=inp.shape[1]*2/3+y_h.shape[1]))\n",
    "model_s_h.add(keras.layers.Dense(units=y_h.shape[1], activation='relu',input_dim=inp.shape[1]*2/3+y_h.shape[1]))\n",
    "model_s_h.add(keras.layers.Dense(units=y_h.shape[1], activation='softmax'))\n",
    "model_s_h.compile(loss='categorical_crossentropy', optimizer='sgd',metrics=['accuracy'])\n",
    "model_s_h.fit(X_h,y_h,epochs=50, batch_size=128)"
   ]
  },
  {
   "cell_type": "markdown",
   "metadata": {},
   "source": [
    "## Save Models"
   ]
  },
  {
   "cell_type": "code",
   "execution_count": 12,
   "metadata": {},
   "outputs": [],
   "source": [
    "model_out_path_n = os.path.join(os.getcwd(),'Models/4 Layers/m_n.h5')\n",
    "model_s_n.save(model_out_path_n)\n",
    "\n",
    "model_out_path_e = os.path.join(os.getcwd(),'Models/4 Layers/m_e.h5')\n",
    "model_s_e.save(model_out_path_e)\n",
    "\n",
    "model_out_path_h = os.path.join(os.getcwd(),'Models/4 Layers/m_h.h5')\n",
    "model_s_h.save(model_out_path_h)\n",
    "\n"
   ]
  }
 ],
 "metadata": {
  "kernelspec": {
   "display_name": "Python 3",
   "language": "python",
   "name": "python3"
  },
  "language_info": {
   "codemirror_mode": {
    "name": "ipython",
    "version": 3
   },
   "file_extension": ".py",
   "mimetype": "text/x-python",
   "name": "python",
   "nbconvert_exporter": "python",
   "pygments_lexer": "ipython3",
   "version": "3.6.6"
  }
 },
 "nbformat": 4,
 "nbformat_minor": 2
}
